{
 "cells": [
  {
   "cell_type": "markdown",
   "metadata": {},
   "source": [
    "# Set-up"
   ]
  },
  {
   "cell_type": "markdown",
   "metadata": {},
   "source": [
    "## Imports"
   ]
  },
  {
   "cell_type": "code",
   "execution_count": 1,
   "metadata": {},
   "outputs": [],
   "source": [
    "import sys\n",
    "import os\n",
    "sys.path.append(os.path.abspath('..')) # in order to import from python files not in the same dir\n",
    "\n",
    "import pandas as pd\n",
    "import numpy as np\n",
    "import pickle\n",
    "import matplotlib.pyplot as plt\n",
    "import seaborn as sns\n",
    "from datetime import datetime, timedelta\n",
    "from tqdm import tqdm\n",
    "from utils import normalize_curves, functional_norm, initialize_C\n",
    "from PenNMF_iter import initialize_C_gaussian_prior\n",
    "from scipy.linalg import block_diag\n",
    "from sklearn.decomposition import NMF\n",
    "\n",
    "# HOTFIX Parse IMCEI\n",
    "import locale\n",
    "locale.setlocale(locale.LC_ALL, 'it_IT')\n",
    "\n",
    "%load_ext autoreload\n",
    "%autoreload 1\n",
    "\n",
    "%aimport PenNMF\n",
    "%aimport utils\n",
    "from utils import plot_components, month_to_season\n",
    "from PenNMF import PenNMF, _loss_nmf, _loss_constraint_c, _loss_constraint_s\n",
    "\n",
    "import plotly.graph_objs as go\n",
    "import plotly.express as px\n",
    "import plotly.io as pio"
   ]
  },
  {
   "cell_type": "code",
   "execution_count": 2,
   "metadata": {},
   "outputs": [],
   "source": [
    "sns.set_theme()\n",
    "pd.options.mode.chained_assignment = None"
   ]
  },
  {
   "cell_type": "markdown",
   "metadata": {},
   "source": [
    "## Parameters"
   ]
  },
  {
   "cell_type": "code",
   "execution_count": 3,
   "metadata": {},
   "outputs": [],
   "source": [
    "specific = '_Italy'\n",
    "train_years = ['2021']\n",
    "test_years = ['2022', '2023']"
   ]
  },
  {
   "cell_type": "markdown",
   "metadata": {},
   "source": [
    "## Functions"
   ]
  },
  {
   "cell_type": "code",
   "execution_count": null,
   "metadata": {},
   "outputs": [],
   "source": []
  },
  {
   "cell_type": "markdown",
   "metadata": {},
   "source": [
    "# Create data matrix $X$"
   ]
  },
  {
   "cell_type": "code",
   "execution_count": 4,
   "metadata": {},
   "outputs": [
    {
     "name": "stdout",
     "output_type": "stream",
     "text": [
      "2191\n"
     ]
    },
    {
     "data": {
      "text/html": [
       "<div>\n",
       "<style scoped>\n",
       "    .dataframe tbody tr th:only-of-type {\n",
       "        vertical-align: middle;\n",
       "    }\n",
       "\n",
       "    .dataframe tbody tr th {\n",
       "        vertical-align: top;\n",
       "    }\n",
       "\n",
       "    .dataframe thead th {\n",
       "        text-align: right;\n",
       "    }\n",
       "</style>\n",
       "<table border=\"1\" class=\"dataframe\">\n",
       "  <thead>\n",
       "    <tr style=\"text-align: right;\">\n",
       "      <th></th>\n",
       "      <th>0</th>\n",
       "      <th>1</th>\n",
       "      <th>2</th>\n",
       "      <th>3</th>\n",
       "      <th>4</th>\n",
       "      <th>5</th>\n",
       "      <th>6</th>\n",
       "      <th>7</th>\n",
       "      <th>8</th>\n",
       "      <th>9</th>\n",
       "      <th>...</th>\n",
       "      <th>15</th>\n",
       "      <th>16</th>\n",
       "      <th>17</th>\n",
       "      <th>18</th>\n",
       "      <th>19</th>\n",
       "      <th>20</th>\n",
       "      <th>21</th>\n",
       "      <th>22</th>\n",
       "      <th>23</th>\n",
       "      <th>24</th>\n",
       "    </tr>\n",
       "  </thead>\n",
       "  <tbody>\n",
       "    <tr>\n",
       "      <th>Italy_2018-01-01_Holiday</th>\n",
       "      <td>24.743000</td>\n",
       "      <td>23.797000</td>\n",
       "      <td>22.175999</td>\n",
       "      <td>21.042000</td>\n",
       "      <td>20.146999</td>\n",
       "      <td>20.079000</td>\n",
       "      <td>20.942001</td>\n",
       "      <td>21.712000</td>\n",
       "      <td>21.969999</td>\n",
       "      <td>22.967000</td>\n",
       "      <td>...</td>\n",
       "      <td>26.643000</td>\n",
       "      <td>26.807000</td>\n",
       "      <td>29.947001</td>\n",
       "      <td>31.103000</td>\n",
       "      <td>31.537000</td>\n",
       "      <td>30.804001</td>\n",
       "      <td>29.621000</td>\n",
       "      <td>27.749000</td>\n",
       "      <td>25.388000</td>\n",
       "      <td>22.714001</td>\n",
       "    </tr>\n",
       "    <tr>\n",
       "      <th>Italy_2018-01-02_Working day</th>\n",
       "      <td>22.714001</td>\n",
       "      <td>20.794001</td>\n",
       "      <td>19.802002</td>\n",
       "      <td>19.573002</td>\n",
       "      <td>19.679000</td>\n",
       "      <td>20.891000</td>\n",
       "      <td>24.197999</td>\n",
       "      <td>28.537000</td>\n",
       "      <td>32.988000</td>\n",
       "      <td>37.794999</td>\n",
       "      <td>...</td>\n",
       "      <td>36.511999</td>\n",
       "      <td>37.393000</td>\n",
       "      <td>41.395000</td>\n",
       "      <td>42.362001</td>\n",
       "      <td>42.081001</td>\n",
       "      <td>39.555000</td>\n",
       "      <td>37.163000</td>\n",
       "      <td>33.313000</td>\n",
       "      <td>29.811000</td>\n",
       "      <td>26.314001</td>\n",
       "    </tr>\n",
       "    <tr>\n",
       "      <th>Italy_2018-01-03_Working day</th>\n",
       "      <td>26.314001</td>\n",
       "      <td>24.248999</td>\n",
       "      <td>22.927999</td>\n",
       "      <td>22.537999</td>\n",
       "      <td>22.314001</td>\n",
       "      <td>23.529001</td>\n",
       "      <td>27.206000</td>\n",
       "      <td>32.970999</td>\n",
       "      <td>37.419000</td>\n",
       "      <td>40.908999</td>\n",
       "      <td>...</td>\n",
       "      <td>40.106999</td>\n",
       "      <td>40.662001</td>\n",
       "      <td>44.557000</td>\n",
       "      <td>44.708000</td>\n",
       "      <td>43.818999</td>\n",
       "      <td>41.347000</td>\n",
       "      <td>38.572999</td>\n",
       "      <td>34.229001</td>\n",
       "      <td>30.436999</td>\n",
       "      <td>27.199000</td>\n",
       "    </tr>\n",
       "  </tbody>\n",
       "</table>\n",
       "<p>3 rows × 25 columns</p>\n",
       "</div>"
      ],
      "text/plain": [
       "                                      0          1          2          3  \\\n",
       "Italy_2018-01-01_Holiday      24.743000  23.797000  22.175999  21.042000   \n",
       "Italy_2018-01-02_Working day  22.714001  20.794001  19.802002  19.573002   \n",
       "Italy_2018-01-03_Working day  26.314001  24.248999  22.927999  22.537999   \n",
       "\n",
       "                                      4          5          6          7  \\\n",
       "Italy_2018-01-01_Holiday      20.146999  20.079000  20.942001  21.712000   \n",
       "Italy_2018-01-02_Working day  19.679000  20.891000  24.197999  28.537000   \n",
       "Italy_2018-01-03_Working day  22.314001  23.529001  27.206000  32.970999   \n",
       "\n",
       "                                      8          9  ...         15         16  \\\n",
       "Italy_2018-01-01_Holiday      21.969999  22.967000  ...  26.643000  26.807000   \n",
       "Italy_2018-01-02_Working day  32.988000  37.794999  ...  36.511999  37.393000   \n",
       "Italy_2018-01-03_Working day  37.419000  40.908999  ...  40.106999  40.662001   \n",
       "\n",
       "                                     17         18         19         20  \\\n",
       "Italy_2018-01-01_Holiday      29.947001  31.103000  31.537000  30.804001   \n",
       "Italy_2018-01-02_Working day  41.395000  42.362001  42.081001  39.555000   \n",
       "Italy_2018-01-03_Working day  44.557000  44.708000  43.818999  41.347000   \n",
       "\n",
       "                                     21         22         23         24  \n",
       "Italy_2018-01-01_Holiday      29.621000  27.749000  25.388000  22.714001  \n",
       "Italy_2018-01-02_Working day  37.163000  33.313000  29.811000  26.314001  \n",
       "Italy_2018-01-03_Working day  38.572999  34.229001  30.436999  27.199000  \n",
       "\n",
       "[3 rows x 25 columns]"
      ]
     },
     "execution_count": 4,
     "metadata": {},
     "output_type": "execute_result"
    }
   ],
   "source": [
    "infile = f'../data/2_processed/daily_curves{specific}.csv'\n",
    "# infile = 'data/2_processed/daily_curves_Italy_smoothed_15min.csv'\n",
    "input_df = pd.read_csv(infile, index_col=0)\n",
    "# Convert everything in GWh\n",
    "input_df = input_df / 1000\n",
    "print(len(input_df))\n",
    "input_df.head(3)"
   ]
  },
  {
   "cell_type": "code",
   "execution_count": 5,
   "metadata": {},
   "outputs": [
    {
     "name": "stdout",
     "output_type": "stream",
     "text": [
      "1461\n"
     ]
    },
    {
     "data": {
      "text/html": [
       "<div>\n",
       "<style scoped>\n",
       "    .dataframe tbody tr th:only-of-type {\n",
       "        vertical-align: middle;\n",
       "    }\n",
       "\n",
       "    .dataframe tbody tr th {\n",
       "        vertical-align: top;\n",
       "    }\n",
       "\n",
       "    .dataframe thead th {\n",
       "        text-align: right;\n",
       "    }\n",
       "</style>\n",
       "<table border=\"1\" class=\"dataframe\">\n",
       "  <thead>\n",
       "    <tr style=\"text-align: right;\">\n",
       "      <th></th>\n",
       "      <th>0</th>\n",
       "      <th>1</th>\n",
       "      <th>2</th>\n",
       "      <th>3</th>\n",
       "      <th>4</th>\n",
       "      <th>5</th>\n",
       "      <th>6</th>\n",
       "      <th>7</th>\n",
       "      <th>8</th>\n",
       "      <th>9</th>\n",
       "      <th>...</th>\n",
       "      <th>20</th>\n",
       "      <th>21</th>\n",
       "      <th>22</th>\n",
       "      <th>23</th>\n",
       "      <th>24</th>\n",
       "      <th>region</th>\n",
       "      <th>year</th>\n",
       "      <th>month</th>\n",
       "      <th>daytype</th>\n",
       "      <th>cons</th>\n",
       "    </tr>\n",
       "  </thead>\n",
       "  <tbody>\n",
       "    <tr>\n",
       "      <th>Italy_2020-01-01_Holiday</th>\n",
       "      <td>24.300000</td>\n",
       "      <td>23.308000</td>\n",
       "      <td>22.157999</td>\n",
       "      <td>20.786000</td>\n",
       "      <td>19.891000</td>\n",
       "      <td>19.947001</td>\n",
       "      <td>20.578999</td>\n",
       "      <td>21.473999</td>\n",
       "      <td>21.413001</td>\n",
       "      <td>22.792</td>\n",
       "      <td>...</td>\n",
       "      <td>30.347000</td>\n",
       "      <td>29.180</td>\n",
       "      <td>27.406000</td>\n",
       "      <td>24.879000</td>\n",
       "      <td>22.212999</td>\n",
       "      <td>Italy</td>\n",
       "      <td>2020</td>\n",
       "      <td>01</td>\n",
       "      <td>Holiday</td>\n",
       "      <td>592.946498</td>\n",
       "    </tr>\n",
       "    <tr>\n",
       "      <th>Italy_2020-01-02_Working day</th>\n",
       "      <td>22.212999</td>\n",
       "      <td>20.395000</td>\n",
       "      <td>19.276000</td>\n",
       "      <td>19.059001</td>\n",
       "      <td>19.167999</td>\n",
       "      <td>20.177000</td>\n",
       "      <td>23.560000</td>\n",
       "      <td>28.026999</td>\n",
       "      <td>31.600000</td>\n",
       "      <td>35.583</td>\n",
       "      <td>...</td>\n",
       "      <td>38.273000</td>\n",
       "      <td>35.756</td>\n",
       "      <td>32.371000</td>\n",
       "      <td>28.863001</td>\n",
       "      <td>25.324000</td>\n",
       "      <td>Italy</td>\n",
       "      <td>2020</td>\n",
       "      <td>01</td>\n",
       "      <td>Working day</td>\n",
       "      <td>744.497504</td>\n",
       "    </tr>\n",
       "    <tr>\n",
       "      <th>Italy_2020-01-03_Working day</th>\n",
       "      <td>25.324000</td>\n",
       "      <td>23.275001</td>\n",
       "      <td>21.741000</td>\n",
       "      <td>21.228999</td>\n",
       "      <td>21.438000</td>\n",
       "      <td>22.064999</td>\n",
       "      <td>25.270000</td>\n",
       "      <td>30.257000</td>\n",
       "      <td>34.130000</td>\n",
       "      <td>37.619</td>\n",
       "      <td>...</td>\n",
       "      <td>38.369999</td>\n",
       "      <td>35.184</td>\n",
       "      <td>31.951999</td>\n",
       "      <td>28.347001</td>\n",
       "      <td>25.134999</td>\n",
       "      <td>Italy</td>\n",
       "      <td>2020</td>\n",
       "      <td>01</td>\n",
       "      <td>Working day</td>\n",
       "      <td>778.622499</td>\n",
       "    </tr>\n",
       "  </tbody>\n",
       "</table>\n",
       "<p>3 rows × 30 columns</p>\n",
       "</div>"
      ],
      "text/plain": [
       "                                      0          1          2          3  \\\n",
       "Italy_2020-01-01_Holiday      24.300000  23.308000  22.157999  20.786000   \n",
       "Italy_2020-01-02_Working day  22.212999  20.395000  19.276000  19.059001   \n",
       "Italy_2020-01-03_Working day  25.324000  23.275001  21.741000  21.228999   \n",
       "\n",
       "                                      4          5          6          7  \\\n",
       "Italy_2020-01-01_Holiday      19.891000  19.947001  20.578999  21.473999   \n",
       "Italy_2020-01-02_Working day  19.167999  20.177000  23.560000  28.026999   \n",
       "Italy_2020-01-03_Working day  21.438000  22.064999  25.270000  30.257000   \n",
       "\n",
       "                                      8       9  ...         20      21  \\\n",
       "Italy_2020-01-01_Holiday      21.413001  22.792  ...  30.347000  29.180   \n",
       "Italy_2020-01-02_Working day  31.600000  35.583  ...  38.273000  35.756   \n",
       "Italy_2020-01-03_Working day  34.130000  37.619  ...  38.369999  35.184   \n",
       "\n",
       "                                     22         23         24  region  year  \\\n",
       "Italy_2020-01-01_Holiday      27.406000  24.879000  22.212999   Italy  2020   \n",
       "Italy_2020-01-02_Working day  32.371000  28.863001  25.324000   Italy  2020   \n",
       "Italy_2020-01-03_Working day  31.951999  28.347001  25.134999   Italy  2020   \n",
       "\n",
       "                              month      daytype        cons  \n",
       "Italy_2020-01-01_Holiday         01      Holiday  592.946498  \n",
       "Italy_2020-01-02_Working day     01  Working day  744.497504  \n",
       "Italy_2020-01-03_Working day     01  Working day  778.622499  \n",
       "\n",
       "[3 rows x 30 columns]"
      ]
     },
     "execution_count": 5,
     "metadata": {},
     "output_type": "execute_result"
    }
   ],
   "source": [
    "unit_info = input_df.index.str.extract(r'^(?P<region>[\\w.]+)_(?P<year>\\d{4})-(?P<month>\\d{2})-\\d{2}_(?P<daytype>[\\w ]+)$').set_index(input_df.index)\n",
    "h = 24 / (input_df.shape[1]-1)\n",
    "unit_info['cons'] = input_df.apply(lambda row: functional_norm(row.values, h), axis=1)\n",
    "df = pd.concat([input_df, unit_info], axis=1)\n",
    "# Drop years for which we don't have indicators\n",
    "df = df[df.year.astype(int) > 2019]\n",
    "df_train = df[df.year.isin(train_years)]\n",
    "df_test = df[df.year.isin(test_years)]\n",
    "print(len(df))\n",
    "df.head(3)"
   ]
  },
  {
   "cell_type": "code",
   "execution_count": 6,
   "metadata": {},
   "outputs": [
    {
     "data": {
      "text/html": [
       "<div>\n",
       "<style scoped>\n",
       "    .dataframe tbody tr th:only-of-type {\n",
       "        vertical-align: middle;\n",
       "    }\n",
       "\n",
       "    .dataframe tbody tr th {\n",
       "        vertical-align: top;\n",
       "    }\n",
       "\n",
       "    .dataframe thead th {\n",
       "        text-align: right;\n",
       "    }\n",
       "</style>\n",
       "<table border=\"1\" class=\"dataframe\">\n",
       "  <thead>\n",
       "    <tr style=\"text-align: right;\">\n",
       "      <th></th>\n",
       "      <th>0</th>\n",
       "      <th>1</th>\n",
       "      <th>2</th>\n",
       "      <th>3</th>\n",
       "      <th>4</th>\n",
       "      <th>5</th>\n",
       "      <th>6</th>\n",
       "      <th>7</th>\n",
       "      <th>8</th>\n",
       "      <th>9</th>\n",
       "      <th>...</th>\n",
       "      <th>15</th>\n",
       "      <th>16</th>\n",
       "      <th>17</th>\n",
       "      <th>18</th>\n",
       "      <th>19</th>\n",
       "      <th>20</th>\n",
       "      <th>21</th>\n",
       "      <th>22</th>\n",
       "      <th>23</th>\n",
       "      <th>24</th>\n",
       "    </tr>\n",
       "  </thead>\n",
       "  <tbody>\n",
       "    <tr>\n",
       "      <th>Italy_2021-01-01_Holiday</th>\n",
       "      <td>0.040804</td>\n",
       "      <td>0.038742</td>\n",
       "      <td>0.035854</td>\n",
       "      <td>0.033708</td>\n",
       "      <td>0.032238</td>\n",
       "      <td>0.032600</td>\n",
       "      <td>0.034120</td>\n",
       "      <td>0.035383</td>\n",
       "      <td>0.035496</td>\n",
       "      <td>0.038184</td>\n",
       "      <td>...</td>\n",
       "      <td>0.042573</td>\n",
       "      <td>0.043251</td>\n",
       "      <td>0.047590</td>\n",
       "      <td>0.048918</td>\n",
       "      <td>0.050168</td>\n",
       "      <td>0.050272</td>\n",
       "      <td>0.048012</td>\n",
       "      <td>0.045464</td>\n",
       "      <td>0.041705</td>\n",
       "      <td>0.038179</td>\n",
       "    </tr>\n",
       "    <tr>\n",
       "      <th>Italy_2021-01-02_Saturday</th>\n",
       "      <td>0.034414</td>\n",
       "      <td>0.031907</td>\n",
       "      <td>0.030306</td>\n",
       "      <td>0.029319</td>\n",
       "      <td>0.029488</td>\n",
       "      <td>0.030321</td>\n",
       "      <td>0.033353</td>\n",
       "      <td>0.036153</td>\n",
       "      <td>0.038945</td>\n",
       "      <td>0.042298</td>\n",
       "      <td>...</td>\n",
       "      <td>0.044727</td>\n",
       "      <td>0.045919</td>\n",
       "      <td>0.050289</td>\n",
       "      <td>0.052199</td>\n",
       "      <td>0.053566</td>\n",
       "      <td>0.051826</td>\n",
       "      <td>0.048080</td>\n",
       "      <td>0.044351</td>\n",
       "      <td>0.039698</td>\n",
       "      <td>0.035197</td>\n",
       "    </tr>\n",
       "    <tr>\n",
       "      <th>Italy_2021-01-03_Holiday</th>\n",
       "      <td>0.037353</td>\n",
       "      <td>0.034144</td>\n",
       "      <td>0.032665</td>\n",
       "      <td>0.031295</td>\n",
       "      <td>0.030793</td>\n",
       "      <td>0.031833</td>\n",
       "      <td>0.033681</td>\n",
       "      <td>0.035499</td>\n",
       "      <td>0.037216</td>\n",
       "      <td>0.040036</td>\n",
       "      <td>...</td>\n",
       "      <td>0.043765</td>\n",
       "      <td>0.044670</td>\n",
       "      <td>0.049144</td>\n",
       "      <td>0.051261</td>\n",
       "      <td>0.052497</td>\n",
       "      <td>0.052119</td>\n",
       "      <td>0.048489</td>\n",
       "      <td>0.045250</td>\n",
       "      <td>0.041502</td>\n",
       "      <td>0.037208</td>\n",
       "    </tr>\n",
       "    <tr>\n",
       "      <th>Italy_2021-01-04_Monday</th>\n",
       "      <td>0.029707</td>\n",
       "      <td>0.027360</td>\n",
       "      <td>0.026213</td>\n",
       "      <td>0.026345</td>\n",
       "      <td>0.026738</td>\n",
       "      <td>0.027907</td>\n",
       "      <td>0.031743</td>\n",
       "      <td>0.037142</td>\n",
       "      <td>0.042662</td>\n",
       "      <td>0.047633</td>\n",
       "      <td>...</td>\n",
       "      <td>0.049228</td>\n",
       "      <td>0.049020</td>\n",
       "      <td>0.052170</td>\n",
       "      <td>0.052683</td>\n",
       "      <td>0.052748</td>\n",
       "      <td>0.049429</td>\n",
       "      <td>0.045780</td>\n",
       "      <td>0.041584</td>\n",
       "      <td>0.037839</td>\n",
       "      <td>0.033934</td>\n",
       "    </tr>\n",
       "    <tr>\n",
       "      <th>Italy_2021-01-05_Working day</th>\n",
       "      <td>0.032900</td>\n",
       "      <td>0.030340</td>\n",
       "      <td>0.028683</td>\n",
       "      <td>0.028162</td>\n",
       "      <td>0.028115</td>\n",
       "      <td>0.029145</td>\n",
       "      <td>0.032760</td>\n",
       "      <td>0.038128</td>\n",
       "      <td>0.043562</td>\n",
       "      <td>0.047061</td>\n",
       "      <td>...</td>\n",
       "      <td>0.048094</td>\n",
       "      <td>0.048353</td>\n",
       "      <td>0.051152</td>\n",
       "      <td>0.051067</td>\n",
       "      <td>0.050467</td>\n",
       "      <td>0.048227</td>\n",
       "      <td>0.044795</td>\n",
       "      <td>0.041040</td>\n",
       "      <td>0.036631</td>\n",
       "      <td>0.032362</td>\n",
       "    </tr>\n",
       "  </tbody>\n",
       "</table>\n",
       "<p>5 rows × 25 columns</p>\n",
       "</div>"
      ],
      "text/plain": [
       "                                     0         1         2         3  \\\n",
       "Italy_2021-01-01_Holiday      0.040804  0.038742  0.035854  0.033708   \n",
       "Italy_2021-01-02_Saturday     0.034414  0.031907  0.030306  0.029319   \n",
       "Italy_2021-01-03_Holiday      0.037353  0.034144  0.032665  0.031295   \n",
       "Italy_2021-01-04_Monday       0.029707  0.027360  0.026213  0.026345   \n",
       "Italy_2021-01-05_Working day  0.032900  0.030340  0.028683  0.028162   \n",
       "\n",
       "                                     4         5         6         7  \\\n",
       "Italy_2021-01-01_Holiday      0.032238  0.032600  0.034120  0.035383   \n",
       "Italy_2021-01-02_Saturday     0.029488  0.030321  0.033353  0.036153   \n",
       "Italy_2021-01-03_Holiday      0.030793  0.031833  0.033681  0.035499   \n",
       "Italy_2021-01-04_Monday       0.026738  0.027907  0.031743  0.037142   \n",
       "Italy_2021-01-05_Working day  0.028115  0.029145  0.032760  0.038128   \n",
       "\n",
       "                                     8         9  ...        15        16  \\\n",
       "Italy_2021-01-01_Holiday      0.035496  0.038184  ...  0.042573  0.043251   \n",
       "Italy_2021-01-02_Saturday     0.038945  0.042298  ...  0.044727  0.045919   \n",
       "Italy_2021-01-03_Holiday      0.037216  0.040036  ...  0.043765  0.044670   \n",
       "Italy_2021-01-04_Monday       0.042662  0.047633  ...  0.049228  0.049020   \n",
       "Italy_2021-01-05_Working day  0.043562  0.047061  ...  0.048094  0.048353   \n",
       "\n",
       "                                    17        18        19        20  \\\n",
       "Italy_2021-01-01_Holiday      0.047590  0.048918  0.050168  0.050272   \n",
       "Italy_2021-01-02_Saturday     0.050289  0.052199  0.053566  0.051826   \n",
       "Italy_2021-01-03_Holiday      0.049144  0.051261  0.052497  0.052119   \n",
       "Italy_2021-01-04_Monday       0.052170  0.052683  0.052748  0.049429   \n",
       "Italy_2021-01-05_Working day  0.051152  0.051067  0.050467  0.048227   \n",
       "\n",
       "                                    21        22        23        24  \n",
       "Italy_2021-01-01_Holiday      0.048012  0.045464  0.041705  0.038179  \n",
       "Italy_2021-01-02_Saturday     0.048080  0.044351  0.039698  0.035197  \n",
       "Italy_2021-01-03_Holiday      0.048489  0.045250  0.041502  0.037208  \n",
       "Italy_2021-01-04_Monday       0.045780  0.041584  0.037839  0.033934  \n",
       "Italy_2021-01-05_Working day  0.044795  0.041040  0.036631  0.032362  \n",
       "\n",
       "[5 rows x 25 columns]"
      ]
     },
     "execution_count": 6,
     "metadata": {},
     "output_type": "execute_result"
    }
   ],
   "source": [
    "X_train = df_train.drop(unit_info.columns, axis=1)\n",
    "X_test = df_test.drop(unit_info.columns, axis=1)\n",
    "X_train = normalize_curves(X_train)\n",
    "X_test = normalize_curves(X_test)\n",
    "X_train.head()"
   ]
  },
  {
   "cell_type": "code",
   "execution_count": 7,
   "metadata": {},
   "outputs": [],
   "source": [
    "X_test.to_pickle('../data/2_processed/PenNMF/X_{}.pkl'.format('_'.join(test_years)))"
   ]
  },
  {
   "cell_type": "code",
   "execution_count": 8,
   "metadata": {},
   "outputs": [
    {
     "data": {
      "text/html": [
       "<div>\n",
       "<style scoped>\n",
       "    .dataframe tbody tr th:only-of-type {\n",
       "        vertical-align: middle;\n",
       "    }\n",
       "\n",
       "    .dataframe tbody tr th {\n",
       "        vertical-align: top;\n",
       "    }\n",
       "\n",
       "    .dataframe thead th {\n",
       "        text-align: right;\n",
       "    }\n",
       "</style>\n",
       "<table border=\"1\" class=\"dataframe\">\n",
       "  <thead>\n",
       "    <tr style=\"text-align: right;\">\n",
       "      <th></th>\n",
       "      <th>Domestico</th>\n",
       "      <th>Industria</th>\n",
       "      <th>Servizi</th>\n",
       "    </tr>\n",
       "    <tr>\n",
       "      <th>Year</th>\n",
       "      <th></th>\n",
       "      <th></th>\n",
       "      <th></th>\n",
       "    </tr>\n",
       "  </thead>\n",
       "  <tbody>\n",
       "    <tr>\n",
       "      <th>2020</th>\n",
       "      <td>70346.781377</td>\n",
       "      <td>139954.732220</td>\n",
       "      <td>91238.239988</td>\n",
       "    </tr>\n",
       "    <tr>\n",
       "      <th>2021</th>\n",
       "      <td>70928.897300</td>\n",
       "      <td>150696.258135</td>\n",
       "      <td>96657.697020</td>\n",
       "    </tr>\n",
       "    <tr>\n",
       "      <th>2022</th>\n",
       "      <td>68793.289167</td>\n",
       "      <td>145668.191390</td>\n",
       "      <td>100961.844908</td>\n",
       "    </tr>\n",
       "    <tr>\n",
       "      <th>2023</th>\n",
       "      <td>67161.924142</td>\n",
       "      <td>140246.809266</td>\n",
       "      <td>100516.753981</td>\n",
       "    </tr>\n",
       "  </tbody>\n",
       "</table>\n",
       "</div>"
      ],
      "text/plain": [
       "         Domestico      Industria        Servizi\n",
       "Year                                            \n",
       "2020  70346.781377  139954.732220   91238.239988\n",
       "2021  70928.897300  150696.258135   96657.697020\n",
       "2022  68793.289167  145668.191390  100961.844908\n",
       "2023  67161.924142  140246.809266  100516.753981"
      ]
     },
     "execution_count": 8,
     "metadata": {},
     "output_type": "execute_result"
    }
   ],
   "source": [
    "cons_df = pd.read_excel('../data/1_input/consumption/consumption.xlsx', index_col=0)\n",
    "cons_df['Industria'] = cons_df['Industria'] + cons_df['Agricoltura'] # We put agricoltura sector in the industrial one\n",
    "cons_df.drop('Agricoltura', axis=1, inplace=True)\n",
    "\n",
    "# Add 2023: CAUTION, they are only estimates\n",
    "cons_2023 = pd.read_excel('../data/1_input/consumption/Stima consumi annuario 2023.xlsx', skiprows=1, index_col=0, usecols=[1,2]).drop('Totale')\n",
    "cons_2023.index = cons_2023.index.str.replace('AGRICOLTURA', 'INDUSTRIA').str.capitalize().str.strip() # We put agricoltura sector in the industrial one\n",
    "cons_2023 = cons_2023.groupby(cons_2023.index).sum()\n",
    "\n",
    "cons_df.loc[2023, :] = cons_2023['2023 Annuario']\n",
    "\n",
    "# Align with the consumption computed from the load data\n",
    "uncorrected_total = cons_df[['Servizi', 'Industria', 'Domestico']].sum(axis=1).values\n",
    "corrected_total = df.groupby('year')['cons'].sum().values\n",
    "cons_df = cons_df.mul(corrected_total / uncorrected_total, axis=0)\n",
    "cons_df"
   ]
  },
  {
   "cell_type": "markdown",
   "metadata": {},
   "source": [
    "# Create indicators matrix $\\mathrm{Y}$"
   ]
  },
  {
   "cell_type": "code",
   "execution_count": 28,
   "metadata": {},
   "outputs": [
    {
     "data": {
      "text/html": [
       "<div>\n",
       "<style scoped>\n",
       "    .dataframe tbody tr th:only-of-type {\n",
       "        vertical-align: middle;\n",
       "    }\n",
       "\n",
       "    .dataframe tbody tr th {\n",
       "        vertical-align: top;\n",
       "    }\n",
       "\n",
       "    .dataframe thead th {\n",
       "        text-align: right;\n",
       "    }\n",
       "</style>\n",
       "<table border=\"1\" class=\"dataframe\">\n",
       "  <thead>\n",
       "    <tr style=\"text-align: right;\">\n",
       "      <th></th>\n",
       "      <th>IMCEI</th>\n",
       "      <th>IMSER</th>\n",
       "      <th>EnelDom</th>\n",
       "    </tr>\n",
       "    <tr>\n",
       "      <th>Mese</th>\n",
       "      <th></th>\n",
       "      <th></th>\n",
       "      <th></th>\n",
       "    </tr>\n",
       "  </thead>\n",
       "  <tbody>\n",
       "    <tr>\n",
       "      <th>2020-01-01</th>\n",
       "      <td>95.501727</td>\n",
       "      <td>6767.710901</td>\n",
       "      <td>4741.474351</td>\n",
       "    </tr>\n",
       "    <tr>\n",
       "      <th>2020-02-01</th>\n",
       "      <td>102.158558</td>\n",
       "      <td>6108.615709</td>\n",
       "      <td>4120.931091</td>\n",
       "    </tr>\n",
       "    <tr>\n",
       "      <th>2020-03-01</th>\n",
       "      <td>83.918607</td>\n",
       "      <td>5072.078974</td>\n",
       "      <td>4571.397146</td>\n",
       "    </tr>\n",
       "    <tr>\n",
       "      <th>2020-04-01</th>\n",
       "      <td>67.621478</td>\n",
       "      <td>4106.738593</td>\n",
       "      <td>4056.375574</td>\n",
       "    </tr>\n",
       "    <tr>\n",
       "      <th>2020-05-01</th>\n",
       "      <td>98.087167</td>\n",
       "      <td>4941.189899</td>\n",
       "      <td>3817.225967</td>\n",
       "    </tr>\n",
       "  </tbody>\n",
       "</table>\n",
       "</div>"
      ],
      "text/plain": [
       "                 IMCEI        IMSER      EnelDom\n",
       "Mese                                            \n",
       "2020-01-01   95.501727  6767.710901  4741.474351\n",
       "2020-02-01  102.158558  6108.615709  4120.931091\n",
       "2020-03-01   83.918607  5072.078974  4571.397146\n",
       "2020-04-01   67.621478  4106.738593  4056.375574\n",
       "2020-05-01   98.087167  4941.189899  3817.225967"
      ]
     },
     "execution_count": 28,
     "metadata": {},
     "output_type": "execute_result"
    }
   ],
   "source": [
    "imser = pd.read_excel('../data/1_input/indicators/IMSER2.xlsx')\n",
    "imser = imser.set_index('Mese').rename({'IMSER (GWh)': 'IMSER'}, axis=1) # We don't have data for this year\n",
    "\n",
    "imcei = pd.read_excel('../data/1_input/indicators/IMCEI_mensile.xlsx')\n",
    "imcei['Mese'] = pd.to_datetime(imcei['Anno'].astype(str) + '-' + imcei['Mese'], format='%Y-%b')\n",
    "imcei = imcei.set_index('Mese').drop('Anno', axis=1).rename({'IMCEI Mensile': 'IMCEI'}, axis=1)\n",
    "\n",
    "domestic1 = pd.read_excel('../data/1_input/indicators/Domestico 2020 e 2021.xlsx', skiprows=12, usecols=range(3))\n",
    "domestic2 = pd.read_excel('../data/1_input/indicators/Domestico 2022 e 2023.xlsx', skiprows=12, usecols=range(3))\n",
    "domestic = pd.concat([domestic1, domestic2], ignore_index=True)\n",
    "domestic = domestic.set_index('Mese').drop('Domestico kWh', axis=1)\n",
    "\n",
    "indics = imcei.copy()\n",
    "indics['IMSER'] = imser['IMSER']\n",
    "indics['EnelDom'] = domestic['Domestico GWh']\n",
    "indics = indics[indics.index >= \"2020-01-01\"]\n",
    "indics.head()"
   ]
  },
  {
   "cell_type": "code",
   "execution_count": 29,
   "metadata": {},
   "outputs": [],
   "source": [
    "indics.to_csv('../data/indicators/indicators.csv')"
   ]
  },
  {
   "cell_type": "code",
   "execution_count": 10,
   "metadata": {},
   "outputs": [],
   "source": [
    "# Create train and test set\n",
    "indics_train = indics[indics.index.year.astype(str).isin(train_years)]\n",
    "indics_test = indics[indics.index.year.astype(str).isin(test_years)]"
   ]
  },
  {
   "cell_type": "code",
   "execution_count": 11,
   "metadata": {},
   "outputs": [
    {
     "data": {
      "text/html": [
       "<div>\n",
       "<style scoped>\n",
       "    .dataframe tbody tr th:only-of-type {\n",
       "        vertical-align: middle;\n",
       "    }\n",
       "\n",
       "    .dataframe tbody tr th {\n",
       "        vertical-align: top;\n",
       "    }\n",
       "\n",
       "    .dataframe thead th {\n",
       "        text-align: right;\n",
       "    }\n",
       "</style>\n",
       "<table border=\"1\" class=\"dataframe\">\n",
       "  <thead>\n",
       "    <tr style=\"text-align: right;\">\n",
       "      <th></th>\n",
       "      <th>Domestico</th>\n",
       "      <th>Industria</th>\n",
       "      <th>Servizi</th>\n",
       "    </tr>\n",
       "    <tr>\n",
       "      <th>Year</th>\n",
       "      <th></th>\n",
       "      <th></th>\n",
       "      <th></th>\n",
       "    </tr>\n",
       "  </thead>\n",
       "  <tbody>\n",
       "    <tr>\n",
       "      <th>2020</th>\n",
       "      <td>70346.781377</td>\n",
       "      <td>139954.732220</td>\n",
       "      <td>91238.239988</td>\n",
       "    </tr>\n",
       "    <tr>\n",
       "      <th>2021</th>\n",
       "      <td>70928.897300</td>\n",
       "      <td>150696.258135</td>\n",
       "      <td>96657.697020</td>\n",
       "    </tr>\n",
       "    <tr>\n",
       "      <th>2022</th>\n",
       "      <td>68793.289167</td>\n",
       "      <td>145668.191390</td>\n",
       "      <td>100961.844908</td>\n",
       "    </tr>\n",
       "    <tr>\n",
       "      <th>2023</th>\n",
       "      <td>67161.924142</td>\n",
       "      <td>140246.809266</td>\n",
       "      <td>100516.753981</td>\n",
       "    </tr>\n",
       "  </tbody>\n",
       "</table>\n",
       "</div>"
      ],
      "text/plain": [
       "         Domestico      Industria        Servizi\n",
       "Year                                            \n",
       "2020  70346.781377  139954.732220   91238.239988\n",
       "2021  70928.897300  150696.258135   96657.697020\n",
       "2022  68793.289167  145668.191390  100961.844908\n",
       "2023  67161.924142  140246.809266  100516.753981"
      ]
     },
     "execution_count": 11,
     "metadata": {},
     "output_type": "execute_result"
    }
   ],
   "source": [
    "cons_df"
   ]
  },
  {
   "cell_type": "code",
   "execution_count": 12,
   "metadata": {},
   "outputs": [
    {
     "data": {
      "text/html": [
       "<div>\n",
       "<style scoped>\n",
       "    .dataframe tbody tr th:only-of-type {\n",
       "        vertical-align: middle;\n",
       "    }\n",
       "\n",
       "    .dataframe tbody tr th {\n",
       "        vertical-align: top;\n",
       "    }\n",
       "\n",
       "    .dataframe thead th {\n",
       "        text-align: right;\n",
       "    }\n",
       "</style>\n",
       "<table border=\"1\" class=\"dataframe\">\n",
       "  <thead>\n",
       "    <tr style=\"text-align: right;\">\n",
       "      <th></th>\n",
       "      <th>Domestico</th>\n",
       "      <th>Industria</th>\n",
       "      <th>Servizi</th>\n",
       "    </tr>\n",
       "    <tr>\n",
       "      <th>Mese</th>\n",
       "      <th></th>\n",
       "      <th></th>\n",
       "      <th></th>\n",
       "    </tr>\n",
       "  </thead>\n",
       "  <tbody>\n",
       "    <tr>\n",
       "      <th>2020-01-01</th>\n",
       "      <td>6578.069013</td>\n",
       "      <td>12076.214575</td>\n",
       "      <td>8758.839428</td>\n",
       "    </tr>\n",
       "    <tr>\n",
       "      <th>2020-02-01</th>\n",
       "      <td>5527.985114</td>\n",
       "      <td>12490.529300</td>\n",
       "      <td>7644.235592</td>\n",
       "    </tr>\n",
       "    <tr>\n",
       "      <th>2020-03-01</th>\n",
       "      <td>6397.951558</td>\n",
       "      <td>10704.954781</td>\n",
       "      <td>6622.130700</td>\n",
       "    </tr>\n",
       "    <tr>\n",
       "      <th>2020-04-01</th>\n",
       "      <td>5700.031442</td>\n",
       "      <td>8660.806370</td>\n",
       "      <td>5383.390680</td>\n",
       "    </tr>\n",
       "    <tr>\n",
       "      <th>2020-05-01</th>\n",
       "      <td>4977.937414</td>\n",
       "      <td>11658.651789</td>\n",
       "      <td>6011.084788</td>\n",
       "    </tr>\n",
       "    <tr>\n",
       "      <th>2020-06-01</th>\n",
       "      <td>4910.926859</td>\n",
       "      <td>11869.539002</td>\n",
       "      <td>7233.085663</td>\n",
       "    </tr>\n",
       "    <tr>\n",
       "      <th>2020-07-01</th>\n",
       "      <td>6107.741032</td>\n",
       "      <td>13094.183037</td>\n",
       "      <td>9521.393403</td>\n",
       "    </tr>\n",
       "    <tr>\n",
       "      <th>2020-08-01</th>\n",
       "      <td>7009.210582</td>\n",
       "      <td>8879.384386</td>\n",
       "      <td>9913.436574</td>\n",
       "    </tr>\n",
       "    <tr>\n",
       "      <th>2020-09-01</th>\n",
       "      <td>5157.447797</td>\n",
       "      <td>12777.718546</td>\n",
       "      <td>8433.093670</td>\n",
       "    </tr>\n",
       "    <tr>\n",
       "      <th>2020-10-01</th>\n",
       "      <td>5351.536870</td>\n",
       "      <td>13246.071356</td>\n",
       "      <td>7415.591284</td>\n",
       "    </tr>\n",
       "    <tr>\n",
       "      <th>2020-11-01</th>\n",
       "      <td>5806.045400</td>\n",
       "      <td>12816.558706</td>\n",
       "      <td>6883.317388</td>\n",
       "    </tr>\n",
       "    <tr>\n",
       "      <th>2020-12-01</th>\n",
       "      <td>7028.967303</td>\n",
       "      <td>11320.279974</td>\n",
       "      <td>7571.412209</td>\n",
       "    </tr>\n",
       "    <tr>\n",
       "      <th>2021-01-01</th>\n",
       "      <td>7141.288134</td>\n",
       "      <td>11919.700424</td>\n",
       "      <td>8022.295931</td>\n",
       "    </tr>\n",
       "    <tr>\n",
       "      <th>2021-02-01</th>\n",
       "      <td>5762.413357</td>\n",
       "      <td>11953.335378</td>\n",
       "      <td>7108.794279</td>\n",
       "    </tr>\n",
       "    <tr>\n",
       "      <th>2021-03-01</th>\n",
       "      <td>5988.333865</td>\n",
       "      <td>13291.811172</td>\n",
       "      <td>7183.514463</td>\n",
       "    </tr>\n",
       "    <tr>\n",
       "      <th>2021-04-01</th>\n",
       "      <td>5307.012454</td>\n",
       "      <td>12260.164080</td>\n",
       "      <td>6388.923472</td>\n",
       "    </tr>\n",
       "    <tr>\n",
       "      <th>2021-05-01</th>\n",
       "      <td>4789.303720</td>\n",
       "      <td>12789.530795</td>\n",
       "      <td>6825.872977</td>\n",
       "    </tr>\n",
       "    <tr>\n",
       "      <th>2021-06-01</th>\n",
       "      <td>5379.055554</td>\n",
       "      <td>13168.434100</td>\n",
       "      <td>8656.766358</td>\n",
       "    </tr>\n",
       "    <tr>\n",
       "      <th>2021-07-01</th>\n",
       "      <td>6444.820638</td>\n",
       "      <td>13871.428508</td>\n",
       "      <td>10096.773329</td>\n",
       "    </tr>\n",
       "    <tr>\n",
       "      <th>2021-08-01</th>\n",
       "      <td>7090.565990</td>\n",
       "      <td>9492.366313</td>\n",
       "      <td>10078.009183</td>\n",
       "    </tr>\n",
       "    <tr>\n",
       "      <th>2021-09-01</th>\n",
       "      <td>5082.373809</td>\n",
       "      <td>13593.684014</td>\n",
       "      <td>8324.551155</td>\n",
       "    </tr>\n",
       "    <tr>\n",
       "      <th>2021-10-01</th>\n",
       "      <td>5271.379334</td>\n",
       "      <td>13361.684386</td>\n",
       "      <td>7729.965793</td>\n",
       "    </tr>\n",
       "    <tr>\n",
       "      <th>2021-11-01</th>\n",
       "      <td>5705.752432</td>\n",
       "      <td>13080.246330</td>\n",
       "      <td>7709.149244</td>\n",
       "    </tr>\n",
       "    <tr>\n",
       "      <th>2021-12-01</th>\n",
       "      <td>7139.114080</td>\n",
       "      <td>11531.451985</td>\n",
       "      <td>8742.985421</td>\n",
       "    </tr>\n",
       "    <tr>\n",
       "      <th>2022-01-01</th>\n",
       "      <td>6894.658495</td>\n",
       "      <td>11793.571101</td>\n",
       "      <td>8765.736922</td>\n",
       "    </tr>\n",
       "    <tr>\n",
       "      <th>2022-02-01</th>\n",
       "      <td>5506.655836</td>\n",
       "      <td>12467.502802</td>\n",
       "      <td>7532.069909</td>\n",
       "    </tr>\n",
       "    <tr>\n",
       "      <th>2022-03-01</th>\n",
       "      <td>5792.599954</td>\n",
       "      <td>13446.704431</td>\n",
       "      <td>8134.024600</td>\n",
       "    </tr>\n",
       "    <tr>\n",
       "      <th>2022-04-01</th>\n",
       "      <td>4912.362823</td>\n",
       "      <td>12112.795242</td>\n",
       "      <td>7038.780924</td>\n",
       "    </tr>\n",
       "    <tr>\n",
       "      <th>2022-05-01</th>\n",
       "      <td>4786.267211</td>\n",
       "      <td>13035.981861</td>\n",
       "      <td>7888.860435</td>\n",
       "    </tr>\n",
       "    <tr>\n",
       "      <th>2022-06-01</th>\n",
       "      <td>5610.042780</td>\n",
       "      <td>12889.634123</td>\n",
       "      <td>9410.659081</td>\n",
       "    </tr>\n",
       "    <tr>\n",
       "      <th>2022-07-01</th>\n",
       "      <td>7297.575404</td>\n",
       "      <td>12814.608176</td>\n",
       "      <td>10922.849385</td>\n",
       "    </tr>\n",
       "    <tr>\n",
       "      <th>2022-08-01</th>\n",
       "      <td>6969.091774</td>\n",
       "      <td>8476.126005</td>\n",
       "      <td>10458.008213</td>\n",
       "    </tr>\n",
       "    <tr>\n",
       "      <th>2022-09-01</th>\n",
       "      <td>4971.511735</td>\n",
       "      <td>12654.355154</td>\n",
       "      <td>8302.903624</td>\n",
       "    </tr>\n",
       "    <tr>\n",
       "      <th>2022-10-01</th>\n",
       "      <td>4577.813426</td>\n",
       "      <td>12821.228327</td>\n",
       "      <td>7214.882248</td>\n",
       "    </tr>\n",
       "    <tr>\n",
       "      <th>2022-11-01</th>\n",
       "      <td>5241.193863</td>\n",
       "      <td>12382.558078</td>\n",
       "      <td>7327.790036</td>\n",
       "    </tr>\n",
       "    <tr>\n",
       "      <th>2022-12-01</th>\n",
       "      <td>6496.764654</td>\n",
       "      <td>10162.237406</td>\n",
       "      <td>8312.919427</td>\n",
       "    </tr>\n",
       "    <tr>\n",
       "      <th>2023-01-01</th>\n",
       "      <td>6468.492280</td>\n",
       "      <td>10997.279573</td>\n",
       "      <td>8676.932105</td>\n",
       "    </tr>\n",
       "    <tr>\n",
       "      <th>2023-02-01</th>\n",
       "      <td>5551.487998</td>\n",
       "      <td>11802.657396</td>\n",
       "      <td>7706.670606</td>\n",
       "    </tr>\n",
       "    <tr>\n",
       "      <th>2023-03-01</th>\n",
       "      <td>5255.145412</td>\n",
       "      <td>13279.421320</td>\n",
       "      <td>7663.284258</td>\n",
       "    </tr>\n",
       "    <tr>\n",
       "      <th>2023-04-01</th>\n",
       "      <td>4892.820069</td>\n",
       "      <td>11369.098383</td>\n",
       "      <td>7046.673084</td>\n",
       "    </tr>\n",
       "    <tr>\n",
       "      <th>2023-05-01</th>\n",
       "      <td>4671.150826</td>\n",
       "      <td>12038.681355</td>\n",
       "      <td>7561.180307</td>\n",
       "    </tr>\n",
       "    <tr>\n",
       "      <th>2023-06-01</th>\n",
       "      <td>4860.400365</td>\n",
       "      <td>12006.216992</td>\n",
       "      <td>8559.587633</td>\n",
       "    </tr>\n",
       "    <tr>\n",
       "      <th>2023-07-01</th>\n",
       "      <td>6988.689112</td>\n",
       "      <td>12510.799826</td>\n",
       "      <td>10553.151559</td>\n",
       "    </tr>\n",
       "    <tr>\n",
       "      <th>2023-08-01</th>\n",
       "      <td>6904.213505</td>\n",
       "      <td>8467.200766</td>\n",
       "      <td>10336.279247</td>\n",
       "    </tr>\n",
       "    <tr>\n",
       "      <th>2023-09-01</th>\n",
       "      <td>4948.664386</td>\n",
       "      <td>12505.036532</td>\n",
       "      <td>8715.204093</td>\n",
       "    </tr>\n",
       "    <tr>\n",
       "      <th>2023-10-01</th>\n",
       "      <td>4910.654923</td>\n",
       "      <td>12755.089621</td>\n",
       "      <td>8097.552943</td>\n",
       "    </tr>\n",
       "    <tr>\n",
       "      <th>2023-11-01</th>\n",
       "      <td>5369.429076</td>\n",
       "      <td>12052.817876</td>\n",
       "      <td>7591.555981</td>\n",
       "    </tr>\n",
       "    <tr>\n",
       "      <th>2023-12-01</th>\n",
       "      <td>6541.893378</td>\n",
       "      <td>10005.801028</td>\n",
       "      <td>8264.273575</td>\n",
       "    </tr>\n",
       "  </tbody>\n",
       "</table>\n",
       "</div>"
      ],
      "text/plain": [
       "              Domestico     Industria       Servizi\n",
       "Mese                                               \n",
       "2020-01-01  6578.069013  12076.214575   8758.839428\n",
       "2020-02-01  5527.985114  12490.529300   7644.235592\n",
       "2020-03-01  6397.951558  10704.954781   6622.130700\n",
       "2020-04-01  5700.031442   8660.806370   5383.390680\n",
       "2020-05-01  4977.937414  11658.651789   6011.084788\n",
       "2020-06-01  4910.926859  11869.539002   7233.085663\n",
       "2020-07-01  6107.741032  13094.183037   9521.393403\n",
       "2020-08-01  7009.210582   8879.384386   9913.436574\n",
       "2020-09-01  5157.447797  12777.718546   8433.093670\n",
       "2020-10-01  5351.536870  13246.071356   7415.591284\n",
       "2020-11-01  5806.045400  12816.558706   6883.317388\n",
       "2020-12-01  7028.967303  11320.279974   7571.412209\n",
       "2021-01-01  7141.288134  11919.700424   8022.295931\n",
       "2021-02-01  5762.413357  11953.335378   7108.794279\n",
       "2021-03-01  5988.333865  13291.811172   7183.514463\n",
       "2021-04-01  5307.012454  12260.164080   6388.923472\n",
       "2021-05-01  4789.303720  12789.530795   6825.872977\n",
       "2021-06-01  5379.055554  13168.434100   8656.766358\n",
       "2021-07-01  6444.820638  13871.428508  10096.773329\n",
       "2021-08-01  7090.565990   9492.366313  10078.009183\n",
       "2021-09-01  5082.373809  13593.684014   8324.551155\n",
       "2021-10-01  5271.379334  13361.684386   7729.965793\n",
       "2021-11-01  5705.752432  13080.246330   7709.149244\n",
       "2021-12-01  7139.114080  11531.451985   8742.985421\n",
       "2022-01-01  6894.658495  11793.571101   8765.736922\n",
       "2022-02-01  5506.655836  12467.502802   7532.069909\n",
       "2022-03-01  5792.599954  13446.704431   8134.024600\n",
       "2022-04-01  4912.362823  12112.795242   7038.780924\n",
       "2022-05-01  4786.267211  13035.981861   7888.860435\n",
       "2022-06-01  5610.042780  12889.634123   9410.659081\n",
       "2022-07-01  7297.575404  12814.608176  10922.849385\n",
       "2022-08-01  6969.091774   8476.126005  10458.008213\n",
       "2022-09-01  4971.511735  12654.355154   8302.903624\n",
       "2022-10-01  4577.813426  12821.228327   7214.882248\n",
       "2022-11-01  5241.193863  12382.558078   7327.790036\n",
       "2022-12-01  6496.764654  10162.237406   8312.919427\n",
       "2023-01-01  6468.492280  10997.279573   8676.932105\n",
       "2023-02-01  5551.487998  11802.657396   7706.670606\n",
       "2023-03-01  5255.145412  13279.421320   7663.284258\n",
       "2023-04-01  4892.820069  11369.098383   7046.673084\n",
       "2023-05-01  4671.150826  12038.681355   7561.180307\n",
       "2023-06-01  4860.400365  12006.216992   8559.587633\n",
       "2023-07-01  6988.689112  12510.799826  10553.151559\n",
       "2023-08-01  6904.213505   8467.200766  10336.279247\n",
       "2023-09-01  4948.664386  12505.036532   8715.204093\n",
       "2023-10-01  4910.654923  12755.089621   8097.552943\n",
       "2023-11-01  5369.429076  12052.817876   7591.555981\n",
       "2023-12-01  6541.893378  10005.801028   8264.273575"
      ]
     },
     "execution_count": 12,
     "metadata": {},
     "output_type": "execute_result"
    }
   ],
   "source": [
    "indics.rename(columns={'IMSER': 'Servizi', 'IMCEI': 'Industria', 'EnelDom': 'Domestico'}, inplace=True)\n",
    "indics['year'] = indics.index.year\n",
    "indic_totals = indics[['year']].merge(indics.groupby('year').sum(), left_on='year', right_index=True, how='left').drop('year', axis=1)\n",
    "cons_rescaling = indics[['year']].merge(cons_df, left_on='year', right_index=True, how='left').drop('year', axis=1)\n",
    "indics.drop('year', axis=1, inplace=True)\n",
    "Y = indics.div(indic_totals).mul(cons_rescaling)\n",
    "# Realign with load data at month level (since it is not guaranteed anymore at the month level after the breakdown along months)\n",
    "uncorrected_total = Y[['Domestico', 'Industria', 'Servizi']].sum(axis=1).values\n",
    "corrected_total = df.groupby(['year', 'month'])['cons'].sum().values\n",
    "Y = Y.mul(corrected_total / uncorrected_total, axis=0)\n",
    "Y"
   ]
  },
  {
   "cell_type": "code",
   "execution_count": 13,
   "metadata": {},
   "outputs": [],
   "source": [
    "Y_train = Y[Y.index.year.astype(str).isin(train_years)]\n",
    "Y_test = Y[Y.index.year.astype(str).isin(test_years)]"
   ]
  },
  {
   "cell_type": "code",
   "execution_count": 14,
   "metadata": {},
   "outputs": [],
   "source": [
    "Y_train.to_pickle('../data/2_processed/PenNMF/Y_{}.pkl'.format('_'.join(train_years)))\n",
    "Y_test.to_pickle('../data/2_processed/PenNMF/Y_{}.pkl'.format('_'.join(test_years)))\n",
    "Y.to_pickle('../data/2_processed/PenNMF/Y.pkl')"
   ]
  },
  {
   "cell_type": "markdown",
   "metadata": {},
   "source": [
    "# Create parameter matices $\\mathrm{B}$ and $\\mathrm{A}$"
   ]
  },
  {
   "cell_type": "code",
   "execution_count": 15,
   "metadata": {},
   "outputs": [
    {
     "data": {
      "text/html": [
       "<div>\n",
       "<style scoped>\n",
       "    .dataframe tbody tr th:only-of-type {\n",
       "        vertical-align: middle;\n",
       "    }\n",
       "\n",
       "    .dataframe tbody tr th {\n",
       "        vertical-align: top;\n",
       "    }\n",
       "\n",
       "    .dataframe thead th {\n",
       "        text-align: right;\n",
       "    }\n",
       "</style>\n",
       "<table border=\"1\" class=\"dataframe\">\n",
       "  <thead>\n",
       "    <tr style=\"text-align: right;\">\n",
       "      <th></th>\n",
       "      <th>norm_X</th>\n",
       "      <th>month</th>\n",
       "    </tr>\n",
       "  </thead>\n",
       "  <tbody>\n",
       "    <tr>\n",
       "      <th>Italy_2021-01-01_Holiday</th>\n",
       "      <td>597.368996</td>\n",
       "      <td>2021-01</td>\n",
       "    </tr>\n",
       "    <tr>\n",
       "      <th>Italy_2021-01-02_Saturday</th>\n",
       "      <td>662.733499</td>\n",
       "      <td>2021-01</td>\n",
       "    </tr>\n",
       "    <tr>\n",
       "      <th>Italy_2021-01-03_Holiday</th>\n",
       "      <td>624.469497</td>\n",
       "      <td>2021-01</td>\n",
       "    </tr>\n",
       "    <tr>\n",
       "      <th>Italy_2021-01-04_Monday</th>\n",
       "      <td>782.132998</td>\n",
       "      <td>2021-01</td>\n",
       "    </tr>\n",
       "    <tr>\n",
       "      <th>Italy_2021-01-05_Working day</th>\n",
       "      <td>806.720001</td>\n",
       "      <td>2021-01</td>\n",
       "    </tr>\n",
       "    <tr>\n",
       "      <th>...</th>\n",
       "      <td>...</td>\n",
       "      <td>...</td>\n",
       "    </tr>\n",
       "    <tr>\n",
       "      <th>Italy_2021-12-27_Monday</th>\n",
       "      <td>761.557999</td>\n",
       "      <td>2021-12</td>\n",
       "    </tr>\n",
       "    <tr>\n",
       "      <th>Italy_2021-12-28_Working day</th>\n",
       "      <td>785.860998</td>\n",
       "      <td>2021-12</td>\n",
       "    </tr>\n",
       "    <tr>\n",
       "      <th>Italy_2021-12-29_Working day</th>\n",
       "      <td>761.050505</td>\n",
       "      <td>2021-12</td>\n",
       "    </tr>\n",
       "    <tr>\n",
       "      <th>Italy_2021-12-30_Working day</th>\n",
       "      <td>773.259500</td>\n",
       "      <td>2021-12</td>\n",
       "    </tr>\n",
       "    <tr>\n",
       "      <th>Italy_2021-12-31_Working day</th>\n",
       "      <td>723.571998</td>\n",
       "      <td>2021-12</td>\n",
       "    </tr>\n",
       "  </tbody>\n",
       "</table>\n",
       "<p>365 rows × 2 columns</p>\n",
       "</div>"
      ],
      "text/plain": [
       "                                  norm_X    month\n",
       "Italy_2021-01-01_Holiday      597.368996  2021-01\n",
       "Italy_2021-01-02_Saturday     662.733499  2021-01\n",
       "Italy_2021-01-03_Holiday      624.469497  2021-01\n",
       "Italy_2021-01-04_Monday       782.132998  2021-01\n",
       "Italy_2021-01-05_Working day  806.720001  2021-01\n",
       "...                                  ...      ...\n",
       "Italy_2021-12-27_Monday       761.557999  2021-12\n",
       "Italy_2021-12-28_Working day  785.860998  2021-12\n",
       "Italy_2021-12-29_Working day  761.050505  2021-12\n",
       "Italy_2021-12-30_Working day  773.259500  2021-12\n",
       "Italy_2021-12-31_Working day  723.571998  2021-12\n",
       "\n",
       "[365 rows x 2 columns]"
      ]
     },
     "execution_count": 15,
     "metadata": {},
     "output_type": "execute_result"
    }
   ],
   "source": [
    "X_train_unnorm = df_train.drop(unit_info.columns, axis=1)\n",
    "h = 24 / (X_train_unnorm.shape[1]-1)\n",
    "norm_X = X_train_unnorm.apply(lambda row: functional_norm(row, h), axis=1, raw=True)\n",
    "norm_X = pd.DataFrame(norm_X, index=norm_X.index, columns=['norm_X'])\n",
    "norm_X['month'] = norm_X.index.str[6:13]\n",
    "norm_X"
   ]
  },
  {
   "cell_type": "code",
   "execution_count": 16,
   "metadata": {},
   "outputs": [
    {
     "data": {
      "text/plain": [
       "(12, 365)"
      ]
     },
     "execution_count": 16,
     "metadata": {},
     "output_type": "execute_result"
    }
   ],
   "source": [
    "m = norm_X.index.str[6:13].nunique() # n_months\n",
    "n = len(X_train) # n_days\n",
    "blocks = [norm_X.loc[norm_X.month == month, 'norm_X'].values[np.newaxis, :] for month in norm_X.index.str[6:13].unique()]\n",
    "B = block_diag(*blocks)\n",
    "B.shape"
   ]
  },
  {
   "cell_type": "code",
   "execution_count": 17,
   "metadata": {},
   "outputs": [
    {
     "data": {
      "text/html": [
       "<div>\n",
       "<style scoped>\n",
       "    .dataframe tbody tr th:only-of-type {\n",
       "        vertical-align: middle;\n",
       "    }\n",
       "\n",
       "    .dataframe tbody tr th {\n",
       "        vertical-align: top;\n",
       "    }\n",
       "\n",
       "    .dataframe thead th {\n",
       "        text-align: right;\n",
       "    }\n",
       "</style>\n",
       "<table border=\"1\" class=\"dataframe\">\n",
       "  <thead>\n",
       "    <tr style=\"text-align: right;\">\n",
       "      <th></th>\n",
       "      <th>Italy_2021-01-01_Holiday</th>\n",
       "      <th>Italy_2021-01-02_Saturday</th>\n",
       "      <th>Italy_2021-01-03_Holiday</th>\n",
       "      <th>Italy_2021-01-04_Monday</th>\n",
       "      <th>Italy_2021-01-05_Working day</th>\n",
       "      <th>Italy_2021-01-06_Holiday</th>\n",
       "      <th>Italy_2021-01-07_Working day</th>\n",
       "      <th>Italy_2021-01-08_Working day</th>\n",
       "      <th>Italy_2021-01-09_Saturday</th>\n",
       "      <th>Italy_2021-01-10_Holiday</th>\n",
       "      <th>...</th>\n",
       "      <th>Italy_2021-12-22_Working day</th>\n",
       "      <th>Italy_2021-12-23_Working day</th>\n",
       "      <th>Italy_2021-12-24_Working day</th>\n",
       "      <th>Italy_2021-12-25_Holiday</th>\n",
       "      <th>Italy_2021-12-26_Holiday</th>\n",
       "      <th>Italy_2021-12-27_Monday</th>\n",
       "      <th>Italy_2021-12-28_Working day</th>\n",
       "      <th>Italy_2021-12-29_Working day</th>\n",
       "      <th>Italy_2021-12-30_Working day</th>\n",
       "      <th>Italy_2021-12-31_Working day</th>\n",
       "    </tr>\n",
       "    <tr>\n",
       "      <th>Mese</th>\n",
       "      <th></th>\n",
       "      <th></th>\n",
       "      <th></th>\n",
       "      <th></th>\n",
       "      <th></th>\n",
       "      <th></th>\n",
       "      <th></th>\n",
       "      <th></th>\n",
       "      <th></th>\n",
       "      <th></th>\n",
       "      <th></th>\n",
       "      <th></th>\n",
       "      <th></th>\n",
       "      <th></th>\n",
       "      <th></th>\n",
       "      <th></th>\n",
       "      <th></th>\n",
       "      <th></th>\n",
       "      <th></th>\n",
       "      <th></th>\n",
       "      <th></th>\n",
       "    </tr>\n",
       "  </thead>\n",
       "  <tbody>\n",
       "    <tr>\n",
       "      <th>2021-01-01</th>\n",
       "      <td>597.368996</td>\n",
       "      <td>662.733499</td>\n",
       "      <td>624.469497</td>\n",
       "      <td>782.132998</td>\n",
       "      <td>806.720001</td>\n",
       "      <td>693.469</td>\n",
       "      <td>914.726001</td>\n",
       "      <td>935.038998</td>\n",
       "      <td>791.720002</td>\n",
       "      <td>705.723499</td>\n",
       "      <td>...</td>\n",
       "      <td>0.00000</td>\n",
       "      <td>0.000000</td>\n",
       "      <td>0.000</td>\n",
       "      <td>0.000000</td>\n",
       "      <td>0.000000</td>\n",
       "      <td>0.000000</td>\n",
       "      <td>0.000000</td>\n",
       "      <td>0.000000</td>\n",
       "      <td>0.0000</td>\n",
       "      <td>0.000000</td>\n",
       "    </tr>\n",
       "    <tr>\n",
       "      <th>2021-02-01</th>\n",
       "      <td>0.000000</td>\n",
       "      <td>0.000000</td>\n",
       "      <td>0.000000</td>\n",
       "      <td>0.000000</td>\n",
       "      <td>0.000000</td>\n",
       "      <td>0.000</td>\n",
       "      <td>0.000000</td>\n",
       "      <td>0.000000</td>\n",
       "      <td>0.000000</td>\n",
       "      <td>0.000000</td>\n",
       "      <td>...</td>\n",
       "      <td>0.00000</td>\n",
       "      <td>0.000000</td>\n",
       "      <td>0.000</td>\n",
       "      <td>0.000000</td>\n",
       "      <td>0.000000</td>\n",
       "      <td>0.000000</td>\n",
       "      <td>0.000000</td>\n",
       "      <td>0.000000</td>\n",
       "      <td>0.0000</td>\n",
       "      <td>0.000000</td>\n",
       "    </tr>\n",
       "    <tr>\n",
       "      <th>2021-03-01</th>\n",
       "      <td>0.000000</td>\n",
       "      <td>0.000000</td>\n",
       "      <td>0.000000</td>\n",
       "      <td>0.000000</td>\n",
       "      <td>0.000000</td>\n",
       "      <td>0.000</td>\n",
       "      <td>0.000000</td>\n",
       "      <td>0.000000</td>\n",
       "      <td>0.000000</td>\n",
       "      <td>0.000000</td>\n",
       "      <td>...</td>\n",
       "      <td>0.00000</td>\n",
       "      <td>0.000000</td>\n",
       "      <td>0.000</td>\n",
       "      <td>0.000000</td>\n",
       "      <td>0.000000</td>\n",
       "      <td>0.000000</td>\n",
       "      <td>0.000000</td>\n",
       "      <td>0.000000</td>\n",
       "      <td>0.0000</td>\n",
       "      <td>0.000000</td>\n",
       "    </tr>\n",
       "    <tr>\n",
       "      <th>2021-04-01</th>\n",
       "      <td>0.000000</td>\n",
       "      <td>0.000000</td>\n",
       "      <td>0.000000</td>\n",
       "      <td>0.000000</td>\n",
       "      <td>0.000000</td>\n",
       "      <td>0.000</td>\n",
       "      <td>0.000000</td>\n",
       "      <td>0.000000</td>\n",
       "      <td>0.000000</td>\n",
       "      <td>0.000000</td>\n",
       "      <td>...</td>\n",
       "      <td>0.00000</td>\n",
       "      <td>0.000000</td>\n",
       "      <td>0.000</td>\n",
       "      <td>0.000000</td>\n",
       "      <td>0.000000</td>\n",
       "      <td>0.000000</td>\n",
       "      <td>0.000000</td>\n",
       "      <td>0.000000</td>\n",
       "      <td>0.0000</td>\n",
       "      <td>0.000000</td>\n",
       "    </tr>\n",
       "    <tr>\n",
       "      <th>2021-05-01</th>\n",
       "      <td>0.000000</td>\n",
       "      <td>0.000000</td>\n",
       "      <td>0.000000</td>\n",
       "      <td>0.000000</td>\n",
       "      <td>0.000000</td>\n",
       "      <td>0.000</td>\n",
       "      <td>0.000000</td>\n",
       "      <td>0.000000</td>\n",
       "      <td>0.000000</td>\n",
       "      <td>0.000000</td>\n",
       "      <td>...</td>\n",
       "      <td>0.00000</td>\n",
       "      <td>0.000000</td>\n",
       "      <td>0.000</td>\n",
       "      <td>0.000000</td>\n",
       "      <td>0.000000</td>\n",
       "      <td>0.000000</td>\n",
       "      <td>0.000000</td>\n",
       "      <td>0.000000</td>\n",
       "      <td>0.0000</td>\n",
       "      <td>0.000000</td>\n",
       "    </tr>\n",
       "    <tr>\n",
       "      <th>2021-06-01</th>\n",
       "      <td>0.000000</td>\n",
       "      <td>0.000000</td>\n",
       "      <td>0.000000</td>\n",
       "      <td>0.000000</td>\n",
       "      <td>0.000000</td>\n",
       "      <td>0.000</td>\n",
       "      <td>0.000000</td>\n",
       "      <td>0.000000</td>\n",
       "      <td>0.000000</td>\n",
       "      <td>0.000000</td>\n",
       "      <td>...</td>\n",
       "      <td>0.00000</td>\n",
       "      <td>0.000000</td>\n",
       "      <td>0.000</td>\n",
       "      <td>0.000000</td>\n",
       "      <td>0.000000</td>\n",
       "      <td>0.000000</td>\n",
       "      <td>0.000000</td>\n",
       "      <td>0.000000</td>\n",
       "      <td>0.0000</td>\n",
       "      <td>0.000000</td>\n",
       "    </tr>\n",
       "    <tr>\n",
       "      <th>2021-07-01</th>\n",
       "      <td>0.000000</td>\n",
       "      <td>0.000000</td>\n",
       "      <td>0.000000</td>\n",
       "      <td>0.000000</td>\n",
       "      <td>0.000000</td>\n",
       "      <td>0.000</td>\n",
       "      <td>0.000000</td>\n",
       "      <td>0.000000</td>\n",
       "      <td>0.000000</td>\n",
       "      <td>0.000000</td>\n",
       "      <td>...</td>\n",
       "      <td>0.00000</td>\n",
       "      <td>0.000000</td>\n",
       "      <td>0.000</td>\n",
       "      <td>0.000000</td>\n",
       "      <td>0.000000</td>\n",
       "      <td>0.000000</td>\n",
       "      <td>0.000000</td>\n",
       "      <td>0.000000</td>\n",
       "      <td>0.0000</td>\n",
       "      <td>0.000000</td>\n",
       "    </tr>\n",
       "    <tr>\n",
       "      <th>2021-08-01</th>\n",
       "      <td>0.000000</td>\n",
       "      <td>0.000000</td>\n",
       "      <td>0.000000</td>\n",
       "      <td>0.000000</td>\n",
       "      <td>0.000000</td>\n",
       "      <td>0.000</td>\n",
       "      <td>0.000000</td>\n",
       "      <td>0.000000</td>\n",
       "      <td>0.000000</td>\n",
       "      <td>0.000000</td>\n",
       "      <td>...</td>\n",
       "      <td>0.00000</td>\n",
       "      <td>0.000000</td>\n",
       "      <td>0.000</td>\n",
       "      <td>0.000000</td>\n",
       "      <td>0.000000</td>\n",
       "      <td>0.000000</td>\n",
       "      <td>0.000000</td>\n",
       "      <td>0.000000</td>\n",
       "      <td>0.0000</td>\n",
       "      <td>0.000000</td>\n",
       "    </tr>\n",
       "    <tr>\n",
       "      <th>2021-09-01</th>\n",
       "      <td>0.000000</td>\n",
       "      <td>0.000000</td>\n",
       "      <td>0.000000</td>\n",
       "      <td>0.000000</td>\n",
       "      <td>0.000000</td>\n",
       "      <td>0.000</td>\n",
       "      <td>0.000000</td>\n",
       "      <td>0.000000</td>\n",
       "      <td>0.000000</td>\n",
       "      <td>0.000000</td>\n",
       "      <td>...</td>\n",
       "      <td>0.00000</td>\n",
       "      <td>0.000000</td>\n",
       "      <td>0.000</td>\n",
       "      <td>0.000000</td>\n",
       "      <td>0.000000</td>\n",
       "      <td>0.000000</td>\n",
       "      <td>0.000000</td>\n",
       "      <td>0.000000</td>\n",
       "      <td>0.0000</td>\n",
       "      <td>0.000000</td>\n",
       "    </tr>\n",
       "    <tr>\n",
       "      <th>2021-10-01</th>\n",
       "      <td>0.000000</td>\n",
       "      <td>0.000000</td>\n",
       "      <td>0.000000</td>\n",
       "      <td>0.000000</td>\n",
       "      <td>0.000000</td>\n",
       "      <td>0.000</td>\n",
       "      <td>0.000000</td>\n",
       "      <td>0.000000</td>\n",
       "      <td>0.000000</td>\n",
       "      <td>0.000000</td>\n",
       "      <td>...</td>\n",
       "      <td>0.00000</td>\n",
       "      <td>0.000000</td>\n",
       "      <td>0.000</td>\n",
       "      <td>0.000000</td>\n",
       "      <td>0.000000</td>\n",
       "      <td>0.000000</td>\n",
       "      <td>0.000000</td>\n",
       "      <td>0.000000</td>\n",
       "      <td>0.0000</td>\n",
       "      <td>0.000000</td>\n",
       "    </tr>\n",
       "    <tr>\n",
       "      <th>2021-11-01</th>\n",
       "      <td>0.000000</td>\n",
       "      <td>0.000000</td>\n",
       "      <td>0.000000</td>\n",
       "      <td>0.000000</td>\n",
       "      <td>0.000000</td>\n",
       "      <td>0.000</td>\n",
       "      <td>0.000000</td>\n",
       "      <td>0.000000</td>\n",
       "      <td>0.000000</td>\n",
       "      <td>0.000000</td>\n",
       "      <td>...</td>\n",
       "      <td>0.00000</td>\n",
       "      <td>0.000000</td>\n",
       "      <td>0.000</td>\n",
       "      <td>0.000000</td>\n",
       "      <td>0.000000</td>\n",
       "      <td>0.000000</td>\n",
       "      <td>0.000000</td>\n",
       "      <td>0.000000</td>\n",
       "      <td>0.0000</td>\n",
       "      <td>0.000000</td>\n",
       "    </tr>\n",
       "    <tr>\n",
       "      <th>2021-12-01</th>\n",
       "      <td>0.000000</td>\n",
       "      <td>0.000000</td>\n",
       "      <td>0.000000</td>\n",
       "      <td>0.000000</td>\n",
       "      <td>0.000000</td>\n",
       "      <td>0.000</td>\n",
       "      <td>0.000000</td>\n",
       "      <td>0.000000</td>\n",
       "      <td>0.000000</td>\n",
       "      <td>0.000000</td>\n",
       "      <td>...</td>\n",
       "      <td>955.54399</td>\n",
       "      <td>935.191998</td>\n",
       "      <td>776.511</td>\n",
       "      <td>610.984998</td>\n",
       "      <td>618.227994</td>\n",
       "      <td>761.557999</td>\n",
       "      <td>785.860998</td>\n",
       "      <td>761.050505</td>\n",
       "      <td>773.2595</td>\n",
       "      <td>723.571998</td>\n",
       "    </tr>\n",
       "  </tbody>\n",
       "</table>\n",
       "<p>12 rows × 365 columns</p>\n",
       "</div>"
      ],
      "text/plain": [
       "            Italy_2021-01-01_Holiday  Italy_2021-01-02_Saturday  \\\n",
       "Mese                                                              \n",
       "2021-01-01                597.368996                 662.733499   \n",
       "2021-02-01                  0.000000                   0.000000   \n",
       "2021-03-01                  0.000000                   0.000000   \n",
       "2021-04-01                  0.000000                   0.000000   \n",
       "2021-05-01                  0.000000                   0.000000   \n",
       "2021-06-01                  0.000000                   0.000000   \n",
       "2021-07-01                  0.000000                   0.000000   \n",
       "2021-08-01                  0.000000                   0.000000   \n",
       "2021-09-01                  0.000000                   0.000000   \n",
       "2021-10-01                  0.000000                   0.000000   \n",
       "2021-11-01                  0.000000                   0.000000   \n",
       "2021-12-01                  0.000000                   0.000000   \n",
       "\n",
       "            Italy_2021-01-03_Holiday  Italy_2021-01-04_Monday  \\\n",
       "Mese                                                            \n",
       "2021-01-01                624.469497               782.132998   \n",
       "2021-02-01                  0.000000                 0.000000   \n",
       "2021-03-01                  0.000000                 0.000000   \n",
       "2021-04-01                  0.000000                 0.000000   \n",
       "2021-05-01                  0.000000                 0.000000   \n",
       "2021-06-01                  0.000000                 0.000000   \n",
       "2021-07-01                  0.000000                 0.000000   \n",
       "2021-08-01                  0.000000                 0.000000   \n",
       "2021-09-01                  0.000000                 0.000000   \n",
       "2021-10-01                  0.000000                 0.000000   \n",
       "2021-11-01                  0.000000                 0.000000   \n",
       "2021-12-01                  0.000000                 0.000000   \n",
       "\n",
       "            Italy_2021-01-05_Working day  Italy_2021-01-06_Holiday  \\\n",
       "Mese                                                                 \n",
       "2021-01-01                    806.720001                   693.469   \n",
       "2021-02-01                      0.000000                     0.000   \n",
       "2021-03-01                      0.000000                     0.000   \n",
       "2021-04-01                      0.000000                     0.000   \n",
       "2021-05-01                      0.000000                     0.000   \n",
       "2021-06-01                      0.000000                     0.000   \n",
       "2021-07-01                      0.000000                     0.000   \n",
       "2021-08-01                      0.000000                     0.000   \n",
       "2021-09-01                      0.000000                     0.000   \n",
       "2021-10-01                      0.000000                     0.000   \n",
       "2021-11-01                      0.000000                     0.000   \n",
       "2021-12-01                      0.000000                     0.000   \n",
       "\n",
       "            Italy_2021-01-07_Working day  Italy_2021-01-08_Working day  \\\n",
       "Mese                                                                     \n",
       "2021-01-01                    914.726001                    935.038998   \n",
       "2021-02-01                      0.000000                      0.000000   \n",
       "2021-03-01                      0.000000                      0.000000   \n",
       "2021-04-01                      0.000000                      0.000000   \n",
       "2021-05-01                      0.000000                      0.000000   \n",
       "2021-06-01                      0.000000                      0.000000   \n",
       "2021-07-01                      0.000000                      0.000000   \n",
       "2021-08-01                      0.000000                      0.000000   \n",
       "2021-09-01                      0.000000                      0.000000   \n",
       "2021-10-01                      0.000000                      0.000000   \n",
       "2021-11-01                      0.000000                      0.000000   \n",
       "2021-12-01                      0.000000                      0.000000   \n",
       "\n",
       "            Italy_2021-01-09_Saturday  Italy_2021-01-10_Holiday  ...  \\\n",
       "Mese                                                             ...   \n",
       "2021-01-01                 791.720002                705.723499  ...   \n",
       "2021-02-01                   0.000000                  0.000000  ...   \n",
       "2021-03-01                   0.000000                  0.000000  ...   \n",
       "2021-04-01                   0.000000                  0.000000  ...   \n",
       "2021-05-01                   0.000000                  0.000000  ...   \n",
       "2021-06-01                   0.000000                  0.000000  ...   \n",
       "2021-07-01                   0.000000                  0.000000  ...   \n",
       "2021-08-01                   0.000000                  0.000000  ...   \n",
       "2021-09-01                   0.000000                  0.000000  ...   \n",
       "2021-10-01                   0.000000                  0.000000  ...   \n",
       "2021-11-01                   0.000000                  0.000000  ...   \n",
       "2021-12-01                   0.000000                  0.000000  ...   \n",
       "\n",
       "            Italy_2021-12-22_Working day  Italy_2021-12-23_Working day  \\\n",
       "Mese                                                                     \n",
       "2021-01-01                       0.00000                      0.000000   \n",
       "2021-02-01                       0.00000                      0.000000   \n",
       "2021-03-01                       0.00000                      0.000000   \n",
       "2021-04-01                       0.00000                      0.000000   \n",
       "2021-05-01                       0.00000                      0.000000   \n",
       "2021-06-01                       0.00000                      0.000000   \n",
       "2021-07-01                       0.00000                      0.000000   \n",
       "2021-08-01                       0.00000                      0.000000   \n",
       "2021-09-01                       0.00000                      0.000000   \n",
       "2021-10-01                       0.00000                      0.000000   \n",
       "2021-11-01                       0.00000                      0.000000   \n",
       "2021-12-01                     955.54399                    935.191998   \n",
       "\n",
       "            Italy_2021-12-24_Working day  Italy_2021-12-25_Holiday  \\\n",
       "Mese                                                                 \n",
       "2021-01-01                         0.000                  0.000000   \n",
       "2021-02-01                         0.000                  0.000000   \n",
       "2021-03-01                         0.000                  0.000000   \n",
       "2021-04-01                         0.000                  0.000000   \n",
       "2021-05-01                         0.000                  0.000000   \n",
       "2021-06-01                         0.000                  0.000000   \n",
       "2021-07-01                         0.000                  0.000000   \n",
       "2021-08-01                         0.000                  0.000000   \n",
       "2021-09-01                         0.000                  0.000000   \n",
       "2021-10-01                         0.000                  0.000000   \n",
       "2021-11-01                         0.000                  0.000000   \n",
       "2021-12-01                       776.511                610.984998   \n",
       "\n",
       "            Italy_2021-12-26_Holiday  Italy_2021-12-27_Monday  \\\n",
       "Mese                                                            \n",
       "2021-01-01                  0.000000                 0.000000   \n",
       "2021-02-01                  0.000000                 0.000000   \n",
       "2021-03-01                  0.000000                 0.000000   \n",
       "2021-04-01                  0.000000                 0.000000   \n",
       "2021-05-01                  0.000000                 0.000000   \n",
       "2021-06-01                  0.000000                 0.000000   \n",
       "2021-07-01                  0.000000                 0.000000   \n",
       "2021-08-01                  0.000000                 0.000000   \n",
       "2021-09-01                  0.000000                 0.000000   \n",
       "2021-10-01                  0.000000                 0.000000   \n",
       "2021-11-01                  0.000000                 0.000000   \n",
       "2021-12-01                618.227994               761.557999   \n",
       "\n",
       "            Italy_2021-12-28_Working day  Italy_2021-12-29_Working day  \\\n",
       "Mese                                                                     \n",
       "2021-01-01                      0.000000                      0.000000   \n",
       "2021-02-01                      0.000000                      0.000000   \n",
       "2021-03-01                      0.000000                      0.000000   \n",
       "2021-04-01                      0.000000                      0.000000   \n",
       "2021-05-01                      0.000000                      0.000000   \n",
       "2021-06-01                      0.000000                      0.000000   \n",
       "2021-07-01                      0.000000                      0.000000   \n",
       "2021-08-01                      0.000000                      0.000000   \n",
       "2021-09-01                      0.000000                      0.000000   \n",
       "2021-10-01                      0.000000                      0.000000   \n",
       "2021-11-01                      0.000000                      0.000000   \n",
       "2021-12-01                    785.860998                    761.050505   \n",
       "\n",
       "            Italy_2021-12-30_Working day  Italy_2021-12-31_Working day  \n",
       "Mese                                                                    \n",
       "2021-01-01                        0.0000                      0.000000  \n",
       "2021-02-01                        0.0000                      0.000000  \n",
       "2021-03-01                        0.0000                      0.000000  \n",
       "2021-04-01                        0.0000                      0.000000  \n",
       "2021-05-01                        0.0000                      0.000000  \n",
       "2021-06-01                        0.0000                      0.000000  \n",
       "2021-07-01                        0.0000                      0.000000  \n",
       "2021-08-01                        0.0000                      0.000000  \n",
       "2021-09-01                        0.0000                      0.000000  \n",
       "2021-10-01                        0.0000                      0.000000  \n",
       "2021-11-01                        0.0000                      0.000000  \n",
       "2021-12-01                      773.2595                    723.571998  \n",
       "\n",
       "[12 rows x 365 columns]"
      ]
     },
     "execution_count": 17,
     "metadata": {},
     "output_type": "execute_result"
    }
   ],
   "source": [
    "B = pd.DataFrame(B, index=Y_train.index, columns=norm_X.index)\n",
    "B"
   ]
  },
  {
   "cell_type": "code",
   "execution_count": 18,
   "metadata": {},
   "outputs": [],
   "source": [
    "with open('../data/2_processed/PenNMF/B_{}.pkl'.format('_'.join(train_years)), 'wb') as file:\n",
    "    pickle.dump(B, file)"
   ]
  },
  {
   "cell_type": "code",
   "execution_count": 19,
   "metadata": {},
   "outputs": [
    {
     "data": {
      "text/plain": [
       "(5, 3)"
      ]
     },
     "execution_count": 19,
     "metadata": {},
     "output_type": "execute_result"
    }
   ],
   "source": [
    "A = np.array([\n",
    "    [1, 0, 0],\n",
    "    [1, 0, 0],\n",
    "    [0, 1, 0],\n",
    "    [0, 0, 1],\n",
    "    [0, 0, 1]\n",
    "])\n",
    "\n",
    "# A = np.array([\n",
    "#     [1, 0, 0],\n",
    "#     [0, 1, 0],\n",
    "#     [0, 0, 1]\n",
    "# ])\n",
    "\n",
    "# A = np.array([\n",
    "#     [1, 0, 0],\n",
    "#     [1, 0, 0],\n",
    "#     [0, 1, 0],\n",
    "#     [0, 1, 0],\n",
    "#     [0, 0, 1],\n",
    "#     [0, 0, 1]\n",
    "# ])\n",
    "\n",
    "A.shape"
   ]
  },
  {
   "cell_type": "markdown",
   "metadata": {},
   "source": [
    "# Initialize matrix $C$"
   ]
  },
  {
   "cell_type": "code",
   "execution_count": 20,
   "metadata": {},
   "outputs": [
    {
     "data": {
      "text/plain": [
       "Mese\n",
       "2021-01-01    27083.284488\n",
       "2021-02-01    24824.543014\n",
       "2021-03-01    26463.659500\n",
       "2021-04-01    23956.100005\n",
       "2021-05-01    24404.707491\n",
       "2021-06-01    27204.256011\n",
       "2021-07-01    30413.022475\n",
       "2021-08-01    26660.941487\n",
       "2021-09-01    27000.608978\n",
       "2021-10-01    26363.029513\n",
       "2021-11-01    26495.148006\n",
       "2021-12-01    27413.551487\n",
       "dtype: float64"
      ]
     },
     "execution_count": 20,
     "metadata": {},
     "output_type": "execute_result"
    }
   ],
   "source": [
    "month_cons = pd.Series([a.sum() for a in blocks], index=Y_train.index)\n",
    "month_cons"
   ]
  },
  {
   "cell_type": "code",
   "execution_count": 21,
   "metadata": {},
   "outputs": [
    {
     "data": {
      "text/html": [
       "<div>\n",
       "<style scoped>\n",
       "    .dataframe tbody tr th:only-of-type {\n",
       "        vertical-align: middle;\n",
       "    }\n",
       "\n",
       "    .dataframe tbody tr th {\n",
       "        vertical-align: top;\n",
       "    }\n",
       "\n",
       "    .dataframe thead th {\n",
       "        text-align: right;\n",
       "    }\n",
       "</style>\n",
       "<table border=\"1\" class=\"dataframe\">\n",
       "  <thead>\n",
       "    <tr style=\"text-align: right;\">\n",
       "      <th></th>\n",
       "      <th>Domestico</th>\n",
       "      <th>Industria</th>\n",
       "      <th>Servizi</th>\n",
       "    </tr>\n",
       "    <tr>\n",
       "      <th>Mese</th>\n",
       "      <th></th>\n",
       "      <th></th>\n",
       "      <th></th>\n",
       "    </tr>\n",
       "  </thead>\n",
       "  <tbody>\n",
       "    <tr>\n",
       "      <th>2021-01-01</th>\n",
       "      <td>0.263679</td>\n",
       "      <td>0.440113</td>\n",
       "      <td>0.296208</td>\n",
       "    </tr>\n",
       "    <tr>\n",
       "      <th>2021-02-01</th>\n",
       "      <td>0.232126</td>\n",
       "      <td>0.481513</td>\n",
       "      <td>0.286362</td>\n",
       "    </tr>\n",
       "    <tr>\n",
       "      <th>2021-03-01</th>\n",
       "      <td>0.226285</td>\n",
       "      <td>0.502267</td>\n",
       "      <td>0.271448</td>\n",
       "    </tr>\n",
       "    <tr>\n",
       "      <th>2021-04-01</th>\n",
       "      <td>0.221531</td>\n",
       "      <td>0.511776</td>\n",
       "      <td>0.266693</td>\n",
       "    </tr>\n",
       "    <tr>\n",
       "      <th>2021-05-01</th>\n",
       "      <td>0.196245</td>\n",
       "      <td>0.524060</td>\n",
       "      <td>0.279695</td>\n",
       "    </tr>\n",
       "    <tr>\n",
       "      <th>2021-06-01</th>\n",
       "      <td>0.197728</td>\n",
       "      <td>0.484058</td>\n",
       "      <td>0.318214</td>\n",
       "    </tr>\n",
       "    <tr>\n",
       "      <th>2021-07-01</th>\n",
       "      <td>0.211910</td>\n",
       "      <td>0.456102</td>\n",
       "      <td>0.331988</td>\n",
       "    </tr>\n",
       "    <tr>\n",
       "      <th>2021-08-01</th>\n",
       "      <td>0.265953</td>\n",
       "      <td>0.356040</td>\n",
       "      <td>0.378007</td>\n",
       "    </tr>\n",
       "    <tr>\n",
       "      <th>2021-09-01</th>\n",
       "      <td>0.188232</td>\n",
       "      <td>0.503458</td>\n",
       "      <td>0.308310</td>\n",
       "    </tr>\n",
       "    <tr>\n",
       "      <th>2021-10-01</th>\n",
       "      <td>0.199953</td>\n",
       "      <td>0.506834</td>\n",
       "      <td>0.293212</td>\n",
       "    </tr>\n",
       "    <tr>\n",
       "      <th>2021-11-01</th>\n",
       "      <td>0.215351</td>\n",
       "      <td>0.493685</td>\n",
       "      <td>0.290965</td>\n",
       "    </tr>\n",
       "    <tr>\n",
       "      <th>2021-12-01</th>\n",
       "      <td>0.260423</td>\n",
       "      <td>0.420648</td>\n",
       "      <td>0.318929</td>\n",
       "    </tr>\n",
       "  </tbody>\n",
       "</table>\n",
       "</div>"
      ],
      "text/plain": [
       "            Domestico  Industria   Servizi\n",
       "Mese                                      \n",
       "2021-01-01   0.263679   0.440113  0.296208\n",
       "2021-02-01   0.232126   0.481513  0.286362\n",
       "2021-03-01   0.226285   0.502267  0.271448\n",
       "2021-04-01   0.221531   0.511776  0.266693\n",
       "2021-05-01   0.196245   0.524060  0.279695\n",
       "2021-06-01   0.197728   0.484058  0.318214\n",
       "2021-07-01   0.211910   0.456102  0.331988\n",
       "2021-08-01   0.265953   0.356040  0.378007\n",
       "2021-09-01   0.188232   0.503458  0.308310\n",
       "2021-10-01   0.199953   0.506834  0.293212\n",
       "2021-11-01   0.215351   0.493685  0.290965\n",
       "2021-12-01   0.260423   0.420648  0.318929"
      ]
     },
     "execution_count": 21,
     "metadata": {},
     "output_type": "execute_result"
    }
   ],
   "source": [
    "concentrations_unnorm = Y_train.div(month_cons, axis=0) # type: ignore\n",
    "concentrations = concentrations_unnorm.div(concentrations_unnorm.sum(axis=1), axis=0)\n",
    "concentrations"
   ]
  },
  {
   "cell_type": "code",
   "execution_count": 22,
   "metadata": {},
   "outputs": [
    {
     "data": {
      "text/html": [
       "<div>\n",
       "<style scoped>\n",
       "    .dataframe tbody tr th:only-of-type {\n",
       "        vertical-align: middle;\n",
       "    }\n",
       "\n",
       "    .dataframe tbody tr th {\n",
       "        vertical-align: top;\n",
       "    }\n",
       "\n",
       "    .dataframe thead th {\n",
       "        text-align: right;\n",
       "    }\n",
       "</style>\n",
       "<table border=\"1\" class=\"dataframe\">\n",
       "  <thead>\n",
       "    <tr style=\"text-align: right;\">\n",
       "      <th></th>\n",
       "      <th>Component 1</th>\n",
       "      <th>Component 2</th>\n",
       "      <th>Component 3</th>\n",
       "      <th>Component 4</th>\n",
       "      <th>Component 5</th>\n",
       "    </tr>\n",
       "  </thead>\n",
       "  <tbody>\n",
       "    <tr>\n",
       "      <th>Italy_2021-01-01_Holiday</th>\n",
       "      <td>0.131839</td>\n",
       "      <td>0.131839</td>\n",
       "      <td>0.440113</td>\n",
       "      <td>0.148104</td>\n",
       "      <td>0.148104</td>\n",
       "    </tr>\n",
       "    <tr>\n",
       "      <th>Italy_2021-01-02_Saturday</th>\n",
       "      <td>0.131839</td>\n",
       "      <td>0.131839</td>\n",
       "      <td>0.440113</td>\n",
       "      <td>0.148104</td>\n",
       "      <td>0.148104</td>\n",
       "    </tr>\n",
       "    <tr>\n",
       "      <th>Italy_2021-01-03_Holiday</th>\n",
       "      <td>0.131839</td>\n",
       "      <td>0.131839</td>\n",
       "      <td>0.440113</td>\n",
       "      <td>0.148104</td>\n",
       "      <td>0.148104</td>\n",
       "    </tr>\n",
       "    <tr>\n",
       "      <th>Italy_2021-01-04_Monday</th>\n",
       "      <td>0.131839</td>\n",
       "      <td>0.131839</td>\n",
       "      <td>0.440113</td>\n",
       "      <td>0.148104</td>\n",
       "      <td>0.148104</td>\n",
       "    </tr>\n",
       "    <tr>\n",
       "      <th>Italy_2021-01-05_Working day</th>\n",
       "      <td>0.131839</td>\n",
       "      <td>0.131839</td>\n",
       "      <td>0.440113</td>\n",
       "      <td>0.148104</td>\n",
       "      <td>0.148104</td>\n",
       "    </tr>\n",
       "    <tr>\n",
       "      <th>...</th>\n",
       "      <td>...</td>\n",
       "      <td>...</td>\n",
       "      <td>...</td>\n",
       "      <td>...</td>\n",
       "      <td>...</td>\n",
       "    </tr>\n",
       "    <tr>\n",
       "      <th>Italy_2021-12-27_Monday</th>\n",
       "      <td>0.130211</td>\n",
       "      <td>0.130211</td>\n",
       "      <td>0.420648</td>\n",
       "      <td>0.159465</td>\n",
       "      <td>0.159465</td>\n",
       "    </tr>\n",
       "    <tr>\n",
       "      <th>Italy_2021-12-28_Working day</th>\n",
       "      <td>0.130211</td>\n",
       "      <td>0.130211</td>\n",
       "      <td>0.420648</td>\n",
       "      <td>0.159465</td>\n",
       "      <td>0.159465</td>\n",
       "    </tr>\n",
       "    <tr>\n",
       "      <th>Italy_2021-12-29_Working day</th>\n",
       "      <td>0.130211</td>\n",
       "      <td>0.130211</td>\n",
       "      <td>0.420648</td>\n",
       "      <td>0.159465</td>\n",
       "      <td>0.159465</td>\n",
       "    </tr>\n",
       "    <tr>\n",
       "      <th>Italy_2021-12-30_Working day</th>\n",
       "      <td>0.130211</td>\n",
       "      <td>0.130211</td>\n",
       "      <td>0.420648</td>\n",
       "      <td>0.159465</td>\n",
       "      <td>0.159465</td>\n",
       "    </tr>\n",
       "    <tr>\n",
       "      <th>Italy_2021-12-31_Working day</th>\n",
       "      <td>0.130211</td>\n",
       "      <td>0.130211</td>\n",
       "      <td>0.420648</td>\n",
       "      <td>0.159465</td>\n",
       "      <td>0.159465</td>\n",
       "    </tr>\n",
       "  </tbody>\n",
       "</table>\n",
       "<p>365 rows × 5 columns</p>\n",
       "</div>"
      ],
      "text/plain": [
       "                              Component 1  Component 2  Component 3  \\\n",
       "Italy_2021-01-01_Holiday         0.131839     0.131839     0.440113   \n",
       "Italy_2021-01-02_Saturday        0.131839     0.131839     0.440113   \n",
       "Italy_2021-01-03_Holiday         0.131839     0.131839     0.440113   \n",
       "Italy_2021-01-04_Monday          0.131839     0.131839     0.440113   \n",
       "Italy_2021-01-05_Working day     0.131839     0.131839     0.440113   \n",
       "...                                   ...          ...          ...   \n",
       "Italy_2021-12-27_Monday          0.130211     0.130211     0.420648   \n",
       "Italy_2021-12-28_Working day     0.130211     0.130211     0.420648   \n",
       "Italy_2021-12-29_Working day     0.130211     0.130211     0.420648   \n",
       "Italy_2021-12-30_Working day     0.130211     0.130211     0.420648   \n",
       "Italy_2021-12-31_Working day     0.130211     0.130211     0.420648   \n",
       "\n",
       "                              Component 4  Component 5  \n",
       "Italy_2021-01-01_Holiday         0.148104     0.148104  \n",
       "Italy_2021-01-02_Saturday        0.148104     0.148104  \n",
       "Italy_2021-01-03_Holiday         0.148104     0.148104  \n",
       "Italy_2021-01-04_Monday          0.148104     0.148104  \n",
       "Italy_2021-01-05_Working day     0.148104     0.148104  \n",
       "...                                   ...          ...  \n",
       "Italy_2021-12-27_Monday          0.159465     0.159465  \n",
       "Italy_2021-12-28_Working day     0.159465     0.159465  \n",
       "Italy_2021-12-29_Working day     0.159465     0.159465  \n",
       "Italy_2021-12-30_Working day     0.159465     0.159465  \n",
       "Italy_2021-12-31_Working day     0.159465     0.159465  \n",
       "\n",
       "[365 rows x 5 columns]"
      ]
     },
     "execution_count": 22,
     "metadata": {},
     "output_type": "execute_result"
    }
   ],
   "source": [
    "C_init_mean = pd.DataFrame(index=X_train.index)\n",
    "C_init_mean['month'] = pd.to_datetime(C_init_mean.index.str[6:16])\n",
    "C_init_mean['month'] = C_init_mean['month'].apply(lambda d: d.replace(day=1))\n",
    "for g in range(A.shape[1]):\n",
    "    sources_g = np.nonzero(A[:, g])[0]\n",
    "    for s in sources_g:\n",
    "        C_init_mean.loc[:, f\"Component {s+1}\"] = C_init_mean.merge(concentrations, left_on='month', right_index=True)[concentrations.columns[g]] / len(sources_g)\n",
    "C_init_mean.drop('month', axis=1, inplace=True)\n",
    "C_init_mean"
   ]
  },
  {
   "cell_type": "code",
   "execution_count": 23,
   "metadata": {},
   "outputs": [],
   "source": [
    "# with open('data/2_processed/PenNMF/C_init_mean.pkl', 'wb') as file:\n",
    "#     pickle.dump(C_init_mean, file)"
   ]
  },
  {
   "cell_type": "markdown",
   "metadata": {},
   "source": [
    "# PenNMF"
   ]
  },
  {
   "cell_type": "code",
   "execution_count": 23,
   "metadata": {},
   "outputs": [],
   "source": [
    "n = len(X_train)\n",
    "p = len(X_train.columns)\n",
    "# n_components = len(C_init_mean.columns)\n",
    "n_components = A.shape[0]\n",
    "\n",
    "C_init = initialize_C(X_train, n_components)\n",
    "# C_init = initialize_C_gaussian_prior(C_init_mean)\n",
    "S_init = normalize_curves(np.ones((n_components, p)))"
   ]
  },
  {
   "cell_type": "markdown",
   "metadata": {},
   "source": [
    "## Specify $\\mathrm{E}$, $\\mathrm{D}$ and $\\mathrm{Y}$ matrices for constraints on $S$"
   ]
  },
  {
   "cell_type": "code",
   "execution_count": 24,
   "metadata": {},
   "outputs": [],
   "source": [
    "E = np.eye(n_components)\n",
    "Z = np.ones((n_components, 1))\n",
    "\n",
    "# Creating matrix D is a little more complicated as the multiplication of each row of S with the column matrix D should give the functional norm\n",
    "# The lines below essentially consist in writing the functional_norm as a vectorized function\n",
    "D = np.ones((p, 1))\n",
    "D[0, 0] = 0.5\n",
    "D[-1, 0] = 0.5\n",
    "h = 24 / (p-1)\n",
    "D = h * D"
   ]
  },
  {
   "cell_type": "code",
   "execution_count": 25,
   "metadata": {},
   "outputs": [
    {
     "data": {
      "text/html": [
       "<div>\n",
       "<style scoped>\n",
       "    .dataframe tbody tr th:only-of-type {\n",
       "        vertical-align: middle;\n",
       "    }\n",
       "\n",
       "    .dataframe tbody tr th {\n",
       "        vertical-align: top;\n",
       "    }\n",
       "\n",
       "    .dataframe thead th {\n",
       "        text-align: right;\n",
       "    }\n",
       "</style>\n",
       "<table border=\"1\" class=\"dataframe\">\n",
       "  <thead>\n",
       "    <tr style=\"text-align: right;\">\n",
       "      <th></th>\n",
       "      <th>0</th>\n",
       "      <th>1</th>\n",
       "      <th>2</th>\n",
       "      <th>3</th>\n",
       "      <th>4</th>\n",
       "      <th>5</th>\n",
       "      <th>6</th>\n",
       "      <th>7</th>\n",
       "      <th>8</th>\n",
       "      <th>9</th>\n",
       "      <th>...</th>\n",
       "      <th>15</th>\n",
       "      <th>16</th>\n",
       "      <th>17</th>\n",
       "      <th>18</th>\n",
       "      <th>19</th>\n",
       "      <th>20</th>\n",
       "      <th>21</th>\n",
       "      <th>22</th>\n",
       "      <th>23</th>\n",
       "      <th>24</th>\n",
       "    </tr>\n",
       "  </thead>\n",
       "  <tbody>\n",
       "    <tr>\n",
       "      <th>Italy_2021-01-01_Holiday</th>\n",
       "      <td>0.040804</td>\n",
       "      <td>0.038742</td>\n",
       "      <td>0.035854</td>\n",
       "      <td>0.033708</td>\n",
       "      <td>0.032238</td>\n",
       "      <td>0.032600</td>\n",
       "      <td>0.034120</td>\n",
       "      <td>0.035383</td>\n",
       "      <td>0.035496</td>\n",
       "      <td>0.038184</td>\n",
       "      <td>...</td>\n",
       "      <td>0.042573</td>\n",
       "      <td>0.043251</td>\n",
       "      <td>0.047590</td>\n",
       "      <td>0.048918</td>\n",
       "      <td>0.050168</td>\n",
       "      <td>0.050272</td>\n",
       "      <td>0.048012</td>\n",
       "      <td>0.045464</td>\n",
       "      <td>0.041705</td>\n",
       "      <td>0.038179</td>\n",
       "    </tr>\n",
       "    <tr>\n",
       "      <th>Italy_2021-01-02_Saturday</th>\n",
       "      <td>0.034414</td>\n",
       "      <td>0.031907</td>\n",
       "      <td>0.030306</td>\n",
       "      <td>0.029319</td>\n",
       "      <td>0.029488</td>\n",
       "      <td>0.030321</td>\n",
       "      <td>0.033353</td>\n",
       "      <td>0.036153</td>\n",
       "      <td>0.038945</td>\n",
       "      <td>0.042298</td>\n",
       "      <td>...</td>\n",
       "      <td>0.044727</td>\n",
       "      <td>0.045919</td>\n",
       "      <td>0.050289</td>\n",
       "      <td>0.052199</td>\n",
       "      <td>0.053566</td>\n",
       "      <td>0.051826</td>\n",
       "      <td>0.048080</td>\n",
       "      <td>0.044351</td>\n",
       "      <td>0.039698</td>\n",
       "      <td>0.035197</td>\n",
       "    </tr>\n",
       "    <tr>\n",
       "      <th>Italy_2021-01-03_Holiday</th>\n",
       "      <td>0.037353</td>\n",
       "      <td>0.034144</td>\n",
       "      <td>0.032665</td>\n",
       "      <td>0.031295</td>\n",
       "      <td>0.030793</td>\n",
       "      <td>0.031833</td>\n",
       "      <td>0.033681</td>\n",
       "      <td>0.035499</td>\n",
       "      <td>0.037216</td>\n",
       "      <td>0.040036</td>\n",
       "      <td>...</td>\n",
       "      <td>0.043765</td>\n",
       "      <td>0.044670</td>\n",
       "      <td>0.049144</td>\n",
       "      <td>0.051261</td>\n",
       "      <td>0.052497</td>\n",
       "      <td>0.052119</td>\n",
       "      <td>0.048489</td>\n",
       "      <td>0.045250</td>\n",
       "      <td>0.041502</td>\n",
       "      <td>0.037208</td>\n",
       "    </tr>\n",
       "    <tr>\n",
       "      <th>Italy_2021-01-04_Monday</th>\n",
       "      <td>0.029707</td>\n",
       "      <td>0.027360</td>\n",
       "      <td>0.026213</td>\n",
       "      <td>0.026345</td>\n",
       "      <td>0.026738</td>\n",
       "      <td>0.027907</td>\n",
       "      <td>0.031743</td>\n",
       "      <td>0.037142</td>\n",
       "      <td>0.042662</td>\n",
       "      <td>0.047633</td>\n",
       "      <td>...</td>\n",
       "      <td>0.049228</td>\n",
       "      <td>0.049020</td>\n",
       "      <td>0.052170</td>\n",
       "      <td>0.052683</td>\n",
       "      <td>0.052748</td>\n",
       "      <td>0.049429</td>\n",
       "      <td>0.045780</td>\n",
       "      <td>0.041584</td>\n",
       "      <td>0.037839</td>\n",
       "      <td>0.033934</td>\n",
       "    </tr>\n",
       "    <tr>\n",
       "      <th>Italy_2021-01-05_Working day</th>\n",
       "      <td>0.032900</td>\n",
       "      <td>0.030340</td>\n",
       "      <td>0.028683</td>\n",
       "      <td>0.028162</td>\n",
       "      <td>0.028115</td>\n",
       "      <td>0.029145</td>\n",
       "      <td>0.032760</td>\n",
       "      <td>0.038128</td>\n",
       "      <td>0.043562</td>\n",
       "      <td>0.047061</td>\n",
       "      <td>...</td>\n",
       "      <td>0.048094</td>\n",
       "      <td>0.048353</td>\n",
       "      <td>0.051152</td>\n",
       "      <td>0.051067</td>\n",
       "      <td>0.050467</td>\n",
       "      <td>0.048227</td>\n",
       "      <td>0.044795</td>\n",
       "      <td>0.041040</td>\n",
       "      <td>0.036631</td>\n",
       "      <td>0.032362</td>\n",
       "    </tr>\n",
       "    <tr>\n",
       "      <th>...</th>\n",
       "      <td>...</td>\n",
       "      <td>...</td>\n",
       "      <td>...</td>\n",
       "      <td>...</td>\n",
       "      <td>...</td>\n",
       "      <td>...</td>\n",
       "      <td>...</td>\n",
       "      <td>...</td>\n",
       "      <td>...</td>\n",
       "      <td>...</td>\n",
       "      <td>...</td>\n",
       "      <td>...</td>\n",
       "      <td>...</td>\n",
       "      <td>...</td>\n",
       "      <td>...</td>\n",
       "      <td>...</td>\n",
       "      <td>...</td>\n",
       "      <td>...</td>\n",
       "      <td>...</td>\n",
       "      <td>...</td>\n",
       "      <td>...</td>\n",
       "    </tr>\n",
       "    <tr>\n",
       "      <th>Italy_2021-12-27_Monday</th>\n",
       "      <td>0.029975</td>\n",
       "      <td>0.027723</td>\n",
       "      <td>0.026592</td>\n",
       "      <td>0.026091</td>\n",
       "      <td>0.026118</td>\n",
       "      <td>0.027452</td>\n",
       "      <td>0.031685</td>\n",
       "      <td>0.037448</td>\n",
       "      <td>0.043143</td>\n",
       "      <td>0.048461</td>\n",
       "      <td>...</td>\n",
       "      <td>0.048881</td>\n",
       "      <td>0.049225</td>\n",
       "      <td>0.052037</td>\n",
       "      <td>0.051697</td>\n",
       "      <td>0.051548</td>\n",
       "      <td>0.049241</td>\n",
       "      <td>0.045457</td>\n",
       "      <td>0.041209</td>\n",
       "      <td>0.036914</td>\n",
       "      <td>0.033171</td>\n",
       "    </tr>\n",
       "    <tr>\n",
       "      <th>Italy_2021-12-28_Working day</th>\n",
       "      <td>0.032146</td>\n",
       "      <td>0.029966</td>\n",
       "      <td>0.028617</td>\n",
       "      <td>0.027832</td>\n",
       "      <td>0.027936</td>\n",
       "      <td>0.029168</td>\n",
       "      <td>0.032588</td>\n",
       "      <td>0.038372</td>\n",
       "      <td>0.044393</td>\n",
       "      <td>0.048580</td>\n",
       "      <td>...</td>\n",
       "      <td>0.048194</td>\n",
       "      <td>0.048028</td>\n",
       "      <td>0.051152</td>\n",
       "      <td>0.050903</td>\n",
       "      <td>0.050659</td>\n",
       "      <td>0.048150</td>\n",
       "      <td>0.044725</td>\n",
       "      <td>0.040248</td>\n",
       "      <td>0.035849</td>\n",
       "      <td>0.032087</td>\n",
       "    </tr>\n",
       "    <tr>\n",
       "      <th>Italy_2021-12-29_Working day</th>\n",
       "      <td>0.033133</td>\n",
       "      <td>0.030512</td>\n",
       "      <td>0.029107</td>\n",
       "      <td>0.028394</td>\n",
       "      <td>0.028430</td>\n",
       "      <td>0.029614</td>\n",
       "      <td>0.033534</td>\n",
       "      <td>0.039242</td>\n",
       "      <td>0.044130</td>\n",
       "      <td>0.048258</td>\n",
       "      <td>...</td>\n",
       "      <td>0.046530</td>\n",
       "      <td>0.046826</td>\n",
       "      <td>0.050618</td>\n",
       "      <td>0.051014</td>\n",
       "      <td>0.050771</td>\n",
       "      <td>0.048555</td>\n",
       "      <td>0.044809</td>\n",
       "      <td>0.040779</td>\n",
       "      <td>0.036631</td>\n",
       "      <td>0.033702</td>\n",
       "    </tr>\n",
       "    <tr>\n",
       "      <th>Italy_2021-12-30_Working day</th>\n",
       "      <td>0.033170</td>\n",
       "      <td>0.030422</td>\n",
       "      <td>0.029202</td>\n",
       "      <td>0.028728</td>\n",
       "      <td>0.028826</td>\n",
       "      <td>0.030280</td>\n",
       "      <td>0.034086</td>\n",
       "      <td>0.039912</td>\n",
       "      <td>0.044722</td>\n",
       "      <td>0.048465</td>\n",
       "      <td>...</td>\n",
       "      <td>0.046354</td>\n",
       "      <td>0.046402</td>\n",
       "      <td>0.049787</td>\n",
       "      <td>0.050471</td>\n",
       "      <td>0.050767</td>\n",
       "      <td>0.048828</td>\n",
       "      <td>0.045276</td>\n",
       "      <td>0.041357</td>\n",
       "      <td>0.036980</td>\n",
       "      <td>0.033696</td>\n",
       "    </tr>\n",
       "    <tr>\n",
       "      <th>Italy_2021-12-31_Working day</th>\n",
       "      <td>0.036010</td>\n",
       "      <td>0.032691</td>\n",
       "      <td>0.030801</td>\n",
       "      <td>0.030325</td>\n",
       "      <td>0.030284</td>\n",
       "      <td>0.031567</td>\n",
       "      <td>0.034798</td>\n",
       "      <td>0.039685</td>\n",
       "      <td>0.043223</td>\n",
       "      <td>0.046978</td>\n",
       "      <td>...</td>\n",
       "      <td>0.044529</td>\n",
       "      <td>0.045340</td>\n",
       "      <td>0.050061</td>\n",
       "      <td>0.051783</td>\n",
       "      <td>0.051483</td>\n",
       "      <td>0.049162</td>\n",
       "      <td>0.044832</td>\n",
       "      <td>0.041607</td>\n",
       "      <td>0.038452</td>\n",
       "      <td>0.033542</td>\n",
       "    </tr>\n",
       "  </tbody>\n",
       "</table>\n",
       "<p>365 rows × 25 columns</p>\n",
       "</div>"
      ],
      "text/plain": [
       "                                     0         1         2         3  \\\n",
       "Italy_2021-01-01_Holiday      0.040804  0.038742  0.035854  0.033708   \n",
       "Italy_2021-01-02_Saturday     0.034414  0.031907  0.030306  0.029319   \n",
       "Italy_2021-01-03_Holiday      0.037353  0.034144  0.032665  0.031295   \n",
       "Italy_2021-01-04_Monday       0.029707  0.027360  0.026213  0.026345   \n",
       "Italy_2021-01-05_Working day  0.032900  0.030340  0.028683  0.028162   \n",
       "...                                ...       ...       ...       ...   \n",
       "Italy_2021-12-27_Monday       0.029975  0.027723  0.026592  0.026091   \n",
       "Italy_2021-12-28_Working day  0.032146  0.029966  0.028617  0.027832   \n",
       "Italy_2021-12-29_Working day  0.033133  0.030512  0.029107  0.028394   \n",
       "Italy_2021-12-30_Working day  0.033170  0.030422  0.029202  0.028728   \n",
       "Italy_2021-12-31_Working day  0.036010  0.032691  0.030801  0.030325   \n",
       "\n",
       "                                     4         5         6         7  \\\n",
       "Italy_2021-01-01_Holiday      0.032238  0.032600  0.034120  0.035383   \n",
       "Italy_2021-01-02_Saturday     0.029488  0.030321  0.033353  0.036153   \n",
       "Italy_2021-01-03_Holiday      0.030793  0.031833  0.033681  0.035499   \n",
       "Italy_2021-01-04_Monday       0.026738  0.027907  0.031743  0.037142   \n",
       "Italy_2021-01-05_Working day  0.028115  0.029145  0.032760  0.038128   \n",
       "...                                ...       ...       ...       ...   \n",
       "Italy_2021-12-27_Monday       0.026118  0.027452  0.031685  0.037448   \n",
       "Italy_2021-12-28_Working day  0.027936  0.029168  0.032588  0.038372   \n",
       "Italy_2021-12-29_Working day  0.028430  0.029614  0.033534  0.039242   \n",
       "Italy_2021-12-30_Working day  0.028826  0.030280  0.034086  0.039912   \n",
       "Italy_2021-12-31_Working day  0.030284  0.031567  0.034798  0.039685   \n",
       "\n",
       "                                     8         9  ...        15        16  \\\n",
       "Italy_2021-01-01_Holiday      0.035496  0.038184  ...  0.042573  0.043251   \n",
       "Italy_2021-01-02_Saturday     0.038945  0.042298  ...  0.044727  0.045919   \n",
       "Italy_2021-01-03_Holiday      0.037216  0.040036  ...  0.043765  0.044670   \n",
       "Italy_2021-01-04_Monday       0.042662  0.047633  ...  0.049228  0.049020   \n",
       "Italy_2021-01-05_Working day  0.043562  0.047061  ...  0.048094  0.048353   \n",
       "...                                ...       ...  ...       ...       ...   \n",
       "Italy_2021-12-27_Monday       0.043143  0.048461  ...  0.048881  0.049225   \n",
       "Italy_2021-12-28_Working day  0.044393  0.048580  ...  0.048194  0.048028   \n",
       "Italy_2021-12-29_Working day  0.044130  0.048258  ...  0.046530  0.046826   \n",
       "Italy_2021-12-30_Working day  0.044722  0.048465  ...  0.046354  0.046402   \n",
       "Italy_2021-12-31_Working day  0.043223  0.046978  ...  0.044529  0.045340   \n",
       "\n",
       "                                    17        18        19        20  \\\n",
       "Italy_2021-01-01_Holiday      0.047590  0.048918  0.050168  0.050272   \n",
       "Italy_2021-01-02_Saturday     0.050289  0.052199  0.053566  0.051826   \n",
       "Italy_2021-01-03_Holiday      0.049144  0.051261  0.052497  0.052119   \n",
       "Italy_2021-01-04_Monday       0.052170  0.052683  0.052748  0.049429   \n",
       "Italy_2021-01-05_Working day  0.051152  0.051067  0.050467  0.048227   \n",
       "...                                ...       ...       ...       ...   \n",
       "Italy_2021-12-27_Monday       0.052037  0.051697  0.051548  0.049241   \n",
       "Italy_2021-12-28_Working day  0.051152  0.050903  0.050659  0.048150   \n",
       "Italy_2021-12-29_Working day  0.050618  0.051014  0.050771  0.048555   \n",
       "Italy_2021-12-30_Working day  0.049787  0.050471  0.050767  0.048828   \n",
       "Italy_2021-12-31_Working day  0.050061  0.051783  0.051483  0.049162   \n",
       "\n",
       "                                    21        22        23        24  \n",
       "Italy_2021-01-01_Holiday      0.048012  0.045464  0.041705  0.038179  \n",
       "Italy_2021-01-02_Saturday     0.048080  0.044351  0.039698  0.035197  \n",
       "Italy_2021-01-03_Holiday      0.048489  0.045250  0.041502  0.037208  \n",
       "Italy_2021-01-04_Monday       0.045780  0.041584  0.037839  0.033934  \n",
       "Italy_2021-01-05_Working day  0.044795  0.041040  0.036631  0.032362  \n",
       "...                                ...       ...       ...       ...  \n",
       "Italy_2021-12-27_Monday       0.045457  0.041209  0.036914  0.033171  \n",
       "Italy_2021-12-28_Working day  0.044725  0.040248  0.035849  0.032087  \n",
       "Italy_2021-12-29_Working day  0.044809  0.040779  0.036631  0.033702  \n",
       "Italy_2021-12-30_Working day  0.045276  0.041357  0.036980  0.033696  \n",
       "Italy_2021-12-31_Working day  0.044832  0.041607  0.038452  0.033542  \n",
       "\n",
       "[365 rows x 25 columns]"
      ]
     },
     "execution_count": 25,
     "metadata": {},
     "output_type": "execute_result"
    }
   ],
   "source": [
    "X_train"
   ]
  },
  {
   "cell_type": "markdown",
   "metadata": {},
   "source": [
    "## Find suitable $\\alpha$ and $\\beta$ regularisation parameters"
   ]
  },
  {
   "cell_type": "code",
   "execution_count": 26,
   "metadata": {},
   "outputs": [
    {
     "name": "stdout",
     "output_type": "stream",
     "text": [
      "0.46865517476248736 1007063175.1878599 1.232595164407831e-32\n",
      "4.6536819765558735e-10\n"
     ]
    }
   ],
   "source": [
    "loss_nmf = _loss_nmf(X_train, C_init, S_init)\n",
    "loss_constraint_c = _loss_constraint_c(Y_train, B.values, C_init, A)\n",
    "loss_constraint_s = _loss_constraint_s(Z, E, S_init, D)\n",
    "\n",
    "print(loss_nmf, loss_constraint_c, loss_constraint_s)\n",
    "print(loss_nmf / loss_constraint_c)"
   ]
  },
  {
   "cell_type": "code",
   "execution_count": 27,
   "metadata": {},
   "outputs": [],
   "source": [
    "# The term that beta controls is the sum of n_component deviations from the unit-functional-normed vector, so we can safely set it to 1 or 0.1\n",
    "beta = 1"
   ]
  },
  {
   "cell_type": "code",
   "execution_count": 40,
   "metadata": {},
   "outputs": [
    {
     "name": "stderr",
     "output_type": "stream",
     "text": [
      "100%|██████████| 20/20 [01:21<00:00,  4.08s/it]\n"
     ]
    }
   ],
   "source": [
    "### Search for alphas ###\n",
    "\n",
    "n_alphas = 20\n",
    "pow_min = -11\n",
    "pow_max = -8\n",
    "alphas = 10 ** np.linspace(pow_min, pow_max, n_alphas)\n",
    "# alphas = np.linspace(1e-10, 1e-9, n_alphas) # for uniform initilisation 5 components\n",
    "# alphas = np.linspace(5e-10, 5e-9, n_alphas) # for uniform initilisation 3 components\n",
    "# alphas = np.linspace(5e-8, 5e-7, n_alphas) # for gaussian initialisation\n",
    "n_runs = 10\n",
    "\n",
    "n_iter_df = pd.DataFrame(columns=alphas, index=range(n_runs))\n",
    "loss_nmf_df = pd.DataFrame(columns=alphas, index=range(n_runs))\n",
    "loss_constraint_c_df = pd.DataFrame(columns=alphas, index=range(n_runs))\n",
    "loss_constraint_s_df = pd.DataFrame(columns=alphas, index=range(n_runs))\n",
    "\n",
    "for alpha in tqdm(alphas):\n",
    "    n_iter = []\n",
    "    loss_nmf = []\n",
    "    loss_constraint_c = []\n",
    "    loss_constraint_s = []\n",
    "\n",
    "    model = PenNMF(\n",
    "        n_components=n_components,\n",
    "        alpha=alpha,\n",
    "        beta=beta\n",
    "    )\n",
    "\n",
    "    for runs in range(n_runs):\n",
    "        C_init = initialize_C(X_train, n_components)\n",
    "        # C_init = initialize_C_gaussian_prior(C_init_mean)\n",
    "        C = model.fit_transform(X_train.values, C_init.values, S_init, Y_train.values, A, B.values, Z, D, E)\n",
    "\n",
    "        n_iter.append(model.n_iter_)\n",
    "        loss_nmf.append(model.losses_nmf_[-1])\n",
    "        loss_constraint_c.append(model.losses_constraint_c_[-1])\n",
    "        loss_constraint_s.append(model.losses_constraint_s_[-1])\n",
    "    \n",
    "    n_iter_df[alpha] = n_iter\n",
    "    loss_nmf_df[alpha] = loss_nmf\n",
    "    loss_constraint_c_df[alpha] = loss_constraint_c\n",
    "    loss_constraint_s_df[alpha] = loss_constraint_s\n",
    "    \n"
   ]
  },
  {
   "cell_type": "code",
   "execution_count": 41,
   "metadata": {},
   "outputs": [
    {
     "data": {
      "text/plain": [
       "<Axes: >"
      ]
     },
     "execution_count": 41,
     "metadata": {},
     "output_type": "execute_result"
    },
    {
     "data": {
      "image/png": "[encoded data removed]",
      "text/plain": [
       "<Figure size 640x480 with 1 Axes>"
      ]
     },
     "metadata": {},
     "output_type": "display_data"
    }
   ],
   "source": [
    "n_iter_df.mean(axis=0).plot()"
   ]
  },
  {
   "cell_type": "code",
   "execution_count": 42,
   "metadata": {},
   "outputs": [
    {
     "data": {
      "text/plain": [
       "<Axes: >"
      ]
     },
     "execution_count": 42,
     "metadata": {},
     "output_type": "execute_result"
    },
    {
     "data": {
      "image/png": "[encoded data removed]",
      "text/plain": [
       "<Figure size 640x480 with 1 Axes>"
      ]
     },
     "metadata": {},
     "output_type": "display_data"
    }
   ],
   "source": [
    "loss_nmf_df.mean(axis=0).plot()"
   ]
  },
  {
   "cell_type": "code",
   "execution_count": 43,
   "metadata": {},
   "outputs": [
    {
     "data": {
      "text/plain": [
       "<Axes: >"
      ]
     },
     "execution_count": 43,
     "metadata": {},
     "output_type": "execute_result"
    },
    {
     "data": {
      "image/png": "[encoded data removed]",
      "text/plain": [
       "<Figure size 640x480 with 1 Axes>"
      ]
     },
     "metadata": {},
     "output_type": "display_data"
    }
   ],
   "source": [
    "loss_nmf_df.boxplot()"
   ]
  },
  {
   "cell_type": "code",
   "execution_count": 44,
   "metadata": {},
   "outputs": [
    {
     "data": {
      "text/plain": [
       "1.000000e-11    0.008065\n",
       "1.438450e-11    0.010003\n",
       "2.069138e-11    0.010197\n",
       "2.976351e-11    0.010547\n",
       "4.281332e-11    0.010545\n",
       "6.158482e-11    0.010521\n",
       "8.858668e-11    0.008160\n",
       "1.274275e-10    0.010569\n",
       "1.832981e-10    0.010736\n",
       "2.636651e-10    0.010334\n",
       "3.792690e-10    0.010954\n",
       "5.455595e-10    0.010954\n",
       "7.847600e-10    0.011129\n",
       "1.128838e-09    0.011395\n",
       "1.623777e-09    0.011860\n",
       "2.335721e-09    0.012431\n",
       "3.359818e-09    0.020083\n",
       "4.832930e-09    0.032034\n",
       "6.951928e-09    0.033039\n",
       "1.000000e-08    0.034276\n",
       "dtype: float64"
      ]
     },
     "execution_count": 44,
     "metadata": {},
     "output_type": "execute_result"
    }
   ],
   "source": [
    "loss_nmf_df.median(axis=0)"
   ]
  },
  {
   "cell_type": "code",
   "execution_count": 45,
   "metadata": {},
   "outputs": [
    {
     "data": {
      "text/html": [
       "<div>\n",
       "<style scoped>\n",
       "    .dataframe tbody tr th:only-of-type {\n",
       "        vertical-align: middle;\n",
       "    }\n",
       "\n",
       "    .dataframe tbody tr th {\n",
       "        vertical-align: top;\n",
       "    }\n",
       "\n",
       "    .dataframe thead th {\n",
       "        text-align: right;\n",
       "    }\n",
       "</style>\n",
       "<table border=\"1\" class=\"dataframe\">\n",
       "  <thead>\n",
       "    <tr style=\"text-align: right;\">\n",
       "      <th></th>\n",
       "      <th>1.000000e-11</th>\n",
       "      <th>1.438450e-11</th>\n",
       "      <th>2.069138e-11</th>\n",
       "      <th>2.976351e-11</th>\n",
       "      <th>4.281332e-11</th>\n",
       "      <th>6.158482e-11</th>\n",
       "      <th>8.858668e-11</th>\n",
       "      <th>1.274275e-10</th>\n",
       "      <th>1.832981e-10</th>\n",
       "      <th>2.636651e-10</th>\n",
       "      <th>3.792690e-10</th>\n",
       "      <th>5.455595e-10</th>\n",
       "      <th>7.847600e-10</th>\n",
       "      <th>1.128838e-09</th>\n",
       "      <th>1.623777e-09</th>\n",
       "      <th>2.335721e-09</th>\n",
       "      <th>3.359818e-09</th>\n",
       "      <th>4.832930e-09</th>\n",
       "      <th>6.951928e-09</th>\n",
       "      <th>1.000000e-08</th>\n",
       "    </tr>\n",
       "  </thead>\n",
       "  <tbody>\n",
       "    <tr>\n",
       "      <th>0</th>\n",
       "      <td>0.010482</td>\n",
       "      <td>0.005930</td>\n",
       "      <td>0.010118</td>\n",
       "      <td>0.010517</td>\n",
       "      <td>0.010423</td>\n",
       "      <td>0.010427</td>\n",
       "      <td>0.006039</td>\n",
       "      <td>0.010548</td>\n",
       "      <td>0.010670</td>\n",
       "      <td>0.010385</td>\n",
       "      <td>0.011301</td>\n",
       "      <td>0.010979</td>\n",
       "      <td>0.011228</td>\n",
       "      <td>0.011088</td>\n",
       "      <td>0.011477</td>\n",
       "      <td>0.012216</td>\n",
       "      <td>0.022584</td>\n",
       "      <td>0.033054</td>\n",
       "      <td>0.035213</td>\n",
       "      <td>0.032610</td>\n",
       "    </tr>\n",
       "    <tr>\n",
       "      <th>1</th>\n",
       "      <td>0.010387</td>\n",
       "      <td>0.010605</td>\n",
       "      <td>0.010300</td>\n",
       "      <td>0.005837</td>\n",
       "      <td>0.010534</td>\n",
       "      <td>0.010657</td>\n",
       "      <td>0.010663</td>\n",
       "      <td>0.010671</td>\n",
       "      <td>0.011137</td>\n",
       "      <td>0.006531</td>\n",
       "      <td>0.011034</td>\n",
       "      <td>0.010319</td>\n",
       "      <td>0.010550</td>\n",
       "      <td>0.011270</td>\n",
       "      <td>0.019529</td>\n",
       "      <td>0.012086</td>\n",
       "      <td>0.013789</td>\n",
       "      <td>0.032299</td>\n",
       "      <td>0.022045</td>\n",
       "      <td>0.034686</td>\n",
       "    </tr>\n",
       "    <tr>\n",
       "      <th>2</th>\n",
       "      <td>0.005575</td>\n",
       "      <td>0.010264</td>\n",
       "      <td>0.010301</td>\n",
       "      <td>0.010658</td>\n",
       "      <td>0.010556</td>\n",
       "      <td>0.010105</td>\n",
       "      <td>0.006333</td>\n",
       "      <td>0.010514</td>\n",
       "      <td>0.011152</td>\n",
       "      <td>0.010362</td>\n",
       "      <td>0.010330</td>\n",
       "      <td>0.010521</td>\n",
       "      <td>0.008528</td>\n",
       "      <td>0.012507</td>\n",
       "      <td>0.011604</td>\n",
       "      <td>0.012990</td>\n",
       "      <td>0.013187</td>\n",
       "      <td>0.024103</td>\n",
       "      <td>0.033024</td>\n",
       "      <td>0.033878</td>\n",
       "    </tr>\n",
       "    <tr>\n",
       "      <th>3</th>\n",
       "      <td>0.005657</td>\n",
       "      <td>0.005688</td>\n",
       "      <td>0.005986</td>\n",
       "      <td>0.010612</td>\n",
       "      <td>0.010896</td>\n",
       "      <td>0.010386</td>\n",
       "      <td>0.009986</td>\n",
       "      <td>0.010565</td>\n",
       "      <td>0.006193</td>\n",
       "      <td>0.010738</td>\n",
       "      <td>0.010903</td>\n",
       "      <td>0.010615</td>\n",
       "      <td>0.010222</td>\n",
       "      <td>0.011457</td>\n",
       "      <td>0.011639</td>\n",
       "      <td>0.011828</td>\n",
       "      <td>0.032733</td>\n",
       "      <td>0.015221</td>\n",
       "      <td>0.033181</td>\n",
       "      <td>0.028785</td>\n",
       "    </tr>\n",
       "    <tr>\n",
       "      <th>4</th>\n",
       "      <td>0.010534</td>\n",
       "      <td>0.010549</td>\n",
       "      <td>0.005623</td>\n",
       "      <td>0.010582</td>\n",
       "      <td>0.010843</td>\n",
       "      <td>0.006058</td>\n",
       "      <td>0.005937</td>\n",
       "      <td>0.010451</td>\n",
       "      <td>0.006181</td>\n",
       "      <td>0.006308</td>\n",
       "      <td>0.010932</td>\n",
       "      <td>0.010929</td>\n",
       "      <td>0.011073</td>\n",
       "      <td>0.011454</td>\n",
       "      <td>0.011689</td>\n",
       "      <td>0.013451</td>\n",
       "      <td>0.012484</td>\n",
       "      <td>0.032153</td>\n",
       "      <td>0.022319</td>\n",
       "      <td>0.034070</td>\n",
       "    </tr>\n",
       "    <tr>\n",
       "      <th>5</th>\n",
       "      <td>0.005836</td>\n",
       "      <td>0.005905</td>\n",
       "      <td>0.010150</td>\n",
       "      <td>0.005822</td>\n",
       "      <td>0.005983</td>\n",
       "      <td>0.010758</td>\n",
       "      <td>0.010708</td>\n",
       "      <td>0.011161</td>\n",
       "      <td>0.011029</td>\n",
       "      <td>0.010306</td>\n",
       "      <td>0.011728</td>\n",
       "      <td>0.011111</td>\n",
       "      <td>0.011499</td>\n",
       "      <td>0.011052</td>\n",
       "      <td>0.012030</td>\n",
       "      <td>0.012170</td>\n",
       "      <td>0.020385</td>\n",
       "      <td>0.031558</td>\n",
       "      <td>0.032720</td>\n",
       "      <td>0.110764</td>\n",
       "    </tr>\n",
       "    <tr>\n",
       "      <th>6</th>\n",
       "      <td>0.010295</td>\n",
       "      <td>0.005931</td>\n",
       "      <td>0.010183</td>\n",
       "      <td>0.010577</td>\n",
       "      <td>0.006120</td>\n",
       "      <td>0.006172</td>\n",
       "      <td>0.005968</td>\n",
       "      <td>0.010798</td>\n",
       "      <td>0.010635</td>\n",
       "      <td>0.006582</td>\n",
       "      <td>0.011229</td>\n",
       "      <td>0.021128</td>\n",
       "      <td>0.011895</td>\n",
       "      <td>0.013097</td>\n",
       "      <td>0.011672</td>\n",
       "      <td>0.012555</td>\n",
       "      <td>0.013728</td>\n",
       "      <td>0.017021</td>\n",
       "      <td>0.033124</td>\n",
       "      <td>0.029587</td>\n",
       "    </tr>\n",
       "    <tr>\n",
       "      <th>7</th>\n",
       "      <td>0.005727</td>\n",
       "      <td>0.010415</td>\n",
       "      <td>0.010431</td>\n",
       "      <td>0.005693</td>\n",
       "      <td>0.006124</td>\n",
       "      <td>0.010616</td>\n",
       "      <td>0.010612</td>\n",
       "      <td>0.006493</td>\n",
       "      <td>0.010989</td>\n",
       "      <td>0.011227</td>\n",
       "      <td>0.010934</td>\n",
       "      <td>0.011074</td>\n",
       "      <td>0.011184</td>\n",
       "      <td>0.012855</td>\n",
       "      <td>0.012334</td>\n",
       "      <td>0.012307</td>\n",
       "      <td>0.033029</td>\n",
       "      <td>0.031915</td>\n",
       "      <td>0.033055</td>\n",
       "      <td>0.110899</td>\n",
       "    </tr>\n",
       "    <tr>\n",
       "      <th>8</th>\n",
       "      <td>0.005697</td>\n",
       "      <td>0.010034</td>\n",
       "      <td>0.010407</td>\n",
       "      <td>0.010793</td>\n",
       "      <td>0.010666</td>\n",
       "      <td>0.010741</td>\n",
       "      <td>0.005932</td>\n",
       "      <td>0.010607</td>\n",
       "      <td>0.009712</td>\n",
       "      <td>0.006741</td>\n",
       "      <td>0.010973</td>\n",
       "      <td>0.011153</td>\n",
       "      <td>0.010865</td>\n",
       "      <td>0.011337</td>\n",
       "      <td>0.019220</td>\n",
       "      <td>0.021672</td>\n",
       "      <td>0.019781</td>\n",
       "      <td>0.033434</td>\n",
       "      <td>0.032754</td>\n",
       "      <td>0.034482</td>\n",
       "    </tr>\n",
       "    <tr>\n",
       "      <th>9</th>\n",
       "      <td>0.010400</td>\n",
       "      <td>0.009973</td>\n",
       "      <td>0.010211</td>\n",
       "      <td>0.005785</td>\n",
       "      <td>0.010660</td>\n",
       "      <td>0.010706</td>\n",
       "      <td>0.010452</td>\n",
       "      <td>0.010572</td>\n",
       "      <td>0.010803</td>\n",
       "      <td>0.010627</td>\n",
       "      <td>0.010871</td>\n",
       "      <td>0.010784</td>\n",
       "      <td>0.011512</td>\n",
       "      <td>0.011209</td>\n",
       "      <td>0.012924</td>\n",
       "      <td>0.023426</td>\n",
       "      <td>0.023763</td>\n",
       "      <td>0.032409</td>\n",
       "      <td>0.033749</td>\n",
       "      <td>0.110700</td>\n",
       "    </tr>\n",
       "  </tbody>\n",
       "</table>\n",
       "</div>"
      ],
      "text/plain": [
       "   1.000000e-11  1.438450e-11  2.069138e-11  2.976351e-11  4.281332e-11  \\\n",
       "0      0.010482      0.005930      0.010118      0.010517      0.010423   \n",
       "1      0.010387      0.010605      0.010300      0.005837      0.010534   \n",
       "2      0.005575      0.010264      0.010301      0.010658      0.010556   \n",
       "3      0.005657      0.005688      0.005986      0.010612      0.010896   \n",
       "4      0.010534      0.010549      0.005623      0.010582      0.010843   \n",
       "5      0.005836      0.005905      0.010150      0.005822      0.005983   \n",
       "6      0.010295      0.005931      0.010183      0.010577      0.006120   \n",
       "7      0.005727      0.010415      0.010431      0.005693      0.006124   \n",
       "8      0.005697      0.010034      0.010407      0.010793      0.010666   \n",
       "9      0.010400      0.009973      0.010211      0.005785      0.010660   \n",
       "\n",
       "   6.158482e-11  8.858668e-11  1.274275e-10  1.832981e-10  2.636651e-10  \\\n",
       "0      0.010427      0.006039      0.010548      0.010670      0.010385   \n",
       "1      0.010657      0.010663      0.010671      0.011137      0.006531   \n",
       "2      0.010105      0.006333      0.010514      0.011152      0.010362   \n",
       "3      0.010386      0.009986      0.010565      0.006193      0.010738   \n",
       "4      0.006058      0.005937      0.010451      0.006181      0.006308   \n",
       "5      0.010758      0.010708      0.011161      0.011029      0.010306   \n",
       "6      0.006172      0.005968      0.010798      0.010635      0.006582   \n",
       "7      0.010616      0.010612      0.006493      0.010989      0.011227   \n",
       "8      0.010741      0.005932      0.010607      0.009712      0.006741   \n",
       "9      0.010706      0.010452      0.010572      0.010803      0.010627   \n",
       "\n",
       "   3.792690e-10  5.455595e-10  7.847600e-10  1.128838e-09  1.623777e-09  \\\n",
       "0      0.011301      0.010979      0.011228      0.011088      0.011477   \n",
       "1      0.011034      0.010319      0.010550      0.011270      0.019529   \n",
       "2      0.010330      0.010521      0.008528      0.012507      0.011604   \n",
       "3      0.010903      0.010615      0.010222      0.011457      0.011639   \n",
       "4      0.010932      0.010929      0.011073      0.011454      0.011689   \n",
       "5      0.011728      0.011111      0.011499      0.011052      0.012030   \n",
       "6      0.011229      0.021128      0.011895      0.013097      0.011672   \n",
       "7      0.010934      0.011074      0.011184      0.012855      0.012334   \n",
       "8      0.010973      0.011153      0.010865      0.011337      0.019220   \n",
       "9      0.010871      0.010784      0.011512      0.011209      0.012924   \n",
       "\n",
       "   2.335721e-09  3.359818e-09  4.832930e-09  6.951928e-09  1.000000e-08  \n",
       "0      0.012216      0.022584      0.033054      0.035213      0.032610  \n",
       "1      0.012086      0.013789      0.032299      0.022045      0.034686  \n",
       "2      0.012990      0.013187      0.024103      0.033024      0.033878  \n",
       "3      0.011828      0.032733      0.015221      0.033181      0.028785  \n",
       "4      0.013451      0.012484      0.032153      0.022319      0.034070  \n",
       "5      0.012170      0.020385      0.031558      0.032720      0.110764  \n",
       "6      0.012555      0.013728      0.017021      0.033124      0.029587  \n",
       "7      0.012307      0.033029      0.031915      0.033055      0.110899  \n",
       "8      0.021672      0.019781      0.033434      0.032754      0.034482  \n",
       "9      0.023426      0.023763      0.032409      0.033749      0.110700  "
      ]
     },
     "execution_count": 45,
     "metadata": {},
     "output_type": "execute_result"
    }
   ],
   "source": [
    "loss_nmf_df"
   ]
  },
  {
   "cell_type": "code",
   "execution_count": 46,
   "metadata": {},
   "outputs": [
    {
     "data": {
      "text/plain": [
       "<Axes: >"
      ]
     },
     "execution_count": 46,
     "metadata": {},
     "output_type": "execute_result"
    },
    {
     "data": {
      "image/png": "[encoded data removed]",
      "text/plain": [
       "<Figure size 640x480 with 1 Axes>"
      ]
     },
     "metadata": {},
     "output_type": "display_data"
    }
   ],
   "source": [
    "loss_constraint_c_df.mean(axis=0).plot()"
   ]
  },
  {
   "cell_type": "code",
   "execution_count": 47,
   "metadata": {},
   "outputs": [
    {
     "data": {
      "text/plain": [
       "<Axes: >"
      ]
     },
     "execution_count": 47,
     "metadata": {},
     "output_type": "execute_result"
    },
    {
     "data": {
      "image/png": "[encoded data removed]",
      "text/plain": [
       "<Figure size 640x480 with 1 Axes>"
      ]
     },
     "metadata": {},
     "output_type": "display_data"
    }
   ],
   "source": [
    "loss_constraint_s_df.mean(axis=0).plot()"
   ]
  },
  {
   "cell_type": "code",
   "execution_count": 48,
   "metadata": {},
   "outputs": [
    {
     "data": {
      "text/plain": [
       "Text(0.5, 0, 'alpha')"
      ]
     },
     "execution_count": 48,
     "metadata": {},
     "output_type": "execute_result"
    },
    {
     "data": {
      "image/png": "[encoded data removed]",
      "text/plain": [
       "<Figure size 800x600 with 2 Axes>"
      ]
     },
     "metadata": {},
     "output_type": "display_data"
    }
   ],
   "source": [
    "plt.figure(figsize=(8, 6))\n",
    "ax1 = plt.gca()\n",
    "loss_nmf_df.mean(axis=0).plot(ax=ax1, label='loss_nmf', marker='.')\n",
    "ax1.grid(None)\n",
    "ax1.legend()\n",
    "ax1.set_ylabel('Loss NMF')\n",
    "\n",
    "ax2 = ax1.twinx()\n",
    "loss_constraint_c_df.mean(axis=0).plot(ax=ax2, label='loss_constraint', marker='^', linestyle='dotted')\n",
    "ax2.grid(None)\n",
    "ax2.legend(loc='upper right', bbox_to_anchor=(1,0.94))\n",
    "ax2.set_ylabel('Loss Constraint')\n",
    "ax1.set_xlabel('alpha')\n",
    "# plt.xlim((0, 1e-8))"
   ]
  },
  {
   "cell_type": "code",
   "execution_count": 49,
   "metadata": {},
   "outputs": [
    {
     "data": {
      "application/vnd.plotly.v1+json": {
       "config": {
        "plotlyServerURL": "https://plot.ly"
       },
       "data": [
        {
         "hovertemplate": [
          "Index: 0<br>Alpha: 1.0e-11<br>Loss NMF: 0.008058845621875454",
          "Index: 1<br>Alpha: 1.4e-11<br>Loss NMF: 0.008529266010202619",
          "Index: 2<br>Alpha: 2.1e-11<br>Loss NMF: 0.009371167927082423",
          "Index: 3<br>Alpha: 3.0e-11<br>Loss NMF: 0.008687637953471038",
          "Index: 4<br>Alpha: 4.3e-11<br>Loss NMF: 0.009280505001767875",
          "Index: 5<br>Alpha: 6.2e-11<br>Loss NMF: 0.009662517341025769",
          "Index: 6<br>Alpha: 8.9e-11<br>Loss NMF: 0.008263131983620347",
          "Index: 7<br>Alpha: 1.3e-10<br>Loss NMF: 0.010237989817164719",
          "Index: 8<br>Alpha: 1.8e-10<br>Loss NMF: 0.009850001662710495",
          "Index: 9<br>Alpha: 2.6e-10<br>Loss NMF: 0.00898071686722551",
          "Index: 10<br>Alpha: 3.8e-10<br>Loss NMF: 0.011023618727513377",
          "Index: 11<br>Alpha: 5.5e-10<br>Loss NMF: 0.011861389962029099",
          "Index: 12<br>Alpha: 7.8e-10<br>Loss NMF: 0.010855679241797561",
          "Index: 13<br>Alpha: 1.1e-09<br>Loss NMF: 0.011732583596893963",
          "Index: 14<br>Alpha: 1.6e-09<br>Loss NMF: 0.013411695497657644",
          "Index: 15<br>Alpha: 2.3e-09<br>Loss NMF: 0.014470126328939823",
          "Index: 16<br>Alpha: 3.4e-09<br>Loss NMF: 0.020546422303727878",
          "Index: 17<br>Alpha: 4.8e-09<br>Loss NMF: 0.0283165626005701",
          "Index: 18<br>Alpha: 7.0e-09<br>Loss NMF: 0.03111837796461695",
          "Index: 19<br>Alpha: 1.0e-08<br>Loss NMF: 0.056045978693811636"
         ],
         "line": {
          "shape": "linear"
         },
         "marker": {
          "symbol": "circle"
         },
         "mode": "lines+markers",
         "name": "Loss NMF",
         "type": "scatter",
         "x": [
          1e-11,
          1.4384498882876601e-11,
          2.06913808111479e-11,
          2.976351441631313e-11,
          4.2813323987193956e-11,
          6.158482110660255e-11,
          8.858667904100832e-11,
          1.274274985703132e-10,
          1.8329807108324374e-10,
          2.6366508987303556e-10,
          3.792690190732254e-10,
          5.455594781168515e-10,
          7.847599703514623e-10,
          1.1288378916846883e-9,
          1.6237767391887177e-9,
          2.335721469090121e-9,
          3.359818286283788e-9,
          4.832930238571752e-9,
          6.951927961775591e-9,
          1e-8
         ],
         "y": [
          0.008058845621875454,
          0.008529266010202619,
          0.009371167927082423,
          0.008687637953471038,
          0.009280505001767875,
          0.009662517341025769,
          0.008263131983620347,
          0.010237989817164719,
          0.009850001662710495,
          0.00898071686722551,
          0.011023618727513377,
          0.011861389962029099,
          0.010855679241797561,
          0.011732583596893963,
          0.013411695497657644,
          0.014470126328939823,
          0.020546422303727878,
          0.0283165626005701,
          0.03111837796461695,
          0.056045978693811636
         ]
        },
        {
         "hovertemplate": [
          "Index: 0<br>Alpha: 1.0e-11<br>Loss Constraint C: 37355002.72920792",
          "Index: 1<br>Alpha: 1.4e-11<br>Loss Constraint C: 21792698.543825705",
          "Index: 2<br>Alpha: 2.1e-11<br>Loss Constraint C: 14266454.872633245",
          "Index: 3<br>Alpha: 3.0e-11<br>Loss Constraint C: 8825424.034584839",
          "Index: 4<br>Alpha: 4.3e-11<br>Loss Constraint C: 4257831.964119099",
          "Index: 5<br>Alpha: 6.2e-11<br>Loss Constraint C: 3208357.706959615",
          "Index: 6<br>Alpha: 8.9e-11<br>Loss Constraint C: 2594294.6590815997",
          "Index: 7<br>Alpha: 1.3e-10<br>Loss Constraint C: 932394.9711685826",
          "Index: 8<br>Alpha: 1.8e-10<br>Loss Constraint C: 703220.5230835071",
          "Index: 9<br>Alpha: 2.6e-10<br>Loss Constraint C: 216894.6284619756",
          "Index: 10<br>Alpha: 3.8e-10<br>Loss Constraint C: 184982.0980662781",
          "Index: 11<br>Alpha: 5.5e-10<br>Loss Constraint C: 61449.330458878",
          "Index: 12<br>Alpha: 7.8e-10<br>Loss Constraint C: 47836.199757148475",
          "Index: 13<br>Alpha: 1.1e-09<br>Loss Constraint C: 28475.322821850357",
          "Index: 14<br>Alpha: 1.6e-09<br>Loss Constraint C: 7427.810464554832",
          "Index: 15<br>Alpha: 2.3e-09<br>Loss Constraint C: 4760.175223022894",
          "Index: 16<br>Alpha: 3.4e-09<br>Loss Constraint C: 1876.3798085495444",
          "Index: 17<br>Alpha: 4.8e-09<br>Loss Constraint C: 1379.3537166245956",
          "Index: 18<br>Alpha: 7.0e-09<br>Loss Constraint C: 1398.75760794243",
          "Index: 19<br>Alpha: 1.0e-08<br>Loss Constraint C: 794.2666530350338"
         ],
         "line": {
          "dash": "dot",
          "shape": "linear"
         },
         "marker": {
          "symbol": "triangle-up"
         },
         "mode": "lines+markers",
         "name": "Loss Constraint C",
         "type": "scatter",
         "x": [
          1e-11,
          1.4384498882876601e-11,
          2.06913808111479e-11,
          2.976351441631313e-11,
          4.2813323987193956e-11,
          6.158482110660255e-11,
          8.858667904100832e-11,
          1.274274985703132e-10,
          1.8329807108324374e-10,
          2.6366508987303556e-10,
          3.792690190732254e-10,
          5.455594781168515e-10,
          7.847599703514623e-10,
          1.1288378916846883e-9,
          1.6237767391887177e-9,
          2.335721469090121e-9,
          3.359818286283788e-9,
          4.832930238571752e-9,
          6.951927961775591e-9,
          1e-8
         ],
         "y": [
          37355002.72920792,
          21792698.543825705,
          14266454.872633245,
          8825424.034584839,
          4257831.964119099,
          3208357.706959615,
          2594294.6590815997,
          932394.9711685826,
          703220.5230835071,
          216894.6284619756,
          184982.0980662781,
          61449.330458878,
          47836.199757148475,
          28475.322821850357,
          7427.810464554832,
          4760.175223022894,
          1876.3798085495444,
          1379.3537166245956,
          1398.75760794243,
          794.2666530350338
         ],
         "yaxis": "y2"
        },
        {
         "hovertemplate": [
          "Index: 0<br>Alpha: 1.0e-11<br>Loss Constraint S: 1.5762287366288073e-07",
          "Index: 1<br>Alpha: 1.4e-11<br>Loss Constraint S: 6.529542700900825e-08",
          "Index: 2<br>Alpha: 2.1e-11<br>Loss Constraint S: 4.178448361431024e-08",
          "Index: 3<br>Alpha: 3.0e-11<br>Loss Constraint S: 4.551900107333374e-08",
          "Index: 4<br>Alpha: 4.3e-11<br>Loss Constraint S: 3.482089575910065e-08",
          "Index: 5<br>Alpha: 6.2e-11<br>Loss Constraint S: 4.905279365014317e-08",
          "Index: 6<br>Alpha: 8.9e-11<br>Loss Constraint S: 2.8405964933760665e-08",
          "Index: 7<br>Alpha: 1.3e-10<br>Loss Constraint S: 3.551839550355077e-08",
          "Index: 8<br>Alpha: 1.8e-10<br>Loss Constraint S: 5.44233079539797e-08",
          "Index: 9<br>Alpha: 2.6e-10<br>Loss Constraint S: 3.0076542506036466e-08",
          "Index: 10<br>Alpha: 3.8e-10<br>Loss Constraint S: 3.183851138715189e-08",
          "Index: 11<br>Alpha: 5.5e-10<br>Loss Constraint S: 1.921043076096333e-08",
          "Index: 12<br>Alpha: 7.8e-10<br>Loss Constraint S: 3.8687409768735375e-08",
          "Index: 13<br>Alpha: 1.1e-09<br>Loss Constraint S: 3.482790053699054e-08",
          "Index: 14<br>Alpha: 1.6e-09<br>Loss Constraint S: 3.6910391998667144e-08",
          "Index: 15<br>Alpha: 2.3e-09<br>Loss Constraint S: 5.625517121987162e-08",
          "Index: 16<br>Alpha: 3.4e-09<br>Loss Constraint S: 1.1128521307552732e-07",
          "Index: 17<br>Alpha: 4.8e-09<br>Loss Constraint S: 3.238978625203523e-07",
          "Index: 18<br>Alpha: 7.0e-09<br>Loss Constraint S: 8.264237817360126e-07",
          "Index: 19<br>Alpha: 1.0e-08<br>Loss Constraint S: 3.990568596047969e-06"
         ],
         "line": {
          "dash": "dot",
          "shape": "linear"
         },
         "marker": {
          "symbol": "diamond"
         },
         "mode": "lines+markers",
         "name": "Loss Constraint S",
         "type": "scatter",
         "x": [
          1e-11,
          1.4384498882876601e-11,
          2.06913808111479e-11,
          2.976351441631313e-11,
          4.2813323987193956e-11,
          6.158482110660255e-11,
          8.858667904100832e-11,
          1.274274985703132e-10,
          1.8329807108324374e-10,
          2.6366508987303556e-10,
          3.792690190732254e-10,
          5.455594781168515e-10,
          7.847599703514623e-10,
          1.1288378916846883e-9,
          1.6237767391887177e-9,
          2.335721469090121e-9,
          3.359818286283788e-9,
          4.832930238571752e-9,
          6.951927961775591e-9,
          1e-8
         ],
         "y": [
          1.5762287366288073e-7,
          6.529542700900825e-8,
          4.178448361431024e-8,
          4.551900107333374e-8,
          3.482089575910065e-8,
          4.905279365014317e-8,
          2.8405964933760665e-8,
          3.551839550355077e-8,
          5.44233079539797e-8,
          3.0076542506036466e-8,
          3.183851138715189e-8,
          1.921043076096333e-8,
          3.8687409768735375e-8,
          3.482790053699054e-8,
          3.6910391998667144e-8,
          5.625517121987162e-8,
          1.1128521307552732e-7,
          3.238978625203523e-7,
          8.264237817360126e-7,
          0.000003990568596047969
         ],
         "yaxis": "y"
        }
       ],
       "layout": {
        "height": 600,
        "legend": {
         "x": 1,
         "y": 0.94
        },
        "template": {
         "data": {
          "bar": [
           {
            "error_x": {
             "color": "#2a3f5f"
            },
            "error_y": {
             "color": "#2a3f5f"
            },
            "marker": {
             "line": {
              "color": "#E5ECF6",
              "width": 0.5
             },
             "pattern": {
              "fillmode": "overlay",
              "size": 10,
              "solidity": 0.2
             }
            },
            "type": "bar"
           }
          ],
          "barpolar": [
           {
            "marker": {
             "line": {
              "color": "#E5ECF6",
              "width": 0.5
             },
             "pattern": {
              "fillmode": "overlay",
              "size": 10,
              "solidity": 0.2
             }
            },
            "type": "barpolar"
           }
          ],
          "carpet": [
           {
            "aaxis": {
             "endlinecolor": "#2a3f5f",
             "gridcolor": "white",
             "linecolor": "white",
             "minorgridcolor": "white",
             "startlinecolor": "#2a3f5f"
            },
            "baxis": {
             "endlinecolor": "#2a3f5f",
             "gridcolor": "white",
             "linecolor": "white",
             "minorgridcolor": "white",
             "startlinecolor": "#2a3f5f"
            },
            "type": "carpet"
           }
          ],
          "choropleth": [
           {
            "colorbar": {
             "outlinewidth": 0,
             "ticks": ""
            },
            "type": "choropleth"
           }
          ],
          "contour": [
           {
            "colorbar": {
             "outlinewidth": 0,
             "ticks": ""
            },
            "colorscale": [
             [
              0,
              "#0d0887"
             ],
             [
              0.1111111111111111,
              "#46039f"
             ],
             [
              0.2222222222222222,
              "#7201a8"
             ],
             [
              0.3333333333333333,
              "#9c179e"
             ],
             [
              0.4444444444444444,
              "#bd3786"
             ],
             [
              0.5555555555555556,
              "#d8576b"
             ],
             [
              0.6666666666666666,
              "#ed7953"
             ],
             [
              0.7777777777777778,
              "#fb9f3a"
             ],
             [
              0.8888888888888888,
              "#fdca26"
             ],
             [
              1,
              "#f0f921"
             ]
            ],
            "type": "contour"
           }
          ],
          "contourcarpet": [
           {
            "colorbar": {
             "outlinewidth": 0,
             "ticks": ""
            },
            "type": "contourcarpet"
           }
          ],
          "heatmap": [
           {
            "colorbar": {
             "outlinewidth": 0,
             "ticks": ""
            },
            "colorscale": [
             [
              0,
              "#0d0887"
             ],
             [
              0.1111111111111111,
              "#46039f"
             ],
             [
              0.2222222222222222,
              "#7201a8"
             ],
             [
              0.3333333333333333,
              "#9c179e"
             ],
             [
              0.4444444444444444,
              "#bd3786"
             ],
             [
              0.5555555555555556,
              "#d8576b"
             ],
             [
              0.6666666666666666,
              "#ed7953"
             ],
             [
              0.7777777777777778,
              "#fb9f3a"
             ],
             [
              0.8888888888888888,
              "#fdca26"
             ],
             [
              1,
              "#f0f921"
             ]
            ],
            "type": "heatmap"
           }
          ],
          "heatmapgl": [
           {
            "colorbar": {
             "outlinewidth": 0,
             "ticks": ""
            },
            "colorscale": [
             [
              0,
              "#0d0887"
             ],
             [
              0.1111111111111111,
              "#46039f"
             ],
             [
              0.2222222222222222,
              "#7201a8"
             ],
             [
              0.3333333333333333,
              "#9c179e"
             ],
             [
              0.4444444444444444,
              "#bd3786"
             ],
             [
              0.5555555555555556,
              "#d8576b"
             ],
             [
              0.6666666666666666,
              "#ed7953"
             ],
             [
              0.7777777777777778,
              "#fb9f3a"
             ],
             [
              0.8888888888888888,
              "#fdca26"
             ],
             [
              1,
              "#f0f921"
             ]
            ],
            "type": "heatmapgl"
           }
          ],
          "histogram": [
           {
            "marker": {
             "pattern": {
              "fillmode": "overlay",
              "size": 10,
              "solidity": 0.2
             }
            },
            "type": "histogram"
           }
          ],
          "histogram2d": [
           {
            "colorbar": {
             "outlinewidth": 0,
             "ticks": ""
            },
            "colorscale": [
             [
              0,
              "#0d0887"
             ],
             [
              0.1111111111111111,
              "#46039f"
             ],
             [
              0.2222222222222222,
              "#7201a8"
             ],
             [
              0.3333333333333333,
              "#9c179e"
             ],
             [
              0.4444444444444444,
              "#bd3786"
             ],
             [
              0.5555555555555556,
              "#d8576b"
             ],
             [
              0.6666666666666666,
              "#ed7953"
             ],
             [
              0.7777777777777778,
              "#fb9f3a"
             ],
             [
              0.8888888888888888,
              "#fdca26"
             ],
             [
              1,
              "#f0f921"
             ]
            ],
            "type": "histogram2d"
           }
          ],
          "histogram2dcontour": [
           {
            "colorbar": {
             "outlinewidth": 0,
             "ticks": ""
            },
            "colorscale": [
             [
              0,
              "#0d0887"
             ],
             [
              0.1111111111111111,
              "#46039f"
             ],
             [
              0.2222222222222222,
              "#7201a8"
             ],
             [
              0.3333333333333333,
              "#9c179e"
             ],
             [
              0.4444444444444444,
              "#bd3786"
             ],
             [
              0.5555555555555556,
              "#d8576b"
             ],
             [
              0.6666666666666666,
              "#ed7953"
             ],
             [
              0.7777777777777778,
              "#fb9f3a"
             ],
             [
              0.8888888888888888,
              "#fdca26"
             ],
             [
              1,
              "#f0f921"
             ]
            ],
            "type": "histogram2dcontour"
           }
          ],
          "mesh3d": [
           {
            "colorbar": {
             "outlinewidth": 0,
             "ticks": ""
            },
            "type": "mesh3d"
           }
          ],
          "parcoords": [
           {
            "line": {
             "colorbar": {
              "outlinewidth": 0,
              "ticks": ""
             }
            },
            "type": "parcoords"
           }
          ],
          "pie": [
           {
            "automargin": true,
            "type": "pie"
           }
          ],
          "scatter": [
           {
            "fillpattern": {
             "fillmode": "overlay",
             "size": 10,
             "solidity": 0.2
            },
            "type": "scatter"
           }
          ],
          "scatter3d": [
           {
            "line": {
             "colorbar": {
              "outlinewidth": 0,
              "ticks": ""
             }
            },
            "marker": {
             "colorbar": {
              "outlinewidth": 0,
              "ticks": ""
             }
            },
            "type": "scatter3d"
           }
          ],
          "scattercarpet": [
           {
            "marker": {
             "colorbar": {
              "outlinewidth": 0,
              "ticks": ""
             }
            },
            "type": "scattercarpet"
           }
          ],
          "scattergeo": [
           {
            "marker": {
             "colorbar": {
              "outlinewidth": 0,
              "ticks": ""
             }
            },
            "type": "scattergeo"
           }
          ],
          "scattergl": [
           {
            "marker": {
             "colorbar": {
              "outlinewidth": 0,
              "ticks": ""
             }
            },
            "type": "scattergl"
           }
          ],
          "scattermapbox": [
           {
            "marker": {
             "colorbar": {
              "outlinewidth": 0,
              "ticks": ""
             }
            },
            "type": "scattermapbox"
           }
          ],
          "scatterpolar": [
           {
            "marker": {
             "colorbar": {
              "outlinewidth": 0,
              "ticks": ""
             }
            },
            "type": "scatterpolar"
           }
          ],
          "scatterpolargl": [
           {
            "marker": {
             "colorbar": {
              "outlinewidth": 0,
              "ticks": ""
             }
            },
            "type": "scatterpolargl"
           }
          ],
          "scatterternary": [
           {
            "marker": {
             "colorbar": {
              "outlinewidth": 0,
              "ticks": ""
             }
            },
            "type": "scatterternary"
           }
          ],
          "surface": [
           {
            "colorbar": {
             "outlinewidth": 0,
             "ticks": ""
            },
            "colorscale": [
             [
              0,
              "#0d0887"
             ],
             [
              0.1111111111111111,
              "#46039f"
             ],
             [
              0.2222222222222222,
              "#7201a8"
             ],
             [
              0.3333333333333333,
              "#9c179e"
             ],
             [
              0.4444444444444444,
              "#bd3786"
             ],
             [
              0.5555555555555556,
              "#d8576b"
             ],
             [
              0.6666666666666666,
              "#ed7953"
             ],
             [
              0.7777777777777778,
              "#fb9f3a"
             ],
             [
              0.8888888888888888,
              "#fdca26"
             ],
             [
              1,
              "#f0f921"
             ]
            ],
            "type": "surface"
           }
          ],
          "table": [
           {
            "cells": {
             "fill": {
              "color": "#EBF0F8"
             },
             "line": {
              "color": "white"
             }
            },
            "header": {
             "fill": {
              "color": "#C8D4E3"
             },
             "line": {
              "color": "white"
             }
            },
            "type": "table"
           }
          ]
         },
         "layout": {
          "annotationdefaults": {
           "arrowcolor": "#2a3f5f",
           "arrowhead": 0,
           "arrowwidth": 1
          },
          "autotypenumbers": "strict",
          "coloraxis": {
           "colorbar": {
            "outlinewidth": 0,
            "ticks": ""
           }
          },
          "colorscale": {
           "diverging": [
            [
             0,
             "#8e0152"
            ],
            [
             0.1,
             "#c51b7d"
            ],
            [
             0.2,
             "#de77ae"
            ],
            [
             0.3,
             "#f1b6da"
            ],
            [
             0.4,
             "#fde0ef"
            ],
            [
             0.5,
             "#f7f7f7"
            ],
            [
             0.6,
             "#e6f5d0"
            ],
            [
             0.7,
             "#b8e186"
            ],
            [
             0.8,
             "#7fbc41"
            ],
            [
             0.9,
             "#4d9221"
            ],
            [
             1,
             "#276419"
            ]
           ],
           "sequential": [
            [
             0,
             "#0d0887"
            ],
            [
             0.1111111111111111,
             "#46039f"
            ],
            [
             0.2222222222222222,
             "#7201a8"
            ],
            [
             0.3333333333333333,
             "#9c179e"
            ],
            [
             0.4444444444444444,
             "#bd3786"
            ],
            [
             0.5555555555555556,
             "#d8576b"
            ],
            [
             0.6666666666666666,
             "#ed7953"
            ],
            [
             0.7777777777777778,
             "#fb9f3a"
            ],
            [
             0.8888888888888888,
             "#fdca26"
            ],
            [
             1,
             "#f0f921"
            ]
           ],
           "sequentialminus": [
            [
             0,
             "#0d0887"
            ],
            [
             0.1111111111111111,
             "#46039f"
            ],
            [
             0.2222222222222222,
             "#7201a8"
            ],
            [
             0.3333333333333333,
             "#9c179e"
            ],
            [
             0.4444444444444444,
             "#bd3786"
            ],
            [
             0.5555555555555556,
             "#d8576b"
            ],
            [
             0.6666666666666666,
             "#ed7953"
            ],
            [
             0.7777777777777778,
             "#fb9f3a"
            ],
            [
             0.8888888888888888,
             "#fdca26"
            ],
            [
             1,
             "#f0f921"
            ]
           ]
          },
          "colorway": [
           "#636efa",
           "#EF553B",
           "#00cc96",
           "#ab63fa",
           "#FFA15A",
           "#19d3f3",
           "#FF6692",
           "#B6E880",
           "#FF97FF",
           "#FECB52"
          ],
          "font": {
           "color": "#2a3f5f"
          },
          "geo": {
           "bgcolor": "white",
           "lakecolor": "white",
           "landcolor": "#E5ECF6",
           "showlakes": true,
           "showland": true,
           "subunitcolor": "white"
          },
          "hoverlabel": {
           "align": "left"
          },
          "hovermode": "closest",
          "mapbox": {
           "style": "light"
          },
          "paper_bgcolor": "white",
          "plot_bgcolor": "#E5ECF6",
          "polar": {
           "angularaxis": {
            "gridcolor": "white",
            "linecolor": "white",
            "ticks": ""
           },
           "bgcolor": "#E5ECF6",
           "radialaxis": {
            "gridcolor": "white",
            "linecolor": "white",
            "ticks": ""
           }
          },
          "scene": {
           "xaxis": {
            "backgroundcolor": "#E5ECF6",
            "gridcolor": "white",
            "gridwidth": 2,
            "linecolor": "white",
            "showbackground": true,
            "ticks": "",
            "zerolinecolor": "white"
           },
           "yaxis": {
            "backgroundcolor": "#E5ECF6",
            "gridcolor": "white",
            "gridwidth": 2,
            "linecolor": "white",
            "showbackground": true,
            "ticks": "",
            "zerolinecolor": "white"
           },
           "zaxis": {
            "backgroundcolor": "#E5ECF6",
            "gridcolor": "white",
            "gridwidth": 2,
            "linecolor": "white",
            "showbackground": true,
            "ticks": "",
            "zerolinecolor": "white"
           }
          },
          "shapedefaults": {
           "line": {
            "color": "#2a3f5f"
           }
          },
          "ternary": {
           "aaxis": {
            "gridcolor": "white",
            "linecolor": "white",
            "ticks": ""
           },
           "baxis": {
            "gridcolor": "white",
            "linecolor": "white",
            "ticks": ""
           },
           "bgcolor": "#E5ECF6",
           "caxis": {
            "gridcolor": "white",
            "linecolor": "white",
            "ticks": ""
           }
          },
          "title": {
           "x": 0.05
          },
          "xaxis": {
           "automargin": true,
           "gridcolor": "white",
           "linecolor": "white",
           "ticks": "",
           "title": {
            "standoff": 15
           },
           "zerolinecolor": "white",
           "zerolinewidth": 2
          },
          "yaxis": {
           "automargin": true,
           "gridcolor": "white",
           "linecolor": "white",
           "ticks": "",
           "title": {
            "standoff": 15
           },
           "zerolinecolor": "white",
           "zerolinewidth": 2
          }
         }
        },
        "title": {
         "text": "Loss vs Alpha"
        },
        "width": 800,
        "xaxis": {
         "showgrid": false,
         "title": {
          "text": "Alpha"
         },
         "type": "log"
        },
        "yaxis": {
         "title": {
          "text": "Loss NMF"
         }
        },
        "yaxis2": {
         "overlaying": "y",
         "side": "right",
         "title": {
          "text": "Loss Constraint"
         }
        }
       }
      }
     },
     "metadata": {},
     "output_type": "display_data"
    }
   ],
   "source": [
    "loss_nmf = loss_nmf_df.mean(axis=0).values\n",
    "loss_constraint_c = loss_constraint_c_df.mean(axis=0).values\n",
    "loss_constraint_s = loss_constraint_s_df.mean(axis=0).values\n",
    "\n",
    "# Create the hover text with indices\n",
    "hover_text_nmf = [f\"Index: {i}<br>Alpha: {alpha:.1e}<br>Loss NMF: {loss}\" for i, (alpha, loss) in enumerate(zip(alphas, loss_nmf))]\n",
    "hover_text_constraint_c = [f\"Index: {i}<br>Alpha: {alpha:.1e}<br>Loss Constraint C: {loss}\" for i, (alpha, loss) in enumerate(zip(alphas, loss_constraint_c))]\n",
    "hover_text_constraint_s = [f\"Index: {i}<br>Alpha: {alpha:.1e}<br>Loss Constraint S: {loss}\" for i, (alpha, loss) in enumerate(zip(alphas, loss_constraint_s))]\n",
    "\n",
    "# Create traces\n",
    "trace1 = go.Scatter(\n",
    "    x=alphas,\n",
    "    y=loss_nmf,\n",
    "    mode='lines+markers',\n",
    "    name='Loss NMF',\n",
    "    marker=dict(symbol='circle'),\n",
    "    line=dict(shape='linear'),\n",
    "    hovertemplate=hover_text_nmf\n",
    ")\n",
    "\n",
    "trace2 = go.Scatter(\n",
    "    x=alphas,\n",
    "    y=loss_constraint_c,\n",
    "    mode='lines+markers',\n",
    "    name='Loss Constraint C',\n",
    "    marker=dict(symbol='triangle-up'),\n",
    "    line=dict(shape='linear', dash='dot'),\n",
    "    yaxis='y2',\n",
    "    hovertemplate=hover_text_constraint_c\n",
    ")\n",
    "\n",
    "trace3 = go.Scatter(\n",
    "    x=alphas,\n",
    "    y=loss_constraint_s,\n",
    "    mode='lines+markers',\n",
    "    name='Loss Constraint S',\n",
    "    marker=dict(symbol='diamond'),\n",
    "    line=dict(shape='linear', dash='dot'),\n",
    "    yaxis='y1',\n",
    "    hovertemplate=hover_text_constraint_s\n",
    ")\n",
    "\n",
    "\n",
    "# Create layout\n",
    "layout = go.Layout(\n",
    "    title='Loss vs Alpha',\n",
    "    xaxis=dict(\n",
    "        title='Alpha',\n",
    "        type='log',  # Use logarithmic scale for x-axis\n",
    "        # range=[-8, -5],  # Adjust range for log scale\n",
    "        showgrid=False\n",
    "    ),\n",
    "    yaxis=dict(\n",
    "        title='Loss NMF',\n",
    "    ),\n",
    "    yaxis2=dict(\n",
    "        title='Loss Constraint',\n",
    "        overlaying='y',\n",
    "        side='right'\n",
    "    ),\n",
    "    width=800,\n",
    "    height=600,\n",
    "    legend=dict(x=1, y=0.94)\n",
    ")\n",
    "\n",
    "# Create figure\n",
    "fig = go.Figure(data=[trace1, trace2, trace3], layout=layout)\n",
    "\n",
    "# pio.write_html(fig, file='plot.html', auto_open=True)\n",
    "\n",
    "# Show plot\n",
    "fig.show()"
   ]
  },
  {
   "cell_type": "code",
   "execution_count": 59,
   "metadata": {},
   "outputs": [],
   "source": [
    "tol = 1e-5\n",
    "max_iter = 10000\n",
    "verbose = 0\n",
    "alpha = 3e-10\n",
    "beta = 1\n",
    "\n",
    "model = PenNMF(\n",
    "    n_components=n_components,\n",
    "    alpha=alpha,\n",
    "    beta=beta,\n",
    "    tol=tol,\n",
    "    max_iter=max_iter,\n",
    "    verbose=0\n",
    ")\n",
    "\n",
    "S_init = normalize_curves(np.ones((n_components, p)))\n",
    "# C_init = initialize_C_gaussian_prior(C_init_mean)\n",
    "C_init = initialize_C(X_train, n_components)\n",
    "\n",
    "C = model.fit_transform(X_train.values, C_init.values, S_init, Y_train.values, A, B.values, Z, D, E)"
   ]
  },
  {
   "cell_type": "code",
   "execution_count": 60,
   "metadata": {},
   "outputs": [
    {
     "name": "stdout",
     "output_type": "stream",
     "text": [
      "Total loss:  0.006084744886161447\n",
      "\n",
      "Loss NMF:  0.006011517445359122\n",
      "Loss constraint:  244091.46934108317\n"
     ]
    },
    {
     "data": {
      "image/png": "[encoded data removed]",
      "text/plain": [
       "<Figure size 800x500 with 2 Axes>"
      ]
     },
     "metadata": {},
     "output_type": "display_data"
    }
   ],
   "source": [
    "n_iter = model.n_iter_\n",
    "losses_nmf = model.losses_nmf_\n",
    "losses_constraint = model.losses_constraint_c_\n",
    "# losses_constraint_s = model.losses_constraint_s_\n",
    "\n",
    "plt.figure(figsize=(8, 5))\n",
    "ax1 = plt.gca()\n",
    "ax1.plot(np.arange(0, n_iter + 1, 10), losses_nmf, label='loss_nmf')\n",
    "ax1.grid(None)\n",
    "ax1.legend()\n",
    "\n",
    "ax2 = ax1.twinx()\n",
    "ax2.plot(np.arange(0, n_iter + 1, 10), losses_constraint, linestyle='dotted', label='loss_constraint')\n",
    "ax2.grid(None)\n",
    "ax2.legend(loc='upper right', bbox_to_anchor=(1,0.94))\n",
    "\n",
    "ax1.set_xlabel('Iteration')\n",
    "ax1.set_ylabel('Loss NMF')\n",
    "ax2.set_ylabel('Loss constraint')\n",
    "\n",
    "print(\"Total loss: \", losses_nmf[-1] + alpha * losses_constraint[-1])\n",
    "print(\"\\nLoss NMF: \", losses_nmf[-1])\n",
    "print(\"Loss constraint: \", losses_constraint[-1])"
   ]
  },
  {
   "cell_type": "code",
   "execution_count": 61,
   "metadata": {},
   "outputs": [
    {
     "data": {
      "image/png": "[encoded data removed]",
      "text/plain": [
       "<Figure size 700x500 with 1 Axes>"
      ]
     },
     "metadata": {},
     "output_type": "display_data"
    }
   ],
   "source": [
    "plot_components(model.components_, labels=[f'$S_{i+1}^*$' for i in range(n_components)], marker=None, linewidth=1.5, figsize=(7, 5))\n",
    "ylim = plt.ylim((0, 0.08))"
   ]
  },
  {
   "cell_type": "code",
   "execution_count": 62,
   "metadata": {},
   "outputs": [
    {
     "data": {
      "text/plain": [
       "array([[1.00003584],\n",
       "       [0.99997921],\n",
       "       [0.99987297],\n",
       "       [1.00007333],\n",
       "       [0.99992395]])"
      ]
     },
     "execution_count": 62,
     "metadata": {},
     "output_type": "execute_result"
    }
   ],
   "source": [
    "# Check L^1-norms\n",
    "model.components_.dot(D)"
   ]
  },
  {
   "cell_type": "markdown",
   "metadata": {},
   "source": [
    "## Compare with NMF"
   ]
  },
  {
   "cell_type": "code",
   "execution_count": 63,
   "metadata": {},
   "outputs": [
    {
     "data": {
      "image/png": "[encoded data removed]",
      "text/plain": [
       "<Figure size 700x500 with 1 Axes>"
      ]
     },
     "metadata": {},
     "output_type": "display_data"
    }
   ],
   "source": [
    "nmf = NMF(\n",
    "        n_components=n_components,\n",
    "        solver='mu',\n",
    "        tol=tol,\n",
    "        init='custom',\n",
    "        max_iter=max_iter,\n",
    "        verbose=verbose\n",
    ")\n",
    "\n",
    "C = nmf.fit_transform(\n",
    "            X_train.values,\n",
    "            W=C_init.values.copy(order='C'),\n",
    "            H=S_init\n",
    "        )\n",
    "\n",
    "plot_components(nmf.components_, labels=[f'$S_{i+1}^*$' for i in range(n_components)], marker=None, linewidth=1.5, figsize=(7, 5))\n",
    "ylim = plt.ylim((0, 0.09))"
   ]
  },
  {
   "cell_type": "code",
   "execution_count": 64,
   "metadata": {},
   "outputs": [
    {
     "data": {
      "text/plain": [
       "<Axes: >"
      ]
     },
     "execution_count": 64,
     "metadata": {},
     "output_type": "execute_result"
    },
    {
     "data": {
      "image/png": "[encoded data removed]",
      "text/plain": [
       "<Figure size 640x480 with 1 Axes>"
      ]
     },
     "metadata": {},
     "output_type": "display_data"
    }
   ],
   "source": [
    "concentrations = pd.DataFrame(C, index=X_train.index)\n",
    "concentrations.sum(axis=1).hist()"
   ]
  },
  {
   "cell_type": "code",
   "execution_count": 65,
   "metadata": {},
   "outputs": [
    {
     "data": {
      "text/plain": [
       "0.005340939083379167"
      ]
     },
     "execution_count": 65,
     "metadata": {},
     "output_type": "execute_result"
    }
   ],
   "source": [
    "_loss_nmf(X_train, C, nmf.components_)"
   ]
  },
  {
   "cell_type": "markdown",
   "metadata": {},
   "source": [
    "<HR>"
   ]
  },
  {
   "cell_type": "markdown",
   "metadata": {},
   "source": [
    "# Tests"
   ]
  }
 ],
 "metadata": {
  "kernelspec": {
   "display_name": "bss",
   "language": "python",
   "name": "python3"
  },
  "language_info": {
   "codemirror_mode": {
    "name": "ipython",
    "version": 3
   },
   "file_extension": ".py",
   "mimetype": "text/x-python",
   "name": "python",
   "nbconvert_exporter": "python",
   "pygments_lexer": "ipython3",
   "version": "3.11.3"
  }
 },
 "nbformat": 4,
 "nbformat_minor": 2
}
