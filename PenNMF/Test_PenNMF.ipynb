{
 "cells": [
  {
   "cell_type": "markdown",
   "metadata": {},
   "source": [
    "# Set-up"
   ]
  },
  {
   "cell_type": "markdown",
   "metadata": {},
   "source": [
    "## Imports"
   ]
  },
  {
   "cell_type": "code",
   "execution_count": 91,
   "metadata": {},
   "outputs": [
    {
     "name": "stdout",
     "output_type": "stream",
     "text": [
      "The autoreload extension is already loaded. To reload it, use:\n",
      "  %reload_ext autoreload\n"
     ]
    }
   ],
   "source": [
    "import pandas as pd\n",
    "import numpy as np\n",
    "import pickle\n",
    "import os\n",
    "import matplotlib.pyplot as plt\n",
    "import seaborn as sns\n",
    "from datetime import datetime, timedelta\n",
    "from tqdm import tqdm\n",
    "from NMF_iter import normalize_curves, functional_norm, initialize_W\n",
    "from PenNMF_iter import initialize_C_gaussian_prior\n",
    "from scipy.linalg import block_diag\n",
    "from sklearn.decomposition import NMF\n",
    "\n",
    "# HOTFIX Parse IMCEI\n",
    "import locale\n",
    "locale.setlocale(locale.LC_ALL, 'it_IT')\n",
    "\n",
    "%load_ext autoreload\n",
    "%autoreload 1\n",
    "\n",
    "%aimport PenNMF\n",
    "%aimport utils\n",
    "from utils import plot_components, month_to_season\n",
    "from PenNMF import PenNMF, _loss_nmf, _loss_constraint\n",
    "\n",
    "import plotly.graph_objs as go\n",
    "import plotly.express as px\n",
    "import plotly.io as pio"
   ]
  },
  {
   "cell_type": "code",
   "execution_count": 92,
   "metadata": {},
   "outputs": [],
   "source": [
    "sns.set_theme()\n",
    "pd.options.mode.chained_assignment = None"
   ]
  },
  {
   "cell_type": "markdown",
   "metadata": {},
   "source": [
    "## Parameters"
   ]
  },
  {
   "cell_type": "code",
   "execution_count": 93,
   "metadata": {},
   "outputs": [],
   "source": [
    "specific = '_Italy'\n",
    "train_years = ['2021']\n",
    "test_years = ['2022', '2023']"
   ]
  },
  {
   "cell_type": "markdown",
   "metadata": {},
   "source": [
    "## Functions"
   ]
  },
  {
   "cell_type": "code",
   "execution_count": null,
   "metadata": {},
   "outputs": [],
   "source": []
  },
  {
   "cell_type": "markdown",
   "metadata": {},
   "source": [
    "# Create data matrix $X$"
   ]
  },
  {
   "cell_type": "code",
   "execution_count": 94,
   "metadata": {},
   "outputs": [
    {
     "name": "stdout",
     "output_type": "stream",
     "text": [
      "2191\n"
     ]
    },
    {
     "data": {
      "text/html": [
       "<div>\n",
       "<style scoped>\n",
       "    .dataframe tbody tr th:only-of-type {\n",
       "        vertical-align: middle;\n",
       "    }\n",
       "\n",
       "    .dataframe tbody tr th {\n",
       "        vertical-align: top;\n",
       "    }\n",
       "\n",
       "    .dataframe thead th {\n",
       "        text-align: right;\n",
       "    }\n",
       "</style>\n",
       "<table border=\"1\" class=\"dataframe\">\n",
       "  <thead>\n",
       "    <tr style=\"text-align: right;\">\n",
       "      <th></th>\n",
       "      <th>0</th>\n",
       "      <th>1</th>\n",
       "      <th>2</th>\n",
       "      <th>3</th>\n",
       "      <th>4</th>\n",
       "      <th>5</th>\n",
       "      <th>6</th>\n",
       "      <th>7</th>\n",
       "      <th>8</th>\n",
       "      <th>9</th>\n",
       "      <th>...</th>\n",
       "      <th>15</th>\n",
       "      <th>16</th>\n",
       "      <th>17</th>\n",
       "      <th>18</th>\n",
       "      <th>19</th>\n",
       "      <th>20</th>\n",
       "      <th>21</th>\n",
       "      <th>22</th>\n",
       "      <th>23</th>\n",
       "      <th>24</th>\n",
       "    </tr>\n",
       "  </thead>\n",
       "  <tbody>\n",
       "    <tr>\n",
       "      <th>Italy_2018-01-01_Holiday</th>\n",
       "      <td>24.743000</td>\n",
       "      <td>23.797000</td>\n",
       "      <td>22.175999</td>\n",
       "      <td>21.042000</td>\n",
       "      <td>20.146999</td>\n",
       "      <td>20.079000</td>\n",
       "      <td>20.942001</td>\n",
       "      <td>21.712000</td>\n",
       "      <td>21.969999</td>\n",
       "      <td>22.967000</td>\n",
       "      <td>...</td>\n",
       "      <td>26.643000</td>\n",
       "      <td>26.807000</td>\n",
       "      <td>29.947001</td>\n",
       "      <td>31.103000</td>\n",
       "      <td>31.537000</td>\n",
       "      <td>30.804001</td>\n",
       "      <td>29.621000</td>\n",
       "      <td>27.749000</td>\n",
       "      <td>25.388000</td>\n",
       "      <td>22.714001</td>\n",
       "    </tr>\n",
       "    <tr>\n",
       "      <th>Italy_2018-01-02_Working day</th>\n",
       "      <td>22.714001</td>\n",
       "      <td>20.794001</td>\n",
       "      <td>19.802002</td>\n",
       "      <td>19.573002</td>\n",
       "      <td>19.679000</td>\n",
       "      <td>20.891000</td>\n",
       "      <td>24.197999</td>\n",
       "      <td>28.537000</td>\n",
       "      <td>32.988000</td>\n",
       "      <td>37.794999</td>\n",
       "      <td>...</td>\n",
       "      <td>36.511999</td>\n",
       "      <td>37.393000</td>\n",
       "      <td>41.395000</td>\n",
       "      <td>42.362001</td>\n",
       "      <td>42.081001</td>\n",
       "      <td>39.555000</td>\n",
       "      <td>37.163000</td>\n",
       "      <td>33.313000</td>\n",
       "      <td>29.811000</td>\n",
       "      <td>26.314001</td>\n",
       "    </tr>\n",
       "    <tr>\n",
       "      <th>Italy_2018-01-03_Working day</th>\n",
       "      <td>26.314001</td>\n",
       "      <td>24.248999</td>\n",
       "      <td>22.927999</td>\n",
       "      <td>22.537999</td>\n",
       "      <td>22.314001</td>\n",
       "      <td>23.529001</td>\n",
       "      <td>27.206000</td>\n",
       "      <td>32.970999</td>\n",
       "      <td>37.419000</td>\n",
       "      <td>40.908999</td>\n",
       "      <td>...</td>\n",
       "      <td>40.106999</td>\n",
       "      <td>40.662001</td>\n",
       "      <td>44.557000</td>\n",
       "      <td>44.708000</td>\n",
       "      <td>43.818999</td>\n",
       "      <td>41.347000</td>\n",
       "      <td>38.572999</td>\n",
       "      <td>34.229001</td>\n",
       "      <td>30.436999</td>\n",
       "      <td>27.199000</td>\n",
       "    </tr>\n",
       "  </tbody>\n",
       "</table>\n",
       "<p>3 rows × 25 columns</p>\n",
       "</div>"
      ],
      "text/plain": [
       "                                      0          1          2          3  \\\n",
       "Italy_2018-01-01_Holiday      24.743000  23.797000  22.175999  21.042000   \n",
       "Italy_2018-01-02_Working day  22.714001  20.794001  19.802002  19.573002   \n",
       "Italy_2018-01-03_Working day  26.314001  24.248999  22.927999  22.537999   \n",
       "\n",
       "                                      4          5          6          7  \\\n",
       "Italy_2018-01-01_Holiday      20.146999  20.079000  20.942001  21.712000   \n",
       "Italy_2018-01-02_Working day  19.679000  20.891000  24.197999  28.537000   \n",
       "Italy_2018-01-03_Working day  22.314001  23.529001  27.206000  32.970999   \n",
       "\n",
       "                                      8          9  ...         15         16  \\\n",
       "Italy_2018-01-01_Holiday      21.969999  22.967000  ...  26.643000  26.807000   \n",
       "Italy_2018-01-02_Working day  32.988000  37.794999  ...  36.511999  37.393000   \n",
       "Italy_2018-01-03_Working day  37.419000  40.908999  ...  40.106999  40.662001   \n",
       "\n",
       "                                     17         18         19         20  \\\n",
       "Italy_2018-01-01_Holiday      29.947001  31.103000  31.537000  30.804001   \n",
       "Italy_2018-01-02_Working day  41.395000  42.362001  42.081001  39.555000   \n",
       "Italy_2018-01-03_Working day  44.557000  44.708000  43.818999  41.347000   \n",
       "\n",
       "                                     21         22         23         24  \n",
       "Italy_2018-01-01_Holiday      29.621000  27.749000  25.388000  22.714001  \n",
       "Italy_2018-01-02_Working day  37.163000  33.313000  29.811000  26.314001  \n",
       "Italy_2018-01-03_Working day  38.572999  34.229001  30.436999  27.199000  \n",
       "\n",
       "[3 rows x 25 columns]"
      ]
     },
     "execution_count": 94,
     "metadata": {},
     "output_type": "execute_result"
    }
   ],
   "source": [
    "infile = f'data/2_processed/daily_curves{specific}.csv'\n",
    "# infile = 'data/2_processed/daily_curves_Italy_smoothed_15min.csv'\n",
    "input_df = pd.read_csv(infile, index_col=0)\n",
    "# Convert everything in GWh\n",
    "input_df = input_df / 1000\n",
    "print(len(input_df))\n",
    "input_df.head(3)"
   ]
  },
  {
   "cell_type": "code",
   "execution_count": 95,
   "metadata": {},
   "outputs": [
    {
     "name": "stdout",
     "output_type": "stream",
     "text": [
      "1461\n"
     ]
    },
    {
     "data": {
      "text/html": [
       "<div>\n",
       "<style scoped>\n",
       "    .dataframe tbody tr th:only-of-type {\n",
       "        vertical-align: middle;\n",
       "    }\n",
       "\n",
       "    .dataframe tbody tr th {\n",
       "        vertical-align: top;\n",
       "    }\n",
       "\n",
       "    .dataframe thead th {\n",
       "        text-align: right;\n",
       "    }\n",
       "</style>\n",
       "<table border=\"1\" class=\"dataframe\">\n",
       "  <thead>\n",
       "    <tr style=\"text-align: right;\">\n",
       "      <th></th>\n",
       "      <th>0</th>\n",
       "      <th>1</th>\n",
       "      <th>2</th>\n",
       "      <th>3</th>\n",
       "      <th>4</th>\n",
       "      <th>5</th>\n",
       "      <th>6</th>\n",
       "      <th>7</th>\n",
       "      <th>8</th>\n",
       "      <th>9</th>\n",
       "      <th>...</th>\n",
       "      <th>19</th>\n",
       "      <th>20</th>\n",
       "      <th>21</th>\n",
       "      <th>22</th>\n",
       "      <th>23</th>\n",
       "      <th>24</th>\n",
       "      <th>region</th>\n",
       "      <th>year</th>\n",
       "      <th>month</th>\n",
       "      <th>daytype</th>\n",
       "    </tr>\n",
       "  </thead>\n",
       "  <tbody>\n",
       "    <tr>\n",
       "      <th>Italy_2020-01-01_Holiday</th>\n",
       "      <td>24.300000</td>\n",
       "      <td>23.308000</td>\n",
       "      <td>22.157999</td>\n",
       "      <td>20.786000</td>\n",
       "      <td>19.891000</td>\n",
       "      <td>19.947001</td>\n",
       "      <td>20.578999</td>\n",
       "      <td>21.473999</td>\n",
       "      <td>21.413001</td>\n",
       "      <td>22.792</td>\n",
       "      <td>...</td>\n",
       "      <td>30.459000</td>\n",
       "      <td>30.347000</td>\n",
       "      <td>29.180</td>\n",
       "      <td>27.406000</td>\n",
       "      <td>24.879000</td>\n",
       "      <td>22.212999</td>\n",
       "      <td>Italy</td>\n",
       "      <td>2020</td>\n",
       "      <td>01</td>\n",
       "      <td>Holiday</td>\n",
       "    </tr>\n",
       "    <tr>\n",
       "      <th>Italy_2020-01-02_Working day</th>\n",
       "      <td>22.212999</td>\n",
       "      <td>20.395000</td>\n",
       "      <td>19.276000</td>\n",
       "      <td>19.059001</td>\n",
       "      <td>19.167999</td>\n",
       "      <td>20.177000</td>\n",
       "      <td>23.560000</td>\n",
       "      <td>28.026999</td>\n",
       "      <td>31.600000</td>\n",
       "      <td>35.583</td>\n",
       "      <td>...</td>\n",
       "      <td>40.117000</td>\n",
       "      <td>38.273000</td>\n",
       "      <td>35.756</td>\n",
       "      <td>32.371000</td>\n",
       "      <td>28.863001</td>\n",
       "      <td>25.324000</td>\n",
       "      <td>Italy</td>\n",
       "      <td>2020</td>\n",
       "      <td>01</td>\n",
       "      <td>Working day</td>\n",
       "    </tr>\n",
       "    <tr>\n",
       "      <th>Italy_2020-01-03_Working day</th>\n",
       "      <td>25.324000</td>\n",
       "      <td>23.275001</td>\n",
       "      <td>21.741000</td>\n",
       "      <td>21.228999</td>\n",
       "      <td>21.438000</td>\n",
       "      <td>22.064999</td>\n",
       "      <td>25.270000</td>\n",
       "      <td>30.257000</td>\n",
       "      <td>34.130000</td>\n",
       "      <td>37.619</td>\n",
       "      <td>...</td>\n",
       "      <td>40.668001</td>\n",
       "      <td>38.369999</td>\n",
       "      <td>35.184</td>\n",
       "      <td>31.951999</td>\n",
       "      <td>28.347001</td>\n",
       "      <td>25.134999</td>\n",
       "      <td>Italy</td>\n",
       "      <td>2020</td>\n",
       "      <td>01</td>\n",
       "      <td>Working day</td>\n",
       "    </tr>\n",
       "  </tbody>\n",
       "</table>\n",
       "<p>3 rows × 29 columns</p>\n",
       "</div>"
      ],
      "text/plain": [
       "                                      0          1          2          3  \\\n",
       "Italy_2020-01-01_Holiday      24.300000  23.308000  22.157999  20.786000   \n",
       "Italy_2020-01-02_Working day  22.212999  20.395000  19.276000  19.059001   \n",
       "Italy_2020-01-03_Working day  25.324000  23.275001  21.741000  21.228999   \n",
       "\n",
       "                                      4          5          6          7  \\\n",
       "Italy_2020-01-01_Holiday      19.891000  19.947001  20.578999  21.473999   \n",
       "Italy_2020-01-02_Working day  19.167999  20.177000  23.560000  28.026999   \n",
       "Italy_2020-01-03_Working day  21.438000  22.064999  25.270000  30.257000   \n",
       "\n",
       "                                      8       9  ...         19         20  \\\n",
       "Italy_2020-01-01_Holiday      21.413001  22.792  ...  30.459000  30.347000   \n",
       "Italy_2020-01-02_Working day  31.600000  35.583  ...  40.117000  38.273000   \n",
       "Italy_2020-01-03_Working day  34.130000  37.619  ...  40.668001  38.369999   \n",
       "\n",
       "                                  21         22         23         24  region  \\\n",
       "Italy_2020-01-01_Holiday      29.180  27.406000  24.879000  22.212999   Italy   \n",
       "Italy_2020-01-02_Working day  35.756  32.371000  28.863001  25.324000   Italy   \n",
       "Italy_2020-01-03_Working day  35.184  31.951999  28.347001  25.134999   Italy   \n",
       "\n",
       "                              year  month      daytype  \n",
       "Italy_2020-01-01_Holiday      2020     01      Holiday  \n",
       "Italy_2020-01-02_Working day  2020     01  Working day  \n",
       "Italy_2020-01-03_Working day  2020     01  Working day  \n",
       "\n",
       "[3 rows x 29 columns]"
      ]
     },
     "execution_count": 95,
     "metadata": {},
     "output_type": "execute_result"
    }
   ],
   "source": [
    "unit_info = input_df.index.str.extract(r'^(?P<region>[\\w.]+)_(?P<year>\\d{4})-(?P<month>\\d{2})-\\d{2}_(?P<daytype>[\\w ]+)$').set_index(input_df.index)\n",
    "df = pd.concat([input_df, unit_info], axis=1)\n",
    "# Drop years for which we don't have indicators\n",
    "df = df[df.year.astype(int) > 2019]\n",
    "df_train = df[df.year.isin(train_years)]\n",
    "df_test = df[df.year.isin(test_years)]\n",
    "print(len(df))\n",
    "df.head(3)"
   ]
  },
  {
   "cell_type": "code",
   "execution_count": 96,
   "metadata": {},
   "outputs": [
    {
     "data": {
      "text/html": [
       "<div>\n",
       "<style scoped>\n",
       "    .dataframe tbody tr th:only-of-type {\n",
       "        vertical-align: middle;\n",
       "    }\n",
       "\n",
       "    .dataframe tbody tr th {\n",
       "        vertical-align: top;\n",
       "    }\n",
       "\n",
       "    .dataframe thead th {\n",
       "        text-align: right;\n",
       "    }\n",
       "</style>\n",
       "<table border=\"1\" class=\"dataframe\">\n",
       "  <thead>\n",
       "    <tr style=\"text-align: right;\">\n",
       "      <th></th>\n",
       "      <th>0</th>\n",
       "      <th>1</th>\n",
       "      <th>2</th>\n",
       "      <th>3</th>\n",
       "      <th>4</th>\n",
       "      <th>5</th>\n",
       "      <th>6</th>\n",
       "      <th>7</th>\n",
       "      <th>8</th>\n",
       "      <th>9</th>\n",
       "      <th>...</th>\n",
       "      <th>15</th>\n",
       "      <th>16</th>\n",
       "      <th>17</th>\n",
       "      <th>18</th>\n",
       "      <th>19</th>\n",
       "      <th>20</th>\n",
       "      <th>21</th>\n",
       "      <th>22</th>\n",
       "      <th>23</th>\n",
       "      <th>24</th>\n",
       "    </tr>\n",
       "  </thead>\n",
       "  <tbody>\n",
       "    <tr>\n",
       "      <th>Italy_2021-01-01_Holiday</th>\n",
       "      <td>0.040804</td>\n",
       "      <td>0.038742</td>\n",
       "      <td>0.035854</td>\n",
       "      <td>0.033708</td>\n",
       "      <td>0.032238</td>\n",
       "      <td>0.032600</td>\n",
       "      <td>0.034120</td>\n",
       "      <td>0.035383</td>\n",
       "      <td>0.035496</td>\n",
       "      <td>0.038184</td>\n",
       "      <td>...</td>\n",
       "      <td>0.042573</td>\n",
       "      <td>0.043251</td>\n",
       "      <td>0.047590</td>\n",
       "      <td>0.048918</td>\n",
       "      <td>0.050168</td>\n",
       "      <td>0.050272</td>\n",
       "      <td>0.048012</td>\n",
       "      <td>0.045464</td>\n",
       "      <td>0.041705</td>\n",
       "      <td>0.038179</td>\n",
       "    </tr>\n",
       "    <tr>\n",
       "      <th>Italy_2021-01-02_Saturday</th>\n",
       "      <td>0.034414</td>\n",
       "      <td>0.031907</td>\n",
       "      <td>0.030306</td>\n",
       "      <td>0.029319</td>\n",
       "      <td>0.029488</td>\n",
       "      <td>0.030321</td>\n",
       "      <td>0.033353</td>\n",
       "      <td>0.036153</td>\n",
       "      <td>0.038945</td>\n",
       "      <td>0.042298</td>\n",
       "      <td>...</td>\n",
       "      <td>0.044727</td>\n",
       "      <td>0.045919</td>\n",
       "      <td>0.050289</td>\n",
       "      <td>0.052199</td>\n",
       "      <td>0.053566</td>\n",
       "      <td>0.051826</td>\n",
       "      <td>0.048080</td>\n",
       "      <td>0.044351</td>\n",
       "      <td>0.039698</td>\n",
       "      <td>0.035197</td>\n",
       "    </tr>\n",
       "    <tr>\n",
       "      <th>Italy_2021-01-03_Holiday</th>\n",
       "      <td>0.037353</td>\n",
       "      <td>0.034144</td>\n",
       "      <td>0.032665</td>\n",
       "      <td>0.031295</td>\n",
       "      <td>0.030793</td>\n",
       "      <td>0.031833</td>\n",
       "      <td>0.033681</td>\n",
       "      <td>0.035499</td>\n",
       "      <td>0.037216</td>\n",
       "      <td>0.040036</td>\n",
       "      <td>...</td>\n",
       "      <td>0.043765</td>\n",
       "      <td>0.044670</td>\n",
       "      <td>0.049144</td>\n",
       "      <td>0.051261</td>\n",
       "      <td>0.052497</td>\n",
       "      <td>0.052119</td>\n",
       "      <td>0.048489</td>\n",
       "      <td>0.045250</td>\n",
       "      <td>0.041502</td>\n",
       "      <td>0.037208</td>\n",
       "    </tr>\n",
       "    <tr>\n",
       "      <th>Italy_2021-01-04_Monday</th>\n",
       "      <td>0.029707</td>\n",
       "      <td>0.027360</td>\n",
       "      <td>0.026213</td>\n",
       "      <td>0.026345</td>\n",
       "      <td>0.026738</td>\n",
       "      <td>0.027907</td>\n",
       "      <td>0.031743</td>\n",
       "      <td>0.037142</td>\n",
       "      <td>0.042662</td>\n",
       "      <td>0.047633</td>\n",
       "      <td>...</td>\n",
       "      <td>0.049228</td>\n",
       "      <td>0.049020</td>\n",
       "      <td>0.052170</td>\n",
       "      <td>0.052683</td>\n",
       "      <td>0.052748</td>\n",
       "      <td>0.049429</td>\n",
       "      <td>0.045780</td>\n",
       "      <td>0.041584</td>\n",
       "      <td>0.037839</td>\n",
       "      <td>0.033934</td>\n",
       "    </tr>\n",
       "    <tr>\n",
       "      <th>Italy_2021-01-05_Working day</th>\n",
       "      <td>0.032900</td>\n",
       "      <td>0.030340</td>\n",
       "      <td>0.028683</td>\n",
       "      <td>0.028162</td>\n",
       "      <td>0.028115</td>\n",
       "      <td>0.029145</td>\n",
       "      <td>0.032760</td>\n",
       "      <td>0.038128</td>\n",
       "      <td>0.043562</td>\n",
       "      <td>0.047061</td>\n",
       "      <td>...</td>\n",
       "      <td>0.048094</td>\n",
       "      <td>0.048353</td>\n",
       "      <td>0.051152</td>\n",
       "      <td>0.051067</td>\n",
       "      <td>0.050467</td>\n",
       "      <td>0.048227</td>\n",
       "      <td>0.044795</td>\n",
       "      <td>0.041040</td>\n",
       "      <td>0.036631</td>\n",
       "      <td>0.032362</td>\n",
       "    </tr>\n",
       "  </tbody>\n",
       "</table>\n",
       "<p>5 rows × 25 columns</p>\n",
       "</div>"
      ],
      "text/plain": [
       "                                     0         1         2         3  \\\n",
       "Italy_2021-01-01_Holiday      0.040804  0.038742  0.035854  0.033708   \n",
       "Italy_2021-01-02_Saturday     0.034414  0.031907  0.030306  0.029319   \n",
       "Italy_2021-01-03_Holiday      0.037353  0.034144  0.032665  0.031295   \n",
       "Italy_2021-01-04_Monday       0.029707  0.027360  0.026213  0.026345   \n",
       "Italy_2021-01-05_Working day  0.032900  0.030340  0.028683  0.028162   \n",
       "\n",
       "                                     4         5         6         7  \\\n",
       "Italy_2021-01-01_Holiday      0.032238  0.032600  0.034120  0.035383   \n",
       "Italy_2021-01-02_Saturday     0.029488  0.030321  0.033353  0.036153   \n",
       "Italy_2021-01-03_Holiday      0.030793  0.031833  0.033681  0.035499   \n",
       "Italy_2021-01-04_Monday       0.026738  0.027907  0.031743  0.037142   \n",
       "Italy_2021-01-05_Working day  0.028115  0.029145  0.032760  0.038128   \n",
       "\n",
       "                                     8         9  ...        15        16  \\\n",
       "Italy_2021-01-01_Holiday      0.035496  0.038184  ...  0.042573  0.043251   \n",
       "Italy_2021-01-02_Saturday     0.038945  0.042298  ...  0.044727  0.045919   \n",
       "Italy_2021-01-03_Holiday      0.037216  0.040036  ...  0.043765  0.044670   \n",
       "Italy_2021-01-04_Monday       0.042662  0.047633  ...  0.049228  0.049020   \n",
       "Italy_2021-01-05_Working day  0.043562  0.047061  ...  0.048094  0.048353   \n",
       "\n",
       "                                    17        18        19        20  \\\n",
       "Italy_2021-01-01_Holiday      0.047590  0.048918  0.050168  0.050272   \n",
       "Italy_2021-01-02_Saturday     0.050289  0.052199  0.053566  0.051826   \n",
       "Italy_2021-01-03_Holiday      0.049144  0.051261  0.052497  0.052119   \n",
       "Italy_2021-01-04_Monday       0.052170  0.052683  0.052748  0.049429   \n",
       "Italy_2021-01-05_Working day  0.051152  0.051067  0.050467  0.048227   \n",
       "\n",
       "                                    21        22        23        24  \n",
       "Italy_2021-01-01_Holiday      0.048012  0.045464  0.041705  0.038179  \n",
       "Italy_2021-01-02_Saturday     0.048080  0.044351  0.039698  0.035197  \n",
       "Italy_2021-01-03_Holiday      0.048489  0.045250  0.041502  0.037208  \n",
       "Italy_2021-01-04_Monday       0.045780  0.041584  0.037839  0.033934  \n",
       "Italy_2021-01-05_Working day  0.044795  0.041040  0.036631  0.032362  \n",
       "\n",
       "[5 rows x 25 columns]"
      ]
     },
     "execution_count": 96,
     "metadata": {},
     "output_type": "execute_result"
    }
   ],
   "source": [
    "X_train = df_train.drop(unit_info.columns, axis=1)\n",
    "X_test = df_test.drop(unit_info.columns, axis=1)\n",
    "X_train = normalize_curves(X_train)\n",
    "X_test = normalize_curves(X_test)\n",
    "X_train.head()"
   ]
  },
  {
   "cell_type": "code",
   "execution_count": 97,
   "metadata": {},
   "outputs": [],
   "source": [
    "X_test.to_pickle('data/2_processed/PenNMF/X_{}.pkl'.format('_'.join(test_years)))"
   ]
  },
  {
   "cell_type": "code",
   "execution_count": 98,
   "metadata": {},
   "outputs": [
    {
     "data": {
      "text/html": [
       "<div>\n",
       "<style scoped>\n",
       "    .dataframe tbody tr th:only-of-type {\n",
       "        vertical-align: middle;\n",
       "    }\n",
       "\n",
       "    .dataframe tbody tr th {\n",
       "        vertical-align: top;\n",
       "    }\n",
       "\n",
       "    .dataframe thead th {\n",
       "        text-align: right;\n",
       "    }\n",
       "</style>\n",
       "<table border=\"1\" class=\"dataframe\">\n",
       "  <thead>\n",
       "    <tr style=\"text-align: right;\">\n",
       "      <th></th>\n",
       "      <th>Domestico</th>\n",
       "      <th>Industria</th>\n",
       "      <th>Servizi</th>\n",
       "    </tr>\n",
       "    <tr>\n",
       "      <th>Year</th>\n",
       "      <th></th>\n",
       "      <th></th>\n",
       "      <th></th>\n",
       "    </tr>\n",
       "  </thead>\n",
       "  <tbody>\n",
       "    <tr>\n",
       "      <th>2020</th>\n",
       "      <td>70346.772629</td>\n",
       "      <td>139954.714815</td>\n",
       "      <td>91238.228641</td>\n",
       "    </tr>\n",
       "    <tr>\n",
       "      <th>2021</th>\n",
       "      <td>70928.908999</td>\n",
       "      <td>150696.282992</td>\n",
       "      <td>96657.712963</td>\n",
       "    </tr>\n",
       "    <tr>\n",
       "      <th>2022</th>\n",
       "      <td>68793.445435</td>\n",
       "      <td>145668.522283</td>\n",
       "      <td>100962.074249</td>\n",
       "    </tr>\n",
       "    <tr>\n",
       "      <th>2023</th>\n",
       "      <td>67161.960021</td>\n",
       "      <td>140246.884189</td>\n",
       "      <td>100516.807679</td>\n",
       "    </tr>\n",
       "  </tbody>\n",
       "</table>\n",
       "</div>"
      ],
      "text/plain": [
       "         Domestico      Industria        Servizi\n",
       "Year                                            \n",
       "2020  70346.772629  139954.714815   91238.228641\n",
       "2021  70928.908999  150696.282992   96657.712963\n",
       "2022  68793.445435  145668.522283  100962.074249\n",
       "2023  67161.960021  140246.884189  100516.807679"
      ]
     },
     "execution_count": 98,
     "metadata": {},
     "output_type": "execute_result"
    }
   ],
   "source": [
    "cons_df = pd.read_excel('data/1_input/consumption/consumption.xlsx', index_col=0)\n",
    "cons_df['Industria'] = cons_df['Industria'] + cons_df['Agricoltura'] # We put agricoltura sector in the industrial one\n",
    "cons_df.drop('Agricoltura', axis=1, inplace=True)\n",
    "\n",
    "# Add 2023: CAUTION, they are only estimates\n",
    "cons_2023 = pd.read_excel('data/1_input/consumption/Stima consumi annuario 2023.xlsx', skiprows=1, index_col=0, usecols=[1,2]).drop('Totale')\n",
    "cons_2023.index = cons_2023.index.str.replace('AGRICOLTURA', 'INDUSTRIA').str.capitalize().str.strip() # We put agricoltura sector in the industrial one\n",
    "cons_2023 = cons_2023.groupby(cons_2023.index).sum()\n",
    "\n",
    "cons_df.loc[2023, :] = cons_2023['2023 Annuario']\n",
    "\n",
    "# Align with the consumption computed from the load data\n",
    "uncorrected_total = cons_df[['Servizi', 'Industria', 'Domestico']].sum(axis=1).values\n",
    "corrected_total = df.groupby(['year'])[[str(i) for i in range(24)]].sum().sum(axis=1).values\n",
    "cons_df = cons_df.mul(corrected_total / uncorrected_total, axis=0)\n",
    "cons_df"
   ]
  },
  {
   "cell_type": "markdown",
   "metadata": {},
   "source": [
    "# Create indicators matrix $Y$"
   ]
  },
  {
   "cell_type": "code",
   "execution_count": 99,
   "metadata": {},
   "outputs": [
    {
     "data": {
      "text/html": [
       "<div>\n",
       "<style scoped>\n",
       "    .dataframe tbody tr th:only-of-type {\n",
       "        vertical-align: middle;\n",
       "    }\n",
       "\n",
       "    .dataframe tbody tr th {\n",
       "        vertical-align: top;\n",
       "    }\n",
       "\n",
       "    .dataframe thead th {\n",
       "        text-align: right;\n",
       "    }\n",
       "</style>\n",
       "<table border=\"1\" class=\"dataframe\">\n",
       "  <thead>\n",
       "    <tr style=\"text-align: right;\">\n",
       "      <th></th>\n",
       "      <th>IMCEI</th>\n",
       "      <th>IMSER</th>\n",
       "      <th>EnelDom</th>\n",
       "    </tr>\n",
       "    <tr>\n",
       "      <th>Mese</th>\n",
       "      <th></th>\n",
       "      <th></th>\n",
       "      <th></th>\n",
       "    </tr>\n",
       "  </thead>\n",
       "  <tbody>\n",
       "    <tr>\n",
       "      <th>2020-01-01</th>\n",
       "      <td>95.501727</td>\n",
       "      <td>6767.710901</td>\n",
       "      <td>4741.474351</td>\n",
       "    </tr>\n",
       "    <tr>\n",
       "      <th>2020-02-01</th>\n",
       "      <td>102.158558</td>\n",
       "      <td>6108.615709</td>\n",
       "      <td>4120.931091</td>\n",
       "    </tr>\n",
       "    <tr>\n",
       "      <th>2020-03-01</th>\n",
       "      <td>83.918607</td>\n",
       "      <td>5072.078974</td>\n",
       "      <td>4571.397146</td>\n",
       "    </tr>\n",
       "    <tr>\n",
       "      <th>2020-04-01</th>\n",
       "      <td>67.621478</td>\n",
       "      <td>4106.738593</td>\n",
       "      <td>4056.375574</td>\n",
       "    </tr>\n",
       "    <tr>\n",
       "      <th>2020-05-01</th>\n",
       "      <td>98.087167</td>\n",
       "      <td>4941.189899</td>\n",
       "      <td>3817.225967</td>\n",
       "    </tr>\n",
       "  </tbody>\n",
       "</table>\n",
       "</div>"
      ],
      "text/plain": [
       "                 IMCEI        IMSER      EnelDom\n",
       "Mese                                            \n",
       "2020-01-01   95.501727  6767.710901  4741.474351\n",
       "2020-02-01  102.158558  6108.615709  4120.931091\n",
       "2020-03-01   83.918607  5072.078974  4571.397146\n",
       "2020-04-01   67.621478  4106.738593  4056.375574\n",
       "2020-05-01   98.087167  4941.189899  3817.225967"
      ]
     },
     "execution_count": 99,
     "metadata": {},
     "output_type": "execute_result"
    }
   ],
   "source": [
    "imser = pd.read_excel('data/1_input/indicators/IMSER2.xlsx')\n",
    "imser = imser.set_index('Mese').rename({'IMSER (GWh)': 'IMSER'}, axis=1) # We don't have data for this year\n",
    "\n",
    "imcei = pd.read_excel('data/1_input/indicators/IMCEI_mensile.xlsx')\n",
    "imcei['Mese'] = pd.to_datetime(imcei['Anno'].astype(str) + '-' + imcei['Mese'], format='%Y-%b')\n",
    "imcei = imcei.set_index('Mese').drop('Anno', axis=1).rename({'IMCEI Mensile': 'IMCEI'}, axis=1)\n",
    "\n",
    "domestic1 = pd.read_excel('data/1_input/indicators/Domestico 2020 e 2021.xlsx', skiprows=12, usecols=range(3))\n",
    "domestic2 = pd.read_excel('data/1_input/indicators/Domestico 2022 e 2023.xlsx', skiprows=12, usecols=range(3))\n",
    "domestic = pd.concat([domestic1, domestic2], ignore_index=True)\n",
    "domestic = domestic.set_index('Mese').drop('Domestico kWh', axis=1)\n",
    "\n",
    "indics = imcei.copy()\n",
    "indics['IMSER'] = imser['IMSER']\n",
    "indics['EnelDom'] = domestic['Domestico GWh']\n",
    "indics = indics[indics.index >= \"2020-01-01\"]\n",
    "indics.head()"
   ]
  },
  {
   "cell_type": "code",
   "execution_count": 100,
   "metadata": {},
   "outputs": [],
   "source": [
    "# Create train and test set\n",
    "indics_train = indics[indics.index.year.astype(str).isin(train_years)]\n",
    "indics_test = indics[indics.index.year.astype(str).isin(test_years)]"
   ]
  },
  {
   "cell_type": "code",
   "execution_count": 101,
   "metadata": {},
   "outputs": [
    {
     "data": {
      "text/html": [
       "<div>\n",
       "<style scoped>\n",
       "    .dataframe tbody tr th:only-of-type {\n",
       "        vertical-align: middle;\n",
       "    }\n",
       "\n",
       "    .dataframe tbody tr th {\n",
       "        vertical-align: top;\n",
       "    }\n",
       "\n",
       "    .dataframe thead th {\n",
       "        text-align: right;\n",
       "    }\n",
       "</style>\n",
       "<table border=\"1\" class=\"dataframe\">\n",
       "  <thead>\n",
       "    <tr style=\"text-align: right;\">\n",
       "      <th></th>\n",
       "      <th>Domestico</th>\n",
       "      <th>Industria</th>\n",
       "      <th>Servizi</th>\n",
       "    </tr>\n",
       "    <tr>\n",
       "      <th>Mese</th>\n",
       "      <th></th>\n",
       "      <th></th>\n",
       "      <th></th>\n",
       "    </tr>\n",
       "  </thead>\n",
       "  <tbody>\n",
       "    <tr>\n",
       "      <th>2020-01-01</th>\n",
       "      <td>6441.363317</td>\n",
       "      <td>11825.246197</td>\n",
       "      <td>8576.812874</td>\n",
       "    </tr>\n",
       "    <tr>\n",
       "      <th>2020-02-01</th>\n",
       "      <td>5598.346084</td>\n",
       "      <td>12649.510509</td>\n",
       "      <td>7741.532495</td>\n",
       "    </tr>\n",
       "    <tr>\n",
       "      <th>2020-03-01</th>\n",
       "      <td>6210.310908</td>\n",
       "      <td>10390.997313</td>\n",
       "      <td>6427.915271</td>\n",
       "    </tr>\n",
       "    <tr>\n",
       "      <th>2020-04-01</th>\n",
       "      <td>5510.646455</td>\n",
       "      <td>8373.048886</td>\n",
       "      <td>5204.526162</td>\n",
       "    </tr>\n",
       "    <tr>\n",
       "      <th>2020-05-01</th>\n",
       "      <td>5185.758162</td>\n",
       "      <td>12145.381439</td>\n",
       "      <td>6262.037750</td>\n",
       "    </tr>\n",
       "    <tr>\n",
       "      <th>2020-06-01</th>\n",
       "      <td>5043.203018</td>\n",
       "      <td>12189.245865</td>\n",
       "      <td>7427.909331</td>\n",
       "    </tr>\n",
       "    <tr>\n",
       "      <th>2020-07-01</th>\n",
       "      <td>6104.410642</td>\n",
       "      <td>13087.043126</td>\n",
       "      <td>9516.201639</td>\n",
       "    </tr>\n",
       "    <tr>\n",
       "      <th>2020-08-01</th>\n",
       "      <td>6627.809387</td>\n",
       "      <td>8396.219017</td>\n",
       "      <td>9374.003993</td>\n",
       "    </tr>\n",
       "    <tr>\n",
       "      <th>2020-09-01</th>\n",
       "      <td>5206.096122</td>\n",
       "      <td>12898.246109</td>\n",
       "      <td>8512.639969</td>\n",
       "    </tr>\n",
       "    <tr>\n",
       "      <th>2020-10-01</th>\n",
       "      <td>5549.820713</td>\n",
       "      <td>13736.861571</td>\n",
       "      <td>7690.351969</td>\n",
       "    </tr>\n",
       "    <tr>\n",
       "      <th>2020-11-01</th>\n",
       "      <td>5925.533543</td>\n",
       "      <td>13080.322886</td>\n",
       "      <td>7024.975739</td>\n",
       "    </tr>\n",
       "    <tr>\n",
       "      <th>2020-12-01</th>\n",
       "      <td>6943.474277</td>\n",
       "      <td>11182.591898</td>\n",
       "      <td>7479.321450</td>\n",
       "    </tr>\n",
       "    <tr>\n",
       "      <th>2021-01-01</th>\n",
       "      <td>7068.588759</td>\n",
       "      <td>11798.356100</td>\n",
       "      <td>7940.627764</td>\n",
       "    </tr>\n",
       "    <tr>\n",
       "      <th>2021-02-01</th>\n",
       "      <td>5770.692301</td>\n",
       "      <td>11970.508912</td>\n",
       "      <td>7119.007589</td>\n",
       "    </tr>\n",
       "    <tr>\n",
       "      <th>2021-03-01</th>\n",
       "      <td>6065.445313</td>\n",
       "      <td>13462.969098</td>\n",
       "      <td>7276.016186</td>\n",
       "    </tr>\n",
       "    <tr>\n",
       "      <th>2021-04-01</th>\n",
       "      <td>5462.594482</td>\n",
       "      <td>12619.586863</td>\n",
       "      <td>6576.223139</td>\n",
       "    </tr>\n",
       "    <tr>\n",
       "      <th>2021-05-01</th>\n",
       "      <td>5063.270670</td>\n",
       "      <td>13521.142100</td>\n",
       "      <td>7216.339673</td>\n",
       "    </tr>\n",
       "    <tr>\n",
       "      <th>2021-06-01</th>\n",
       "      <td>5497.968565</td>\n",
       "      <td>13459.544338</td>\n",
       "      <td>8848.138643</td>\n",
       "    </tr>\n",
       "    <tr>\n",
       "      <th>2021-07-01</th>\n",
       "      <td>6426.265158</td>\n",
       "      <td>13831.490856</td>\n",
       "      <td>10067.703402</td>\n",
       "    </tr>\n",
       "    <tr>\n",
       "      <th>2021-08-01</th>\n",
       "      <td>6652.554008</td>\n",
       "      <td>8905.985735</td>\n",
       "      <td>9455.451155</td>\n",
       "    </tr>\n",
       "    <tr>\n",
       "      <th>2021-09-01</th>\n",
       "      <td>5010.058236</td>\n",
       "      <td>13400.263560</td>\n",
       "      <td>8206.103612</td>\n",
       "    </tr>\n",
       "    <tr>\n",
       "      <th>2021-10-01</th>\n",
       "      <td>5344.613018</td>\n",
       "      <td>13547.314239</td>\n",
       "      <td>7837.355877</td>\n",
       "    </tr>\n",
       "    <tr>\n",
       "      <th>2021-11-01</th>\n",
       "      <td>5730.080320</td>\n",
       "      <td>13136.017199</td>\n",
       "      <td>7742.019111</td>\n",
       "    </tr>\n",
       "    <tr>\n",
       "      <th>2021-12-01</th>\n",
       "      <td>6836.778170</td>\n",
       "      <td>11043.103992</td>\n",
       "      <td>8372.726811</td>\n",
       "    </tr>\n",
       "    <tr>\n",
       "      <th>2022-01-01</th>\n",
       "      <td>6925.236904</td>\n",
       "      <td>11845.876613</td>\n",
       "      <td>8804.613726</td>\n",
       "    </tr>\n",
       "    <tr>\n",
       "      <th>2022-02-01</th>\n",
       "      <td>5675.333205</td>\n",
       "      <td>12849.401660</td>\n",
       "      <td>7762.788839</td>\n",
       "    </tr>\n",
       "    <tr>\n",
       "      <th>2022-03-01</th>\n",
       "      <td>5948.575011</td>\n",
       "      <td>13808.778544</td>\n",
       "      <td>8353.046276</td>\n",
       "    </tr>\n",
       "    <tr>\n",
       "      <th>2022-04-01</th>\n",
       "      <td>5180.209887</td>\n",
       "      <td>12773.246590</td>\n",
       "      <td>7422.571144</td>\n",
       "    </tr>\n",
       "    <tr>\n",
       "      <th>2022-05-01</th>\n",
       "      <td>4939.118664</td>\n",
       "      <td>13452.291416</td>\n",
       "      <td>8140.794506</td>\n",
       "    </tr>\n",
       "    <tr>\n",
       "      <th>2022-06-01</th>\n",
       "      <td>5619.097719</td>\n",
       "      <td>12910.438752</td>\n",
       "      <td>9425.848438</td>\n",
       "    </tr>\n",
       "    <tr>\n",
       "      <th>2022-07-01</th>\n",
       "      <td>7077.033484</td>\n",
       "      <td>12427.334576</td>\n",
       "      <td>10592.747119</td>\n",
       "    </tr>\n",
       "    <tr>\n",
       "      <th>2022-08-01</th>\n",
       "      <td>6343.174855</td>\n",
       "      <td>7714.857413</td>\n",
       "      <td>9518.740300</td>\n",
       "    </tr>\n",
       "    <tr>\n",
       "      <th>2022-09-01</th>\n",
       "      <td>4951.534907</td>\n",
       "      <td>12603.506662</td>\n",
       "      <td>8269.540396</td>\n",
       "    </tr>\n",
       "    <tr>\n",
       "      <th>2022-10-01</th>\n",
       "      <td>4740.623188</td>\n",
       "      <td>13277.214831</td>\n",
       "      <td>7471.479264</td>\n",
       "    </tr>\n",
       "    <tr>\n",
       "      <th>2022-11-01</th>\n",
       "      <td>5240.654940</td>\n",
       "      <td>12381.284847</td>\n",
       "      <td>7327.036559</td>\n",
       "    </tr>\n",
       "    <tr>\n",
       "      <th>2022-12-01</th>\n",
       "      <td>6152.852670</td>\n",
       "      <td>9624.290379</td>\n",
       "      <td>7872.867683</td>\n",
       "    </tr>\n",
       "    <tr>\n",
       "      <th>2023-01-01</th>\n",
       "      <td>6386.301688</td>\n",
       "      <td>10857.544859</td>\n",
       "      <td>8566.680417</td>\n",
       "    </tr>\n",
       "    <tr>\n",
       "      <th>2023-02-01</th>\n",
       "      <td>5641.619098</td>\n",
       "      <td>11994.279263</td>\n",
       "      <td>7831.792140</td>\n",
       "    </tr>\n",
       "    <tr>\n",
       "      <th>2023-03-01</th>\n",
       "      <td>5422.374125</td>\n",
       "      <td>13701.997740</td>\n",
       "      <td>7907.144525</td>\n",
       "    </tr>\n",
       "    <tr>\n",
       "      <th>2023-04-01</th>\n",
       "      <td>5004.604219</td>\n",
       "      <td>11628.843272</td>\n",
       "      <td>7207.665386</td>\n",
       "    </tr>\n",
       "    <tr>\n",
       "      <th>2023-05-01</th>\n",
       "      <td>4802.390612</td>\n",
       "      <td>12376.917911</td>\n",
       "      <td>7773.617824</td>\n",
       "    </tr>\n",
       "    <tr>\n",
       "      <th>2023-06-01</th>\n",
       "      <td>4931.446786</td>\n",
       "      <td>12181.716678</td>\n",
       "      <td>8684.706556</td>\n",
       "    </tr>\n",
       "    <tr>\n",
       "      <th>2023-07-01</th>\n",
       "      <td>6869.057461</td>\n",
       "      <td>12296.641260</td>\n",
       "      <td>10372.503811</td>\n",
       "    </tr>\n",
       "    <tr>\n",
       "      <th>2023-08-01</th>\n",
       "      <td>6300.891996</td>\n",
       "      <td>7727.298337</td>\n",
       "      <td>9433.048258</td>\n",
       "    </tr>\n",
       "    <tr>\n",
       "      <th>2023-09-01</th>\n",
       "      <td>4947.838121</td>\n",
       "      <td>12502.948598</td>\n",
       "      <td>8713.748937</td>\n",
       "    </tr>\n",
       "    <tr>\n",
       "      <th>2023-10-01</th>\n",
       "      <td>4949.755692</td>\n",
       "      <td>12856.651190</td>\n",
       "      <td>8162.029180</td>\n",
       "    </tr>\n",
       "    <tr>\n",
       "      <th>2023-11-01</th>\n",
       "      <td>5470.176318</td>\n",
       "      <td>12278.966344</td>\n",
       "      <td>7733.997257</td>\n",
       "    </tr>\n",
       "    <tr>\n",
       "      <th>2023-12-01</th>\n",
       "      <td>6435.503906</td>\n",
       "      <td>9843.078736</td>\n",
       "      <td>8129.873387</td>\n",
       "    </tr>\n",
       "  </tbody>\n",
       "</table>\n",
       "</div>"
      ],
      "text/plain": [
       "              Domestico     Industria       Servizi\n",
       "Mese                                               \n",
       "2020-01-01  6441.363317  11825.246197   8576.812874\n",
       "2020-02-01  5598.346084  12649.510509   7741.532495\n",
       "2020-03-01  6210.310908  10390.997313   6427.915271\n",
       "2020-04-01  5510.646455   8373.048886   5204.526162\n",
       "2020-05-01  5185.758162  12145.381439   6262.037750\n",
       "2020-06-01  5043.203018  12189.245865   7427.909331\n",
       "2020-07-01  6104.410642  13087.043126   9516.201639\n",
       "2020-08-01  6627.809387   8396.219017   9374.003993\n",
       "2020-09-01  5206.096122  12898.246109   8512.639969\n",
       "2020-10-01  5549.820713  13736.861571   7690.351969\n",
       "2020-11-01  5925.533543  13080.322886   7024.975739\n",
       "2020-12-01  6943.474277  11182.591898   7479.321450\n",
       "2021-01-01  7068.588759  11798.356100   7940.627764\n",
       "2021-02-01  5770.692301  11970.508912   7119.007589\n",
       "2021-03-01  6065.445313  13462.969098   7276.016186\n",
       "2021-04-01  5462.594482  12619.586863   6576.223139\n",
       "2021-05-01  5063.270670  13521.142100   7216.339673\n",
       "2021-06-01  5497.968565  13459.544338   8848.138643\n",
       "2021-07-01  6426.265158  13831.490856  10067.703402\n",
       "2021-08-01  6652.554008   8905.985735   9455.451155\n",
       "2021-09-01  5010.058236  13400.263560   8206.103612\n",
       "2021-10-01  5344.613018  13547.314239   7837.355877\n",
       "2021-11-01  5730.080320  13136.017199   7742.019111\n",
       "2021-12-01  6836.778170  11043.103992   8372.726811\n",
       "2022-01-01  6925.236904  11845.876613   8804.613726\n",
       "2022-02-01  5675.333205  12849.401660   7762.788839\n",
       "2022-03-01  5948.575011  13808.778544   8353.046276\n",
       "2022-04-01  5180.209887  12773.246590   7422.571144\n",
       "2022-05-01  4939.118664  13452.291416   8140.794506\n",
       "2022-06-01  5619.097719  12910.438752   9425.848438\n",
       "2022-07-01  7077.033484  12427.334576  10592.747119\n",
       "2022-08-01  6343.174855   7714.857413   9518.740300\n",
       "2022-09-01  4951.534907  12603.506662   8269.540396\n",
       "2022-10-01  4740.623188  13277.214831   7471.479264\n",
       "2022-11-01  5240.654940  12381.284847   7327.036559\n",
       "2022-12-01  6152.852670   9624.290379   7872.867683\n",
       "2023-01-01  6386.301688  10857.544859   8566.680417\n",
       "2023-02-01  5641.619098  11994.279263   7831.792140\n",
       "2023-03-01  5422.374125  13701.997740   7907.144525\n",
       "2023-04-01  5004.604219  11628.843272   7207.665386\n",
       "2023-05-01  4802.390612  12376.917911   7773.617824\n",
       "2023-06-01  4931.446786  12181.716678   8684.706556\n",
       "2023-07-01  6869.057461  12296.641260  10372.503811\n",
       "2023-08-01  6300.891996   7727.298337   9433.048258\n",
       "2023-09-01  4947.838121  12502.948598   8713.748937\n",
       "2023-10-01  4949.755692  12856.651190   8162.029180\n",
       "2023-11-01  5470.176318  12278.966344   7733.997257\n",
       "2023-12-01  6435.503906   9843.078736   8129.873387"
      ]
     },
     "execution_count": 101,
     "metadata": {},
     "output_type": "execute_result"
    }
   ],
   "source": [
    "indics.rename(columns={'IMSER': 'Servizi', 'IMCEI': 'Industria', 'EnelDom': 'Domestico'}, inplace=True)\n",
    "indics['year'] = indics.index.year\n",
    "indic_totals = indics[['year']].merge(indics.groupby('year').sum(), left_on='year', right_index=True, how='left').drop('year', axis=1)\n",
    "cons_rescaling = indics[['year']].merge(cons_df, left_on='year', right_index=True, how='left').drop('year', axis=1)\n",
    "indics.drop('year', axis=1, inplace=True)\n",
    "Y = indics.div(indic_totals).mul(cons_rescaling)\n",
    "Y"
   ]
  },
  {
   "cell_type": "code",
   "execution_count": 102,
   "metadata": {},
   "outputs": [],
   "source": [
    "Y_train = Y[Y.index.year.astype(str).isin(train_years)]\n",
    "Y_test = Y[Y.index.year.astype(str).isin(test_years)]"
   ]
  },
  {
   "cell_type": "code",
   "execution_count": 103,
   "metadata": {},
   "outputs": [],
   "source": [
    "Y_train.to_pickle('data/2_processed/PenNMF/Y_{}.pkl'.format('_'.join(train_years)))\n",
    "Y_test.to_pickle('data/2_processed/PenNMF/Y_{}.pkl'.format('_'.join(test_years)))\n",
    "Y.to_pickle('data/2_processed/PenNMF/Y.pkl')"
   ]
  },
  {
   "cell_type": "markdown",
   "metadata": {},
   "source": [
    "# Create parameter matices $B$ and $A$"
   ]
  },
  {
   "cell_type": "code",
   "execution_count": 104,
   "metadata": {},
   "outputs": [
    {
     "data": {
      "text/html": [
       "<div>\n",
       "<style scoped>\n",
       "    .dataframe tbody tr th:only-of-type {\n",
       "        vertical-align: middle;\n",
       "    }\n",
       "\n",
       "    .dataframe tbody tr th {\n",
       "        vertical-align: top;\n",
       "    }\n",
       "\n",
       "    .dataframe thead th {\n",
       "        text-align: right;\n",
       "    }\n",
       "</style>\n",
       "<table border=\"1\" class=\"dataframe\">\n",
       "  <thead>\n",
       "    <tr style=\"text-align: right;\">\n",
       "      <th></th>\n",
       "      <th>norm_X</th>\n",
       "      <th>month</th>\n",
       "    </tr>\n",
       "  </thead>\n",
       "  <tbody>\n",
       "    <tr>\n",
       "      <th>Italy_2021-01-01_Holiday</th>\n",
       "      <td>597.368996</td>\n",
       "      <td>2021-01</td>\n",
       "    </tr>\n",
       "    <tr>\n",
       "      <th>Italy_2021-01-02_Saturday</th>\n",
       "      <td>662.733499</td>\n",
       "      <td>2021-01</td>\n",
       "    </tr>\n",
       "    <tr>\n",
       "      <th>Italy_2021-01-03_Holiday</th>\n",
       "      <td>624.469497</td>\n",
       "      <td>2021-01</td>\n",
       "    </tr>\n",
       "    <tr>\n",
       "      <th>Italy_2021-01-04_Monday</th>\n",
       "      <td>782.132998</td>\n",
       "      <td>2021-01</td>\n",
       "    </tr>\n",
       "    <tr>\n",
       "      <th>Italy_2021-01-05_Working day</th>\n",
       "      <td>806.720001</td>\n",
       "      <td>2021-01</td>\n",
       "    </tr>\n",
       "    <tr>\n",
       "      <th>...</th>\n",
       "      <td>...</td>\n",
       "      <td>...</td>\n",
       "    </tr>\n",
       "    <tr>\n",
       "      <th>Italy_2021-12-27_Monday</th>\n",
       "      <td>761.557999</td>\n",
       "      <td>2021-12</td>\n",
       "    </tr>\n",
       "    <tr>\n",
       "      <th>Italy_2021-12-28_Working day</th>\n",
       "      <td>785.860998</td>\n",
       "      <td>2021-12</td>\n",
       "    </tr>\n",
       "    <tr>\n",
       "      <th>Italy_2021-12-29_Working day</th>\n",
       "      <td>761.050505</td>\n",
       "      <td>2021-12</td>\n",
       "    </tr>\n",
       "    <tr>\n",
       "      <th>Italy_2021-12-30_Working day</th>\n",
       "      <td>773.259500</td>\n",
       "      <td>2021-12</td>\n",
       "    </tr>\n",
       "    <tr>\n",
       "      <th>Italy_2021-12-31_Working day</th>\n",
       "      <td>723.571998</td>\n",
       "      <td>2021-12</td>\n",
       "    </tr>\n",
       "  </tbody>\n",
       "</table>\n",
       "<p>365 rows × 2 columns</p>\n",
       "</div>"
      ],
      "text/plain": [
       "                                  norm_X    month\n",
       "Italy_2021-01-01_Holiday      597.368996  2021-01\n",
       "Italy_2021-01-02_Saturday     662.733499  2021-01\n",
       "Italy_2021-01-03_Holiday      624.469497  2021-01\n",
       "Italy_2021-01-04_Monday       782.132998  2021-01\n",
       "Italy_2021-01-05_Working day  806.720001  2021-01\n",
       "...                                  ...      ...\n",
       "Italy_2021-12-27_Monday       761.557999  2021-12\n",
       "Italy_2021-12-28_Working day  785.860998  2021-12\n",
       "Italy_2021-12-29_Working day  761.050505  2021-12\n",
       "Italy_2021-12-30_Working day  773.259500  2021-12\n",
       "Italy_2021-12-31_Working day  723.571998  2021-12\n",
       "\n",
       "[365 rows x 2 columns]"
      ]
     },
     "execution_count": 104,
     "metadata": {},
     "output_type": "execute_result"
    }
   ],
   "source": [
    "X_train_unnorm = df_train.drop(unit_info.columns, axis=1)\n",
    "h = 24 / (X_train_unnorm.shape[1]-1)\n",
    "norm_X = X_train_unnorm.apply(lambda row: functional_norm(row, h), axis=1, raw=True)\n",
    "norm_X = pd.DataFrame(norm_X, index=norm_X.index, columns=['norm_X'])\n",
    "norm_X['month'] = norm_X.index.str[6:13]\n",
    "norm_X"
   ]
  },
  {
   "cell_type": "code",
   "execution_count": 105,
   "metadata": {},
   "outputs": [
    {
     "data": {
      "text/plain": [
       "(12, 365)"
      ]
     },
     "execution_count": 105,
     "metadata": {},
     "output_type": "execute_result"
    }
   ],
   "source": [
    "m = norm_X.index.str[6:13].nunique() # n_months\n",
    "n = len(X_train) # n_days\n",
    "blocks = [norm_X.loc[norm_X.month == month, 'norm_X'].values[np.newaxis, :] for month in norm_X.index.str[6:13].unique()]\n",
    "B = block_diag(*blocks)\n",
    "B.shape"
   ]
  },
  {
   "cell_type": "code",
   "execution_count": 106,
   "metadata": {},
   "outputs": [
    {
     "data": {
      "text/html": [
       "<div>\n",
       "<style scoped>\n",
       "    .dataframe tbody tr th:only-of-type {\n",
       "        vertical-align: middle;\n",
       "    }\n",
       "\n",
       "    .dataframe tbody tr th {\n",
       "        vertical-align: top;\n",
       "    }\n",
       "\n",
       "    .dataframe thead th {\n",
       "        text-align: right;\n",
       "    }\n",
       "</style>\n",
       "<table border=\"1\" class=\"dataframe\">\n",
       "  <thead>\n",
       "    <tr style=\"text-align: right;\">\n",
       "      <th></th>\n",
       "      <th>Italy_2021-01-01_Holiday</th>\n",
       "      <th>Italy_2021-01-02_Saturday</th>\n",
       "      <th>Italy_2021-01-03_Holiday</th>\n",
       "      <th>Italy_2021-01-04_Monday</th>\n",
       "      <th>Italy_2021-01-05_Working day</th>\n",
       "      <th>Italy_2021-01-06_Holiday</th>\n",
       "      <th>Italy_2021-01-07_Working day</th>\n",
       "      <th>Italy_2021-01-08_Working day</th>\n",
       "      <th>Italy_2021-01-09_Saturday</th>\n",
       "      <th>Italy_2021-01-10_Holiday</th>\n",
       "      <th>...</th>\n",
       "      <th>Italy_2021-12-22_Working day</th>\n",
       "      <th>Italy_2021-12-23_Working day</th>\n",
       "      <th>Italy_2021-12-24_Working day</th>\n",
       "      <th>Italy_2021-12-25_Holiday</th>\n",
       "      <th>Italy_2021-12-26_Holiday</th>\n",
       "      <th>Italy_2021-12-27_Monday</th>\n",
       "      <th>Italy_2021-12-28_Working day</th>\n",
       "      <th>Italy_2021-12-29_Working day</th>\n",
       "      <th>Italy_2021-12-30_Working day</th>\n",
       "      <th>Italy_2021-12-31_Working day</th>\n",
       "    </tr>\n",
       "    <tr>\n",
       "      <th>Mese</th>\n",
       "      <th></th>\n",
       "      <th></th>\n",
       "      <th></th>\n",
       "      <th></th>\n",
       "      <th></th>\n",
       "      <th></th>\n",
       "      <th></th>\n",
       "      <th></th>\n",
       "      <th></th>\n",
       "      <th></th>\n",
       "      <th></th>\n",
       "      <th></th>\n",
       "      <th></th>\n",
       "      <th></th>\n",
       "      <th></th>\n",
       "      <th></th>\n",
       "      <th></th>\n",
       "      <th></th>\n",
       "      <th></th>\n",
       "      <th></th>\n",
       "      <th></th>\n",
       "    </tr>\n",
       "  </thead>\n",
       "  <tbody>\n",
       "    <tr>\n",
       "      <th>2021-01-01</th>\n",
       "      <td>597.368996</td>\n",
       "      <td>662.733499</td>\n",
       "      <td>624.469497</td>\n",
       "      <td>782.132998</td>\n",
       "      <td>806.720001</td>\n",
       "      <td>693.469</td>\n",
       "      <td>914.726001</td>\n",
       "      <td>935.038998</td>\n",
       "      <td>791.720002</td>\n",
       "      <td>705.723499</td>\n",
       "      <td>...</td>\n",
       "      <td>0.00000</td>\n",
       "      <td>0.000000</td>\n",
       "      <td>0.000</td>\n",
       "      <td>0.000000</td>\n",
       "      <td>0.000000</td>\n",
       "      <td>0.000000</td>\n",
       "      <td>0.000000</td>\n",
       "      <td>0.000000</td>\n",
       "      <td>0.0000</td>\n",
       "      <td>0.000000</td>\n",
       "    </tr>\n",
       "    <tr>\n",
       "      <th>2021-02-01</th>\n",
       "      <td>0.000000</td>\n",
       "      <td>0.000000</td>\n",
       "      <td>0.000000</td>\n",
       "      <td>0.000000</td>\n",
       "      <td>0.000000</td>\n",
       "      <td>0.000</td>\n",
       "      <td>0.000000</td>\n",
       "      <td>0.000000</td>\n",
       "      <td>0.000000</td>\n",
       "      <td>0.000000</td>\n",
       "      <td>...</td>\n",
       "      <td>0.00000</td>\n",
       "      <td>0.000000</td>\n",
       "      <td>0.000</td>\n",
       "      <td>0.000000</td>\n",
       "      <td>0.000000</td>\n",
       "      <td>0.000000</td>\n",
       "      <td>0.000000</td>\n",
       "      <td>0.000000</td>\n",
       "      <td>0.0000</td>\n",
       "      <td>0.000000</td>\n",
       "    </tr>\n",
       "    <tr>\n",
       "      <th>2021-03-01</th>\n",
       "      <td>0.000000</td>\n",
       "      <td>0.000000</td>\n",
       "      <td>0.000000</td>\n",
       "      <td>0.000000</td>\n",
       "      <td>0.000000</td>\n",
       "      <td>0.000</td>\n",
       "      <td>0.000000</td>\n",
       "      <td>0.000000</td>\n",
       "      <td>0.000000</td>\n",
       "      <td>0.000000</td>\n",
       "      <td>...</td>\n",
       "      <td>0.00000</td>\n",
       "      <td>0.000000</td>\n",
       "      <td>0.000</td>\n",
       "      <td>0.000000</td>\n",
       "      <td>0.000000</td>\n",
       "      <td>0.000000</td>\n",
       "      <td>0.000000</td>\n",
       "      <td>0.000000</td>\n",
       "      <td>0.0000</td>\n",
       "      <td>0.000000</td>\n",
       "    </tr>\n",
       "    <tr>\n",
       "      <th>2021-04-01</th>\n",
       "      <td>0.000000</td>\n",
       "      <td>0.000000</td>\n",
       "      <td>0.000000</td>\n",
       "      <td>0.000000</td>\n",
       "      <td>0.000000</td>\n",
       "      <td>0.000</td>\n",
       "      <td>0.000000</td>\n",
       "      <td>0.000000</td>\n",
       "      <td>0.000000</td>\n",
       "      <td>0.000000</td>\n",
       "      <td>...</td>\n",
       "      <td>0.00000</td>\n",
       "      <td>0.000000</td>\n",
       "      <td>0.000</td>\n",
       "      <td>0.000000</td>\n",
       "      <td>0.000000</td>\n",
       "      <td>0.000000</td>\n",
       "      <td>0.000000</td>\n",
       "      <td>0.000000</td>\n",
       "      <td>0.0000</td>\n",
       "      <td>0.000000</td>\n",
       "    </tr>\n",
       "    <tr>\n",
       "      <th>2021-05-01</th>\n",
       "      <td>0.000000</td>\n",
       "      <td>0.000000</td>\n",
       "      <td>0.000000</td>\n",
       "      <td>0.000000</td>\n",
       "      <td>0.000000</td>\n",
       "      <td>0.000</td>\n",
       "      <td>0.000000</td>\n",
       "      <td>0.000000</td>\n",
       "      <td>0.000000</td>\n",
       "      <td>0.000000</td>\n",
       "      <td>...</td>\n",
       "      <td>0.00000</td>\n",
       "      <td>0.000000</td>\n",
       "      <td>0.000</td>\n",
       "      <td>0.000000</td>\n",
       "      <td>0.000000</td>\n",
       "      <td>0.000000</td>\n",
       "      <td>0.000000</td>\n",
       "      <td>0.000000</td>\n",
       "      <td>0.0000</td>\n",
       "      <td>0.000000</td>\n",
       "    </tr>\n",
       "    <tr>\n",
       "      <th>2021-06-01</th>\n",
       "      <td>0.000000</td>\n",
       "      <td>0.000000</td>\n",
       "      <td>0.000000</td>\n",
       "      <td>0.000000</td>\n",
       "      <td>0.000000</td>\n",
       "      <td>0.000</td>\n",
       "      <td>0.000000</td>\n",
       "      <td>0.000000</td>\n",
       "      <td>0.000000</td>\n",
       "      <td>0.000000</td>\n",
       "      <td>...</td>\n",
       "      <td>0.00000</td>\n",
       "      <td>0.000000</td>\n",
       "      <td>0.000</td>\n",
       "      <td>0.000000</td>\n",
       "      <td>0.000000</td>\n",
       "      <td>0.000000</td>\n",
       "      <td>0.000000</td>\n",
       "      <td>0.000000</td>\n",
       "      <td>0.0000</td>\n",
       "      <td>0.000000</td>\n",
       "    </tr>\n",
       "    <tr>\n",
       "      <th>2021-07-01</th>\n",
       "      <td>0.000000</td>\n",
       "      <td>0.000000</td>\n",
       "      <td>0.000000</td>\n",
       "      <td>0.000000</td>\n",
       "      <td>0.000000</td>\n",
       "      <td>0.000</td>\n",
       "      <td>0.000000</td>\n",
       "      <td>0.000000</td>\n",
       "      <td>0.000000</td>\n",
       "      <td>0.000000</td>\n",
       "      <td>...</td>\n",
       "      <td>0.00000</td>\n",
       "      <td>0.000000</td>\n",
       "      <td>0.000</td>\n",
       "      <td>0.000000</td>\n",
       "      <td>0.000000</td>\n",
       "      <td>0.000000</td>\n",
       "      <td>0.000000</td>\n",
       "      <td>0.000000</td>\n",
       "      <td>0.0000</td>\n",
       "      <td>0.000000</td>\n",
       "    </tr>\n",
       "    <tr>\n",
       "      <th>2021-08-01</th>\n",
       "      <td>0.000000</td>\n",
       "      <td>0.000000</td>\n",
       "      <td>0.000000</td>\n",
       "      <td>0.000000</td>\n",
       "      <td>0.000000</td>\n",
       "      <td>0.000</td>\n",
       "      <td>0.000000</td>\n",
       "      <td>0.000000</td>\n",
       "      <td>0.000000</td>\n",
       "      <td>0.000000</td>\n",
       "      <td>...</td>\n",
       "      <td>0.00000</td>\n",
       "      <td>0.000000</td>\n",
       "      <td>0.000</td>\n",
       "      <td>0.000000</td>\n",
       "      <td>0.000000</td>\n",
       "      <td>0.000000</td>\n",
       "      <td>0.000000</td>\n",
       "      <td>0.000000</td>\n",
       "      <td>0.0000</td>\n",
       "      <td>0.000000</td>\n",
       "    </tr>\n",
       "    <tr>\n",
       "      <th>2021-09-01</th>\n",
       "      <td>0.000000</td>\n",
       "      <td>0.000000</td>\n",
       "      <td>0.000000</td>\n",
       "      <td>0.000000</td>\n",
       "      <td>0.000000</td>\n",
       "      <td>0.000</td>\n",
       "      <td>0.000000</td>\n",
       "      <td>0.000000</td>\n",
       "      <td>0.000000</td>\n",
       "      <td>0.000000</td>\n",
       "      <td>...</td>\n",
       "      <td>0.00000</td>\n",
       "      <td>0.000000</td>\n",
       "      <td>0.000</td>\n",
       "      <td>0.000000</td>\n",
       "      <td>0.000000</td>\n",
       "      <td>0.000000</td>\n",
       "      <td>0.000000</td>\n",
       "      <td>0.000000</td>\n",
       "      <td>0.0000</td>\n",
       "      <td>0.000000</td>\n",
       "    </tr>\n",
       "    <tr>\n",
       "      <th>2021-10-01</th>\n",
       "      <td>0.000000</td>\n",
       "      <td>0.000000</td>\n",
       "      <td>0.000000</td>\n",
       "      <td>0.000000</td>\n",
       "      <td>0.000000</td>\n",
       "      <td>0.000</td>\n",
       "      <td>0.000000</td>\n",
       "      <td>0.000000</td>\n",
       "      <td>0.000000</td>\n",
       "      <td>0.000000</td>\n",
       "      <td>...</td>\n",
       "      <td>0.00000</td>\n",
       "      <td>0.000000</td>\n",
       "      <td>0.000</td>\n",
       "      <td>0.000000</td>\n",
       "      <td>0.000000</td>\n",
       "      <td>0.000000</td>\n",
       "      <td>0.000000</td>\n",
       "      <td>0.000000</td>\n",
       "      <td>0.0000</td>\n",
       "      <td>0.000000</td>\n",
       "    </tr>\n",
       "    <tr>\n",
       "      <th>2021-11-01</th>\n",
       "      <td>0.000000</td>\n",
       "      <td>0.000000</td>\n",
       "      <td>0.000000</td>\n",
       "      <td>0.000000</td>\n",
       "      <td>0.000000</td>\n",
       "      <td>0.000</td>\n",
       "      <td>0.000000</td>\n",
       "      <td>0.000000</td>\n",
       "      <td>0.000000</td>\n",
       "      <td>0.000000</td>\n",
       "      <td>...</td>\n",
       "      <td>0.00000</td>\n",
       "      <td>0.000000</td>\n",
       "      <td>0.000</td>\n",
       "      <td>0.000000</td>\n",
       "      <td>0.000000</td>\n",
       "      <td>0.000000</td>\n",
       "      <td>0.000000</td>\n",
       "      <td>0.000000</td>\n",
       "      <td>0.0000</td>\n",
       "      <td>0.000000</td>\n",
       "    </tr>\n",
       "    <tr>\n",
       "      <th>2021-12-01</th>\n",
       "      <td>0.000000</td>\n",
       "      <td>0.000000</td>\n",
       "      <td>0.000000</td>\n",
       "      <td>0.000000</td>\n",
       "      <td>0.000000</td>\n",
       "      <td>0.000</td>\n",
       "      <td>0.000000</td>\n",
       "      <td>0.000000</td>\n",
       "      <td>0.000000</td>\n",
       "      <td>0.000000</td>\n",
       "      <td>...</td>\n",
       "      <td>955.54399</td>\n",
       "      <td>935.191998</td>\n",
       "      <td>776.511</td>\n",
       "      <td>610.984998</td>\n",
       "      <td>618.227994</td>\n",
       "      <td>761.557999</td>\n",
       "      <td>785.860998</td>\n",
       "      <td>761.050505</td>\n",
       "      <td>773.2595</td>\n",
       "      <td>723.571998</td>\n",
       "    </tr>\n",
       "  </tbody>\n",
       "</table>\n",
       "<p>12 rows × 365 columns</p>\n",
       "</div>"
      ],
      "text/plain": [
       "            Italy_2021-01-01_Holiday  Italy_2021-01-02_Saturday  \\\n",
       "Mese                                                              \n",
       "2021-01-01                597.368996                 662.733499   \n",
       "2021-02-01                  0.000000                   0.000000   \n",
       "2021-03-01                  0.000000                   0.000000   \n",
       "2021-04-01                  0.000000                   0.000000   \n",
       "2021-05-01                  0.000000                   0.000000   \n",
       "2021-06-01                  0.000000                   0.000000   \n",
       "2021-07-01                  0.000000                   0.000000   \n",
       "2021-08-01                  0.000000                   0.000000   \n",
       "2021-09-01                  0.000000                   0.000000   \n",
       "2021-10-01                  0.000000                   0.000000   \n",
       "2021-11-01                  0.000000                   0.000000   \n",
       "2021-12-01                  0.000000                   0.000000   \n",
       "\n",
       "            Italy_2021-01-03_Holiday  Italy_2021-01-04_Monday  \\\n",
       "Mese                                                            \n",
       "2021-01-01                624.469497               782.132998   \n",
       "2021-02-01                  0.000000                 0.000000   \n",
       "2021-03-01                  0.000000                 0.000000   \n",
       "2021-04-01                  0.000000                 0.000000   \n",
       "2021-05-01                  0.000000                 0.000000   \n",
       "2021-06-01                  0.000000                 0.000000   \n",
       "2021-07-01                  0.000000                 0.000000   \n",
       "2021-08-01                  0.000000                 0.000000   \n",
       "2021-09-01                  0.000000                 0.000000   \n",
       "2021-10-01                  0.000000                 0.000000   \n",
       "2021-11-01                  0.000000                 0.000000   \n",
       "2021-12-01                  0.000000                 0.000000   \n",
       "\n",
       "            Italy_2021-01-05_Working day  Italy_2021-01-06_Holiday  \\\n",
       "Mese                                                                 \n",
       "2021-01-01                    806.720001                   693.469   \n",
       "2021-02-01                      0.000000                     0.000   \n",
       "2021-03-01                      0.000000                     0.000   \n",
       "2021-04-01                      0.000000                     0.000   \n",
       "2021-05-01                      0.000000                     0.000   \n",
       "2021-06-01                      0.000000                     0.000   \n",
       "2021-07-01                      0.000000                     0.000   \n",
       "2021-08-01                      0.000000                     0.000   \n",
       "2021-09-01                      0.000000                     0.000   \n",
       "2021-10-01                      0.000000                     0.000   \n",
       "2021-11-01                      0.000000                     0.000   \n",
       "2021-12-01                      0.000000                     0.000   \n",
       "\n",
       "            Italy_2021-01-07_Working day  Italy_2021-01-08_Working day  \\\n",
       "Mese                                                                     \n",
       "2021-01-01                    914.726001                    935.038998   \n",
       "2021-02-01                      0.000000                      0.000000   \n",
       "2021-03-01                      0.000000                      0.000000   \n",
       "2021-04-01                      0.000000                      0.000000   \n",
       "2021-05-01                      0.000000                      0.000000   \n",
       "2021-06-01                      0.000000                      0.000000   \n",
       "2021-07-01                      0.000000                      0.000000   \n",
       "2021-08-01                      0.000000                      0.000000   \n",
       "2021-09-01                      0.000000                      0.000000   \n",
       "2021-10-01                      0.000000                      0.000000   \n",
       "2021-11-01                      0.000000                      0.000000   \n",
       "2021-12-01                      0.000000                      0.000000   \n",
       "\n",
       "            Italy_2021-01-09_Saturday  Italy_2021-01-10_Holiday  ...  \\\n",
       "Mese                                                             ...   \n",
       "2021-01-01                 791.720002                705.723499  ...   \n",
       "2021-02-01                   0.000000                  0.000000  ...   \n",
       "2021-03-01                   0.000000                  0.000000  ...   \n",
       "2021-04-01                   0.000000                  0.000000  ...   \n",
       "2021-05-01                   0.000000                  0.000000  ...   \n",
       "2021-06-01                   0.000000                  0.000000  ...   \n",
       "2021-07-01                   0.000000                  0.000000  ...   \n",
       "2021-08-01                   0.000000                  0.000000  ...   \n",
       "2021-09-01                   0.000000                  0.000000  ...   \n",
       "2021-10-01                   0.000000                  0.000000  ...   \n",
       "2021-11-01                   0.000000                  0.000000  ...   \n",
       "2021-12-01                   0.000000                  0.000000  ...   \n",
       "\n",
       "            Italy_2021-12-22_Working day  Italy_2021-12-23_Working day  \\\n",
       "Mese                                                                     \n",
       "2021-01-01                       0.00000                      0.000000   \n",
       "2021-02-01                       0.00000                      0.000000   \n",
       "2021-03-01                       0.00000                      0.000000   \n",
       "2021-04-01                       0.00000                      0.000000   \n",
       "2021-05-01                       0.00000                      0.000000   \n",
       "2021-06-01                       0.00000                      0.000000   \n",
       "2021-07-01                       0.00000                      0.000000   \n",
       "2021-08-01                       0.00000                      0.000000   \n",
       "2021-09-01                       0.00000                      0.000000   \n",
       "2021-10-01                       0.00000                      0.000000   \n",
       "2021-11-01                       0.00000                      0.000000   \n",
       "2021-12-01                     955.54399                    935.191998   \n",
       "\n",
       "            Italy_2021-12-24_Working day  Italy_2021-12-25_Holiday  \\\n",
       "Mese                                                                 \n",
       "2021-01-01                         0.000                  0.000000   \n",
       "2021-02-01                         0.000                  0.000000   \n",
       "2021-03-01                         0.000                  0.000000   \n",
       "2021-04-01                         0.000                  0.000000   \n",
       "2021-05-01                         0.000                  0.000000   \n",
       "2021-06-01                         0.000                  0.000000   \n",
       "2021-07-01                         0.000                  0.000000   \n",
       "2021-08-01                         0.000                  0.000000   \n",
       "2021-09-01                         0.000                  0.000000   \n",
       "2021-10-01                         0.000                  0.000000   \n",
       "2021-11-01                         0.000                  0.000000   \n",
       "2021-12-01                       776.511                610.984998   \n",
       "\n",
       "            Italy_2021-12-26_Holiday  Italy_2021-12-27_Monday  \\\n",
       "Mese                                                            \n",
       "2021-01-01                  0.000000                 0.000000   \n",
       "2021-02-01                  0.000000                 0.000000   \n",
       "2021-03-01                  0.000000                 0.000000   \n",
       "2021-04-01                  0.000000                 0.000000   \n",
       "2021-05-01                  0.000000                 0.000000   \n",
       "2021-06-01                  0.000000                 0.000000   \n",
       "2021-07-01                  0.000000                 0.000000   \n",
       "2021-08-01                  0.000000                 0.000000   \n",
       "2021-09-01                  0.000000                 0.000000   \n",
       "2021-10-01                  0.000000                 0.000000   \n",
       "2021-11-01                  0.000000                 0.000000   \n",
       "2021-12-01                618.227994               761.557999   \n",
       "\n",
       "            Italy_2021-12-28_Working day  Italy_2021-12-29_Working day  \\\n",
       "Mese                                                                     \n",
       "2021-01-01                      0.000000                      0.000000   \n",
       "2021-02-01                      0.000000                      0.000000   \n",
       "2021-03-01                      0.000000                      0.000000   \n",
       "2021-04-01                      0.000000                      0.000000   \n",
       "2021-05-01                      0.000000                      0.000000   \n",
       "2021-06-01                      0.000000                      0.000000   \n",
       "2021-07-01                      0.000000                      0.000000   \n",
       "2021-08-01                      0.000000                      0.000000   \n",
       "2021-09-01                      0.000000                      0.000000   \n",
       "2021-10-01                      0.000000                      0.000000   \n",
       "2021-11-01                      0.000000                      0.000000   \n",
       "2021-12-01                    785.860998                    761.050505   \n",
       "\n",
       "            Italy_2021-12-30_Working day  Italy_2021-12-31_Working day  \n",
       "Mese                                                                    \n",
       "2021-01-01                        0.0000                      0.000000  \n",
       "2021-02-01                        0.0000                      0.000000  \n",
       "2021-03-01                        0.0000                      0.000000  \n",
       "2021-04-01                        0.0000                      0.000000  \n",
       "2021-05-01                        0.0000                      0.000000  \n",
       "2021-06-01                        0.0000                      0.000000  \n",
       "2021-07-01                        0.0000                      0.000000  \n",
       "2021-08-01                        0.0000                      0.000000  \n",
       "2021-09-01                        0.0000                      0.000000  \n",
       "2021-10-01                        0.0000                      0.000000  \n",
       "2021-11-01                        0.0000                      0.000000  \n",
       "2021-12-01                      773.2595                    723.571998  \n",
       "\n",
       "[12 rows x 365 columns]"
      ]
     },
     "execution_count": 106,
     "metadata": {},
     "output_type": "execute_result"
    }
   ],
   "source": [
    "B = pd.DataFrame(B, index=Y_train.index, columns=norm_X.index)\n",
    "B"
   ]
  },
  {
   "cell_type": "code",
   "execution_count": 107,
   "metadata": {},
   "outputs": [],
   "source": [
    "with open('data/2_processed/PenNMF/B_{}.pkl'.format('_'.join(train_years)), 'wb') as file:\n",
    "    pickle.dump(B, file)"
   ]
  },
  {
   "cell_type": "code",
   "execution_count": 108,
   "metadata": {},
   "outputs": [
    {
     "data": {
      "text/plain": [
       "(5, 3)"
      ]
     },
     "execution_count": 108,
     "metadata": {},
     "output_type": "execute_result"
    }
   ],
   "source": [
    "A = np.array([\n",
    "    [1, 0, 0],\n",
    "    [1, 0, 0],\n",
    "    [0, 1, 0],\n",
    "    [0, 0, 1],\n",
    "    [0, 0, 1]\n",
    "])\n",
    "\n",
    "# A = np.array([\n",
    "#     [1, 0, 0],\n",
    "#     [0, 1, 0],\n",
    "#     [0, 0, 1]\n",
    "# ])\n",
    "\n",
    "# A = np.array([\n",
    "#     [1, 0, 0],\n",
    "#     [1, 0, 0],\n",
    "#     [0, 1, 0],\n",
    "#     [0, 1, 0],\n",
    "#     [0, 0, 1],\n",
    "#     [0, 0, 1]\n",
    "# ])\n",
    "\n",
    "A.shape"
   ]
  },
  {
   "cell_type": "markdown",
   "metadata": {},
   "source": [
    "# Initialize matrix $C$"
   ]
  },
  {
   "cell_type": "code",
   "execution_count": 109,
   "metadata": {},
   "outputs": [
    {
     "data": {
      "text/plain": [
       "Mese\n",
       "2021-01-01    27083.284488\n",
       "2021-02-01    24824.543014\n",
       "2021-03-01    26463.659500\n",
       "2021-04-01    23956.100005\n",
       "2021-05-01    24404.707491\n",
       "2021-06-01    27204.256011\n",
       "2021-07-01    30413.022475\n",
       "2021-08-01    26660.941487\n",
       "2021-09-01    27000.608978\n",
       "2021-10-01    26363.029513\n",
       "2021-11-01    26495.148006\n",
       "2021-12-01    27413.551487\n",
       "dtype: float64"
      ]
     },
     "execution_count": 109,
     "metadata": {},
     "output_type": "execute_result"
    }
   ],
   "source": [
    "month_cons = pd.Series([a.sum() for a in blocks], index=Y_train.index)\n",
    "month_cons"
   ]
  },
  {
   "cell_type": "code",
   "execution_count": 32,
   "metadata": {},
   "outputs": [
    {
     "data": {
      "text/html": [
       "<div>\n",
       "<style scoped>\n",
       "    .dataframe tbody tr th:only-of-type {\n",
       "        vertical-align: middle;\n",
       "    }\n",
       "\n",
       "    .dataframe tbody tr th {\n",
       "        vertical-align: top;\n",
       "    }\n",
       "\n",
       "    .dataframe thead th {\n",
       "        text-align: right;\n",
       "    }\n",
       "</style>\n",
       "<table border=\"1\" class=\"dataframe\">\n",
       "  <thead>\n",
       "    <tr style=\"text-align: right;\">\n",
       "      <th></th>\n",
       "      <th>Domestico</th>\n",
       "      <th>Industria</th>\n",
       "      <th>Servizi</th>\n",
       "    </tr>\n",
       "    <tr>\n",
       "      <th>Mese</th>\n",
       "      <th></th>\n",
       "      <th></th>\n",
       "      <th></th>\n",
       "    </tr>\n",
       "  </thead>\n",
       "  <tbody>\n",
       "    <tr>\n",
       "      <th>2020-01-01</th>\n",
       "      <td>0.239961</td>\n",
       "      <td>0.440527</td>\n",
       "      <td>0.319513</td>\n",
       "    </tr>\n",
       "    <tr>\n",
       "      <th>2020-02-01</th>\n",
       "      <td>0.215409</td>\n",
       "      <td>0.486718</td>\n",
       "      <td>0.297873</td>\n",
       "    </tr>\n",
       "    <tr>\n",
       "      <th>2020-03-01</th>\n",
       "      <td>0.269671</td>\n",
       "      <td>0.451209</td>\n",
       "      <td>0.279120</td>\n",
       "    </tr>\n",
       "    <tr>\n",
       "      <th>2020-04-01</th>\n",
       "      <td>0.288694</td>\n",
       "      <td>0.438650</td>\n",
       "      <td>0.272656</td>\n",
       "    </tr>\n",
       "    <tr>\n",
       "      <th>2020-05-01</th>\n",
       "      <td>0.219799</td>\n",
       "      <td>0.514784</td>\n",
       "      <td>0.265417</td>\n",
       "    </tr>\n",
       "    <tr>\n",
       "      <th>2020-06-01</th>\n",
       "      <td>0.204506</td>\n",
       "      <td>0.494285</td>\n",
       "      <td>0.301208</td>\n",
       "    </tr>\n",
       "    <tr>\n",
       "      <th>2020-07-01</th>\n",
       "      <td>0.212641</td>\n",
       "      <td>0.455873</td>\n",
       "      <td>0.331487</td>\n",
       "    </tr>\n",
       "    <tr>\n",
       "      <th>2020-08-01</th>\n",
       "      <td>0.271653</td>\n",
       "      <td>0.344135</td>\n",
       "      <td>0.384211</td>\n",
       "    </tr>\n",
       "    <tr>\n",
       "      <th>2020-09-01</th>\n",
       "      <td>0.195593</td>\n",
       "      <td>0.484587</td>\n",
       "      <td>0.319820</td>\n",
       "    </tr>\n",
       "    <tr>\n",
       "      <th>2020-10-01</th>\n",
       "      <td>0.205724</td>\n",
       "      <td>0.509206</td>\n",
       "      <td>0.285070</td>\n",
       "    </tr>\n",
       "    <tr>\n",
       "      <th>2020-11-01</th>\n",
       "      <td>0.227635</td>\n",
       "      <td>0.502493</td>\n",
       "      <td>0.269871</td>\n",
       "    </tr>\n",
       "    <tr>\n",
       "      <th>2020-12-01</th>\n",
       "      <td>0.271172</td>\n",
       "      <td>0.436728</td>\n",
       "      <td>0.292100</td>\n",
       "    </tr>\n",
       "    <tr>\n",
       "      <th>2021-01-01</th>\n",
       "      <td>0.263679</td>\n",
       "      <td>0.440113</td>\n",
       "      <td>0.296208</td>\n",
       "    </tr>\n",
       "    <tr>\n",
       "      <th>2021-02-01</th>\n",
       "      <td>0.232126</td>\n",
       "      <td>0.481513</td>\n",
       "      <td>0.286362</td>\n",
       "    </tr>\n",
       "    <tr>\n",
       "      <th>2021-03-01</th>\n",
       "      <td>0.226285</td>\n",
       "      <td>0.502267</td>\n",
       "      <td>0.271448</td>\n",
       "    </tr>\n",
       "    <tr>\n",
       "      <th>2021-04-01</th>\n",
       "      <td>0.221531</td>\n",
       "      <td>0.511776</td>\n",
       "      <td>0.266693</td>\n",
       "    </tr>\n",
       "    <tr>\n",
       "      <th>2021-05-01</th>\n",
       "      <td>0.196245</td>\n",
       "      <td>0.524060</td>\n",
       "      <td>0.279695</td>\n",
       "    </tr>\n",
       "    <tr>\n",
       "      <th>2021-06-01</th>\n",
       "      <td>0.197728</td>\n",
       "      <td>0.484058</td>\n",
       "      <td>0.318214</td>\n",
       "    </tr>\n",
       "    <tr>\n",
       "      <th>2021-07-01</th>\n",
       "      <td>0.211910</td>\n",
       "      <td>0.456102</td>\n",
       "      <td>0.331988</td>\n",
       "    </tr>\n",
       "    <tr>\n",
       "      <th>2021-08-01</th>\n",
       "      <td>0.265953</td>\n",
       "      <td>0.356040</td>\n",
       "      <td>0.378007</td>\n",
       "    </tr>\n",
       "    <tr>\n",
       "      <th>2021-09-01</th>\n",
       "      <td>0.188232</td>\n",
       "      <td>0.503458</td>\n",
       "      <td>0.308310</td>\n",
       "    </tr>\n",
       "    <tr>\n",
       "      <th>2021-10-01</th>\n",
       "      <td>0.199953</td>\n",
       "      <td>0.506834</td>\n",
       "      <td>0.293212</td>\n",
       "    </tr>\n",
       "    <tr>\n",
       "      <th>2021-11-01</th>\n",
       "      <td>0.215351</td>\n",
       "      <td>0.493685</td>\n",
       "      <td>0.290965</td>\n",
       "    </tr>\n",
       "    <tr>\n",
       "      <th>2021-12-01</th>\n",
       "      <td>0.260423</td>\n",
       "      <td>0.420648</td>\n",
       "      <td>0.318929</td>\n",
       "    </tr>\n",
       "  </tbody>\n",
       "</table>\n",
       "</div>"
      ],
      "text/plain": [
       "            Domestico  Industria   Servizi\n",
       "Mese                                      \n",
       "2020-01-01   0.239961   0.440527  0.319513\n",
       "2020-02-01   0.215409   0.486718  0.297873\n",
       "2020-03-01   0.269671   0.451209  0.279120\n",
       "2020-04-01   0.288694   0.438650  0.272656\n",
       "2020-05-01   0.219799   0.514784  0.265417\n",
       "2020-06-01   0.204506   0.494285  0.301208\n",
       "2020-07-01   0.212641   0.455873  0.331487\n",
       "2020-08-01   0.271653   0.344135  0.384211\n",
       "2020-09-01   0.195593   0.484587  0.319820\n",
       "2020-10-01   0.205724   0.509206  0.285070\n",
       "2020-11-01   0.227635   0.502493  0.269871\n",
       "2020-12-01   0.271172   0.436728  0.292100\n",
       "2021-01-01   0.263679   0.440113  0.296208\n",
       "2021-02-01   0.232126   0.481513  0.286362\n",
       "2021-03-01   0.226285   0.502267  0.271448\n",
       "2021-04-01   0.221531   0.511776  0.266693\n",
       "2021-05-01   0.196245   0.524060  0.279695\n",
       "2021-06-01   0.197728   0.484058  0.318214\n",
       "2021-07-01   0.211910   0.456102  0.331988\n",
       "2021-08-01   0.265953   0.356040  0.378007\n",
       "2021-09-01   0.188232   0.503458  0.308310\n",
       "2021-10-01   0.199953   0.506834  0.293212\n",
       "2021-11-01   0.215351   0.493685  0.290965\n",
       "2021-12-01   0.260423   0.420648  0.318929"
      ]
     },
     "execution_count": 32,
     "metadata": {},
     "output_type": "execute_result"
    }
   ],
   "source": [
    "concentrations_unnorm = Y_train.div(month_cons, axis=0) # type: ignore\n",
    "concentrations = concentrations_unnorm.div(concentrations_unnorm.sum(axis=1), axis=0)\n",
    "concentrations"
   ]
  },
  {
   "cell_type": "code",
   "execution_count": 33,
   "metadata": {},
   "outputs": [
    {
     "data": {
      "text/html": [
       "<div>\n",
       "<style scoped>\n",
       "    .dataframe tbody tr th:only-of-type {\n",
       "        vertical-align: middle;\n",
       "    }\n",
       "\n",
       "    .dataframe tbody tr th {\n",
       "        vertical-align: top;\n",
       "    }\n",
       "\n",
       "    .dataframe thead th {\n",
       "        text-align: right;\n",
       "    }\n",
       "</style>\n",
       "<table border=\"1\" class=\"dataframe\">\n",
       "  <thead>\n",
       "    <tr style=\"text-align: right;\">\n",
       "      <th></th>\n",
       "      <th>Component 1</th>\n",
       "      <th>Component 2</th>\n",
       "      <th>Component 3</th>\n",
       "      <th>Component 4</th>\n",
       "      <th>Component 5</th>\n",
       "    </tr>\n",
       "  </thead>\n",
       "  <tbody>\n",
       "    <tr>\n",
       "      <th>Italy_2020-01-01_Holiday</th>\n",
       "      <td>0.119980</td>\n",
       "      <td>0.119980</td>\n",
       "      <td>0.440527</td>\n",
       "      <td>0.159756</td>\n",
       "      <td>0.159756</td>\n",
       "    </tr>\n",
       "    <tr>\n",
       "      <th>Italy_2020-01-02_Working day</th>\n",
       "      <td>0.119980</td>\n",
       "      <td>0.119980</td>\n",
       "      <td>0.440527</td>\n",
       "      <td>0.159756</td>\n",
       "      <td>0.159756</td>\n",
       "    </tr>\n",
       "    <tr>\n",
       "      <th>Italy_2020-01-03_Working day</th>\n",
       "      <td>0.119980</td>\n",
       "      <td>0.119980</td>\n",
       "      <td>0.440527</td>\n",
       "      <td>0.159756</td>\n",
       "      <td>0.159756</td>\n",
       "    </tr>\n",
       "    <tr>\n",
       "      <th>Italy_2020-01-04_Saturday</th>\n",
       "      <td>0.119980</td>\n",
       "      <td>0.119980</td>\n",
       "      <td>0.440527</td>\n",
       "      <td>0.159756</td>\n",
       "      <td>0.159756</td>\n",
       "    </tr>\n",
       "    <tr>\n",
       "      <th>Italy_2020-01-05_Holiday</th>\n",
       "      <td>0.119980</td>\n",
       "      <td>0.119980</td>\n",
       "      <td>0.440527</td>\n",
       "      <td>0.159756</td>\n",
       "      <td>0.159756</td>\n",
       "    </tr>\n",
       "    <tr>\n",
       "      <th>...</th>\n",
       "      <td>...</td>\n",
       "      <td>...</td>\n",
       "      <td>...</td>\n",
       "      <td>...</td>\n",
       "      <td>...</td>\n",
       "    </tr>\n",
       "    <tr>\n",
       "      <th>Italy_2021-12-27_Monday</th>\n",
       "      <td>0.130211</td>\n",
       "      <td>0.130211</td>\n",
       "      <td>0.420648</td>\n",
       "      <td>0.159465</td>\n",
       "      <td>0.159465</td>\n",
       "    </tr>\n",
       "    <tr>\n",
       "      <th>Italy_2021-12-28_Working day</th>\n",
       "      <td>0.130211</td>\n",
       "      <td>0.130211</td>\n",
       "      <td>0.420648</td>\n",
       "      <td>0.159465</td>\n",
       "      <td>0.159465</td>\n",
       "    </tr>\n",
       "    <tr>\n",
       "      <th>Italy_2021-12-29_Working day</th>\n",
       "      <td>0.130211</td>\n",
       "      <td>0.130211</td>\n",
       "      <td>0.420648</td>\n",
       "      <td>0.159465</td>\n",
       "      <td>0.159465</td>\n",
       "    </tr>\n",
       "    <tr>\n",
       "      <th>Italy_2021-12-30_Working day</th>\n",
       "      <td>0.130211</td>\n",
       "      <td>0.130211</td>\n",
       "      <td>0.420648</td>\n",
       "      <td>0.159465</td>\n",
       "      <td>0.159465</td>\n",
       "    </tr>\n",
       "    <tr>\n",
       "      <th>Italy_2021-12-31_Working day</th>\n",
       "      <td>0.130211</td>\n",
       "      <td>0.130211</td>\n",
       "      <td>0.420648</td>\n",
       "      <td>0.159465</td>\n",
       "      <td>0.159465</td>\n",
       "    </tr>\n",
       "  </tbody>\n",
       "</table>\n",
       "<p>731 rows × 5 columns</p>\n",
       "</div>"
      ],
      "text/plain": [
       "                              Component 1  Component 2  Component 3  \\\n",
       "Italy_2020-01-01_Holiday         0.119980     0.119980     0.440527   \n",
       "Italy_2020-01-02_Working day     0.119980     0.119980     0.440527   \n",
       "Italy_2020-01-03_Working day     0.119980     0.119980     0.440527   \n",
       "Italy_2020-01-04_Saturday        0.119980     0.119980     0.440527   \n",
       "Italy_2020-01-05_Holiday         0.119980     0.119980     0.440527   \n",
       "...                                   ...          ...          ...   \n",
       "Italy_2021-12-27_Monday          0.130211     0.130211     0.420648   \n",
       "Italy_2021-12-28_Working day     0.130211     0.130211     0.420648   \n",
       "Italy_2021-12-29_Working day     0.130211     0.130211     0.420648   \n",
       "Italy_2021-12-30_Working day     0.130211     0.130211     0.420648   \n",
       "Italy_2021-12-31_Working day     0.130211     0.130211     0.420648   \n",
       "\n",
       "                              Component 4  Component 5  \n",
       "Italy_2020-01-01_Holiday         0.159756     0.159756  \n",
       "Italy_2020-01-02_Working day     0.159756     0.159756  \n",
       "Italy_2020-01-03_Working day     0.159756     0.159756  \n",
       "Italy_2020-01-04_Saturday        0.159756     0.159756  \n",
       "Italy_2020-01-05_Holiday         0.159756     0.159756  \n",
       "...                                   ...          ...  \n",
       "Italy_2021-12-27_Monday          0.159465     0.159465  \n",
       "Italy_2021-12-28_Working day     0.159465     0.159465  \n",
       "Italy_2021-12-29_Working day     0.159465     0.159465  \n",
       "Italy_2021-12-30_Working day     0.159465     0.159465  \n",
       "Italy_2021-12-31_Working day     0.159465     0.159465  \n",
       "\n",
       "[731 rows x 5 columns]"
      ]
     },
     "execution_count": 33,
     "metadata": {},
     "output_type": "execute_result"
    }
   ],
   "source": [
    "C_init_mean = pd.DataFrame(index=X_train.index)\n",
    "C_init_mean['month'] = pd.to_datetime(C_init_mean.index.str[6:16])\n",
    "C_init_mean['month'] = C_init_mean['month'].apply(lambda d: d.replace(day=1))\n",
    "for g in range(A.shape[1]):\n",
    "    sources_g = np.nonzero(A[:, g])[0]\n",
    "    for s in sources_g:\n",
    "        C_init_mean.loc[:, f\"Component {s+1}\"] = C_init_mean.merge(concentrations, left_on='month', right_index=True)[concentrations.columns[g]] / len(sources_g)\n",
    "C_init_mean.drop('month', axis=1, inplace=True)\n",
    "C_init_mean"
   ]
  },
  {
   "cell_type": "code",
   "execution_count": 34,
   "metadata": {},
   "outputs": [],
   "source": [
    "# with open('data/2_processed/PenNMF/C_init_mean.pkl', 'wb') as file:\n",
    "#     pickle.dump(C_init_mean, file)"
   ]
  },
  {
   "cell_type": "markdown",
   "metadata": {},
   "source": [
    "# PenNMF"
   ]
  },
  {
   "cell_type": "markdown",
   "metadata": {},
   "source": [
    "## Find suitable alpha parameter"
   ]
  },
  {
   "cell_type": "code",
   "execution_count": 110,
   "metadata": {},
   "outputs": [],
   "source": [
    "n_components = 5"
   ]
  },
  {
   "cell_type": "code",
   "execution_count": 111,
   "metadata": {},
   "outputs": [
    {
     "name": "stdout",
     "output_type": "stream",
     "text": [
      "0.46865517476248736 985701623.3276876\n",
      "4.754533863709456e-10\n"
     ]
    }
   ],
   "source": [
    "n = len(X_train)\n",
    "p = len(X_train.columns)\n",
    "n_components = len(C_init_mean.columns)\n",
    "\n",
    "C_init = initialize_W(X_train, n_components)\n",
    "# C_init = initialize_C_gaussian_prior(C_init_mean)\n",
    "S_init = normalize_curves(np.ones((n_components, p)))\n",
    "\n",
    "loss_nmf = _loss_nmf(X_train, C_init, S_init)\n",
    "loss_constraint = _loss_constraint(Y_train, B.values, C_init, A)\n",
    "\n",
    "print(loss_nmf, loss_constraint)\n",
    "print(loss_nmf / loss_constraint)"
   ]
  },
  {
   "cell_type": "code",
   "execution_count": 39,
   "metadata": {},
   "outputs": [
    {
     "name": "stderr",
     "output_type": "stream",
     "text": [
      "100%|██████████| 10/10 [00:35<00:00,  3.60s/it]\n"
     ]
    }
   ],
   "source": [
    "n_alphas = 10\n",
    "pow_min = -8\n",
    "pow_max = -5\n",
    "# alphas = 10 ** np.linspace(pow_min, pow_max, n_alphas)\n",
    "alphas = np.linspace(1e-10, 1e-9, n_alphas) # for uniform initilisation 5 components\n",
    "# alphas = np.linspace(5e-10, 5e-9, n_alphas) # for uniform initilisation 3 components\n",
    "# alphas = np.linspace(5e-8, 5e-7, n_alphas) # for gaussian initialisation\n",
    "n_runs = 10\n",
    "\n",
    "n_iter_df = pd.DataFrame(columns=alphas, index=range(n_runs))\n",
    "loss_nmf_df = pd.DataFrame(columns=alphas, index=range(n_runs))\n",
    "loss_constraint_df = pd.DataFrame(columns=alphas, index=range(n_runs))\n",
    "\n",
    "for alpha in tqdm(alphas):\n",
    "    n_iter = []\n",
    "    loss_nmf = []\n",
    "    loss_constraint = []\n",
    "\n",
    "    model = PenNMF(\n",
    "        n_components=n_components,\n",
    "        alpha=alpha\n",
    "    )\n",
    "\n",
    "    for runs in range(n_runs):\n",
    "        C_init = initialize_W(X_train, n_components)\n",
    "        # C_init = initialize_C_gaussian_prior(C_init_mean)\n",
    "        C = model.fit_transform(X_train.values, C_init.values, S_init, Y_train.values, A, B.values)\n",
    "\n",
    "        n_iter.append(model.n_iter_)\n",
    "        loss_nmf.append(model.losses_nmf_[-1])\n",
    "        loss_constraint.append(model.losses_constraint_[-1])\n",
    "    \n",
    "    n_iter_df[alpha] = n_iter\n",
    "    loss_nmf_df[alpha] = loss_nmf\n",
    "    loss_constraint_df[alpha] = loss_constraint\n",
    "    \n"
   ]
  },
  {
   "cell_type": "code",
   "execution_count": 40,
   "metadata": {},
   "outputs": [
    {
     "data": {
      "text/plain": [
       "<Axes: >"
      ]
     },
     "execution_count": 40,
     "metadata": {},
     "output_type": "execute_result"
    },
    {
     "data": {
      "image/png": "[encoded data removed]",
      "text/plain": [
       "<Figure size 640x480 with 1 Axes>"
      ]
     },
     "metadata": {},
     "output_type": "display_data"
    }
   ],
   "source": [
    "n_iter_df.mean(axis=0).plot()"
   ]
  },
  {
   "cell_type": "code",
   "execution_count": 41,
   "metadata": {},
   "outputs": [
    {
     "data": {
      "text/plain": [
       "<Axes: >"
      ]
     },
     "execution_count": 41,
     "metadata": {},
     "output_type": "execute_result"
    },
    {
     "data": {
      "image/png": "[encoded data removed]",
      "text/plain": [
       "<Figure size 640x480 with 1 Axes>"
      ]
     },
     "metadata": {},
     "output_type": "display_data"
    }
   ],
   "source": [
    "loss_nmf_df.mean(axis=0).plot()"
   ]
  },
  {
   "cell_type": "code",
   "execution_count": 42,
   "metadata": {},
   "outputs": [
    {
     "data": {
      "text/plain": [
       "<Axes: >"
      ]
     },
     "execution_count": 42,
     "metadata": {},
     "output_type": "execute_result"
    },
    {
     "data": {
      "image/png": "[encoded data removed]",
      "text/plain": [
       "<Figure size 640x480 with 1 Axes>"
      ]
     },
     "metadata": {},
     "output_type": "display_data"
    }
   ],
   "source": [
    "loss_nmf_df.boxplot()"
   ]
  },
  {
   "cell_type": "code",
   "execution_count": 43,
   "metadata": {},
   "outputs": [
    {
     "data": {
      "text/plain": [
       "1.000000e-10    0.007508\n",
       "2.000000e-10    0.007782\n",
       "3.000000e-10    0.010546\n",
       "4.000000e-10    0.013251\n",
       "5.000000e-10    0.013802\n",
       "6.000000e-10    0.013300\n",
       "7.000000e-10    0.013689\n",
       "8.000000e-10    0.014181\n",
       "9.000000e-10    0.014675\n",
       "1.000000e-09    0.014399\n",
       "dtype: float64"
      ]
     },
     "execution_count": 43,
     "metadata": {},
     "output_type": "execute_result"
    }
   ],
   "source": [
    "loss_nmf_df.median(axis=0)"
   ]
  },
  {
   "cell_type": "code",
   "execution_count": 44,
   "metadata": {},
   "outputs": [
    {
     "data": {
      "text/html": [
       "<div>\n",
       "<style scoped>\n",
       "    .dataframe tbody tr th:only-of-type {\n",
       "        vertical-align: middle;\n",
       "    }\n",
       "\n",
       "    .dataframe tbody tr th {\n",
       "        vertical-align: top;\n",
       "    }\n",
       "\n",
       "    .dataframe thead th {\n",
       "        text-align: right;\n",
       "    }\n",
       "</style>\n",
       "<table border=\"1\" class=\"dataframe\">\n",
       "  <thead>\n",
       "    <tr style=\"text-align: right;\">\n",
       "      <th></th>\n",
       "      <th>1.000000e-10</th>\n",
       "      <th>2.000000e-10</th>\n",
       "      <th>3.000000e-10</th>\n",
       "      <th>4.000000e-10</th>\n",
       "      <th>5.000000e-10</th>\n",
       "      <th>6.000000e-10</th>\n",
       "      <th>7.000000e-10</th>\n",
       "      <th>8.000000e-10</th>\n",
       "      <th>9.000000e-10</th>\n",
       "      <th>1.000000e-09</th>\n",
       "    </tr>\n",
       "  </thead>\n",
       "  <tbody>\n",
       "    <tr>\n",
       "      <th>0</th>\n",
       "      <td>0.012948</td>\n",
       "      <td>0.007901</td>\n",
       "      <td>0.013023</td>\n",
       "      <td>0.014347</td>\n",
       "      <td>0.014093</td>\n",
       "      <td>0.014809</td>\n",
       "      <td>0.014754</td>\n",
       "      <td>0.008476</td>\n",
       "      <td>0.014922</td>\n",
       "      <td>0.014137</td>\n",
       "    </tr>\n",
       "    <tr>\n",
       "      <th>1</th>\n",
       "      <td>0.012692</td>\n",
       "      <td>0.007601</td>\n",
       "      <td>0.007741</td>\n",
       "      <td>0.008184</td>\n",
       "      <td>0.008152</td>\n",
       "      <td>0.014111</td>\n",
       "      <td>0.013842</td>\n",
       "      <td>0.014155</td>\n",
       "      <td>0.012806</td>\n",
       "      <td>0.015245</td>\n",
       "    </tr>\n",
       "    <tr>\n",
       "      <th>2</th>\n",
       "      <td>0.013147</td>\n",
       "      <td>0.013275</td>\n",
       "      <td>0.007760</td>\n",
       "      <td>0.007915</td>\n",
       "      <td>0.013580</td>\n",
       "      <td>0.013447</td>\n",
       "      <td>0.013170</td>\n",
       "      <td>0.014207</td>\n",
       "      <td>0.014668</td>\n",
       "      <td>0.014108</td>\n",
       "    </tr>\n",
       "    <tr>\n",
       "      <th>3</th>\n",
       "      <td>0.007259</td>\n",
       "      <td>0.013693</td>\n",
       "      <td>0.007772</td>\n",
       "      <td>0.008076</td>\n",
       "      <td>0.013259</td>\n",
       "      <td>0.008404</td>\n",
       "      <td>0.014732</td>\n",
       "      <td>0.013801</td>\n",
       "      <td>0.014682</td>\n",
       "      <td>0.015331</td>\n",
       "    </tr>\n",
       "    <tr>\n",
       "      <th>4</th>\n",
       "      <td>0.007206</td>\n",
       "      <td>0.013568</td>\n",
       "      <td>0.013422</td>\n",
       "      <td>0.014065</td>\n",
       "      <td>0.014165</td>\n",
       "      <td>0.014399</td>\n",
       "      <td>0.013429</td>\n",
       "      <td>0.013523</td>\n",
       "      <td>0.012956</td>\n",
       "      <td>0.008990</td>\n",
       "    </tr>\n",
       "    <tr>\n",
       "      <th>5</th>\n",
       "      <td>0.007228</td>\n",
       "      <td>0.007663</td>\n",
       "      <td>0.013758</td>\n",
       "      <td>0.013105</td>\n",
       "      <td>0.008871</td>\n",
       "      <td>0.012779</td>\n",
       "      <td>0.013572</td>\n",
       "      <td>0.014750</td>\n",
       "      <td>0.014894</td>\n",
       "      <td>0.014433</td>\n",
       "    </tr>\n",
       "    <tr>\n",
       "      <th>6</th>\n",
       "      <td>0.007533</td>\n",
       "      <td>0.007526</td>\n",
       "      <td>0.014051</td>\n",
       "      <td>0.014208</td>\n",
       "      <td>0.014599</td>\n",
       "      <td>0.008304</td>\n",
       "      <td>0.013345</td>\n",
       "      <td>0.014931</td>\n",
       "      <td>0.013415</td>\n",
       "      <td>0.014678</td>\n",
       "    </tr>\n",
       "    <tr>\n",
       "      <th>7</th>\n",
       "      <td>0.012701</td>\n",
       "      <td>0.007544</td>\n",
       "      <td>0.007877</td>\n",
       "      <td>0.013825</td>\n",
       "      <td>0.014024</td>\n",
       "      <td>0.013137</td>\n",
       "      <td>0.013777</td>\n",
       "      <td>0.014853</td>\n",
       "      <td>0.015107</td>\n",
       "      <td>0.014366</td>\n",
       "    </tr>\n",
       "    <tr>\n",
       "      <th>8</th>\n",
       "      <td>0.007483</td>\n",
       "      <td>0.007542</td>\n",
       "      <td>0.008068</td>\n",
       "      <td>0.007916</td>\n",
       "      <td>0.014551</td>\n",
       "      <td>0.013154</td>\n",
       "      <td>0.013601</td>\n",
       "      <td>0.014652</td>\n",
       "      <td>0.008903</td>\n",
       "      <td>0.014939</td>\n",
       "    </tr>\n",
       "    <tr>\n",
       "      <th>9</th>\n",
       "      <td>0.007364</td>\n",
       "      <td>0.012713</td>\n",
       "      <td>0.013616</td>\n",
       "      <td>0.013397</td>\n",
       "      <td>0.008402</td>\n",
       "      <td>0.014273</td>\n",
       "      <td>0.014128</td>\n",
       "      <td>0.013210</td>\n",
       "      <td>0.015005</td>\n",
       "      <td>0.009935</td>\n",
       "    </tr>\n",
       "  </tbody>\n",
       "</table>\n",
       "</div>"
      ],
      "text/plain": [
       "   1.000000e-10  2.000000e-10  3.000000e-10  4.000000e-10  5.000000e-10  \\\n",
       "0      0.012948      0.007901      0.013023      0.014347      0.014093   \n",
       "1      0.012692      0.007601      0.007741      0.008184      0.008152   \n",
       "2      0.013147      0.013275      0.007760      0.007915      0.013580   \n",
       "3      0.007259      0.013693      0.007772      0.008076      0.013259   \n",
       "4      0.007206      0.013568      0.013422      0.014065      0.014165   \n",
       "5      0.007228      0.007663      0.013758      0.013105      0.008871   \n",
       "6      0.007533      0.007526      0.014051      0.014208      0.014599   \n",
       "7      0.012701      0.007544      0.007877      0.013825      0.014024   \n",
       "8      0.007483      0.007542      0.008068      0.007916      0.014551   \n",
       "9      0.007364      0.012713      0.013616      0.013397      0.008402   \n",
       "\n",
       "   6.000000e-10  7.000000e-10  8.000000e-10  9.000000e-10  1.000000e-09  \n",
       "0      0.014809      0.014754      0.008476      0.014922      0.014137  \n",
       "1      0.014111      0.013842      0.014155      0.012806      0.015245  \n",
       "2      0.013447      0.013170      0.014207      0.014668      0.014108  \n",
       "3      0.008404      0.014732      0.013801      0.014682      0.015331  \n",
       "4      0.014399      0.013429      0.013523      0.012956      0.008990  \n",
       "5      0.012779      0.013572      0.014750      0.014894      0.014433  \n",
       "6      0.008304      0.013345      0.014931      0.013415      0.014678  \n",
       "7      0.013137      0.013777      0.014853      0.015107      0.014366  \n",
       "8      0.013154      0.013601      0.014652      0.008903      0.014939  \n",
       "9      0.014273      0.014128      0.013210      0.015005      0.009935  "
      ]
     },
     "execution_count": 44,
     "metadata": {},
     "output_type": "execute_result"
    }
   ],
   "source": [
    "loss_nmf_df"
   ]
  },
  {
   "cell_type": "code",
   "execution_count": 45,
   "metadata": {},
   "outputs": [
    {
     "data": {
      "text/plain": [
       "<Axes: >"
      ]
     },
     "execution_count": 45,
     "metadata": {},
     "output_type": "execute_result"
    },
    {
     "data": {
      "image/png": "[encoded data removed]",
      "text/plain": [
       "<Figure size 640x480 with 1 Axes>"
      ]
     },
     "metadata": {},
     "output_type": "display_data"
    }
   ],
   "source": [
    "loss_constraint_df.mean(axis=0).plot()"
   ]
  },
  {
   "cell_type": "code",
   "execution_count": 46,
   "metadata": {},
   "outputs": [
    {
     "data": {
      "text/plain": [
       "Text(0.5, 0, 'alpha')"
      ]
     },
     "execution_count": 46,
     "metadata": {},
     "output_type": "execute_result"
    },
    {
     "data": {
      "image/png": "[encoded data removed]",
      "text/plain": [
       "<Figure size 800x600 with 2 Axes>"
      ]
     },
     "metadata": {},
     "output_type": "display_data"
    }
   ],
   "source": [
    "plt.figure(figsize=(8, 6))\n",
    "ax1 = plt.gca()\n",
    "loss_nmf_df.mean(axis=0).plot(ax=ax1, label='loss_nmf', marker='.')\n",
    "ax1.grid(None)\n",
    "ax1.legend()\n",
    "ax1.set_ylabel('Loss NMF')\n",
    "\n",
    "ax2 = ax1.twinx()\n",
    "loss_constraint_df.mean(axis=0).plot(ax=ax2, label='loss_constraint', marker='^', linestyle='dotted')\n",
    "ax2.grid(None)\n",
    "ax2.legend(loc='upper right', bbox_to_anchor=(1,0.94))\n",
    "ax2.set_ylabel('Loss Constraint')\n",
    "ax1.set_xlabel('alpha')\n",
    "# plt.xlim((0, 1e-8))"
   ]
  },
  {
   "cell_type": "code",
   "execution_count": 47,
   "metadata": {},
   "outputs": [
    {
     "data": {
      "application/vnd.plotly.v1+json": {
       "config": {
        "plotlyServerURL": "https://plot.ly"
       },
       "data": [
        {
         "hovertemplate": [
          "Index: 0<br>Alpha: 1.0e-10<br>Loss NMF: 0.009556164880856288",
          "Index: 1<br>Alpha: 2.0e-10<br>Loss NMF: 0.009902777215382519",
          "Index: 2<br>Alpha: 3.0e-10<br>Loss NMF: 0.010708941659971044",
          "Index: 3<br>Alpha: 4.0e-10<br>Loss NMF: 0.011503854432840556",
          "Index: 4<br>Alpha: 5.0e-10<br>Loss NMF: 0.012369694631477062",
          "Index: 5<br>Alpha: 6.0e-10<br>Loss NMF: 0.01268176706765379",
          "Index: 6<br>Alpha: 7.0e-10<br>Loss NMF: 0.01383490982403307",
          "Index: 7<br>Alpha: 8.0e-10<br>Loss NMF: 0.013655738100967773",
          "Index: 8<br>Alpha: 9.0e-10<br>Loss NMF: 0.013735719130776647",
          "Index: 9<br>Alpha: 1.0e-09<br>Loss NMF: 0.013615996689916574"
         ],
         "line": {
          "shape": "linear"
         },
         "marker": {
          "symbol": "circle"
         },
         "mode": "lines+markers",
         "name": "loss_nmf",
         "type": "scatter",
         "x": [
          1e-10,
          2.0000000000000003e-10,
          3.0000000000000005e-10,
          4.0000000000000007e-10,
          5e-10,
          6.000000000000001e-10,
          7.000000000000001e-10,
          8e-10,
          9.000000000000001e-10,
          1e-9
         ],
         "y": [
          0.009556164880856288,
          0.009902777215382519,
          0.010708941659971044,
          0.011503854432840556,
          0.012369694631477062,
          0.01268176706765379,
          0.01383490982403307,
          0.013655738100967773,
          0.013735719130776647,
          0.013615996689916574
         ]
        },
        {
         "hovertemplate": [
          "Index: 0<br>Alpha: 1.0e-10<br>Loss Constraint: 4954562.677710581",
          "Index: 1<br>Alpha: 2.0e-10<br>Loss Constraint: 2961794.2429109896",
          "Index: 2<br>Alpha: 3.0e-10<br>Loss Constraint: 1992444.855346507",
          "Index: 3<br>Alpha: 4.0e-10<br>Loss Constraint: 1486327.103911066",
          "Index: 4<br>Alpha: 5.0e-10<br>Loss Constraint: 1124161.894163865",
          "Index: 5<br>Alpha: 6.0e-10<br>Loss Constraint: 938667.7305746708",
          "Index: 6<br>Alpha: 7.0e-10<br>Loss Constraint: 836227.6957119185",
          "Index: 7<br>Alpha: 8.0e-10<br>Loss Constraint: 711530.132896961",
          "Index: 8<br>Alpha: 9.0e-10<br>Loss Constraint: 698524.8527455205",
          "Index: 9<br>Alpha: 1.0e-09<br>Loss Constraint: 634481.0180135801"
         ],
         "line": {
          "dash": "dot",
          "shape": "linear"
         },
         "marker": {
          "symbol": "triangle-up"
         },
         "mode": "lines+markers",
         "name": "loss_constraint",
         "type": "scatter",
         "x": [
          1e-10,
          2.0000000000000003e-10,
          3.0000000000000005e-10,
          4.0000000000000007e-10,
          5e-10,
          6.000000000000001e-10,
          7.000000000000001e-10,
          8e-10,
          9.000000000000001e-10,
          1e-9
         ],
         "y": [
          4954562.677710581,
          2961794.2429109896,
          1992444.855346507,
          1486327.103911066,
          1124161.894163865,
          938667.7305746708,
          836227.6957119185,
          711530.132896961,
          698524.8527455205,
          634481.0180135801
         ],
         "yaxis": "y2"
        }
       ],
       "layout": {
        "height": 400,
        "legend": {
         "x": 1,
         "y": 0.94
        },
        "template": {
         "data": {
          "bar": [
           {
            "error_x": {
             "color": "#2a3f5f"
            },
            "error_y": {
             "color": "#2a3f5f"
            },
            "marker": {
             "line": {
              "color": "#E5ECF6",
              "width": 0.5
             },
             "pattern": {
              "fillmode": "overlay",
              "size": 10,
              "solidity": 0.2
             }
            },
            "type": "bar"
           }
          ],
          "barpolar": [
           {
            "marker": {
             "line": {
              "color": "#E5ECF6",
              "width": 0.5
             },
             "pattern": {
              "fillmode": "overlay",
              "size": 10,
              "solidity": 0.2
             }
            },
            "type": "barpolar"
           }
          ],
          "carpet": [
           {
            "aaxis": {
             "endlinecolor": "#2a3f5f",
             "gridcolor": "white",
             "linecolor": "white",
             "minorgridcolor": "white",
             "startlinecolor": "#2a3f5f"
            },
            "baxis": {
             "endlinecolor": "#2a3f5f",
             "gridcolor": "white",
             "linecolor": "white",
             "minorgridcolor": "white",
             "startlinecolor": "#2a3f5f"
            },
            "type": "carpet"
           }
          ],
          "choropleth": [
           {
            "colorbar": {
             "outlinewidth": 0,
             "ticks": ""
            },
            "type": "choropleth"
           }
          ],
          "contour": [
           {
            "colorbar": {
             "outlinewidth": 0,
             "ticks": ""
            },
            "colorscale": [
             [
              0,
              "#0d0887"
             ],
             [
              0.1111111111111111,
              "#46039f"
             ],
             [
              0.2222222222222222,
              "#7201a8"
             ],
             [
              0.3333333333333333,
              "#9c179e"
             ],
             [
              0.4444444444444444,
              "#bd3786"
             ],
             [
              0.5555555555555556,
              "#d8576b"
             ],
             [
              0.6666666666666666,
              "#ed7953"
             ],
             [
              0.7777777777777778,
              "#fb9f3a"
             ],
             [
              0.8888888888888888,
              "#fdca26"
             ],
             [
              1,
              "#f0f921"
             ]
            ],
            "type": "contour"
           }
          ],
          "contourcarpet": [
           {
            "colorbar": {
             "outlinewidth": 0,
             "ticks": ""
            },
            "type": "contourcarpet"
           }
          ],
          "heatmap": [
           {
            "colorbar": {
             "outlinewidth": 0,
             "ticks": ""
            },
            "colorscale": [
             [
              0,
              "#0d0887"
             ],
             [
              0.1111111111111111,
              "#46039f"
             ],
             [
              0.2222222222222222,
              "#7201a8"
             ],
             [
              0.3333333333333333,
              "#9c179e"
             ],
             [
              0.4444444444444444,
              "#bd3786"
             ],
             [
              0.5555555555555556,
              "#d8576b"
             ],
             [
              0.6666666666666666,
              "#ed7953"
             ],
             [
              0.7777777777777778,
              "#fb9f3a"
             ],
             [
              0.8888888888888888,
              "#fdca26"
             ],
             [
              1,
              "#f0f921"
             ]
            ],
            "type": "heatmap"
           }
          ],
          "heatmapgl": [
           {
            "colorbar": {
             "outlinewidth": 0,
             "ticks": ""
            },
            "colorscale": [
             [
              0,
              "#0d0887"
             ],
             [
              0.1111111111111111,
              "#46039f"
             ],
             [
              0.2222222222222222,
              "#7201a8"
             ],
             [
              0.3333333333333333,
              "#9c179e"
             ],
             [
              0.4444444444444444,
              "#bd3786"
             ],
             [
              0.5555555555555556,
              "#d8576b"
             ],
             [
              0.6666666666666666,
              "#ed7953"
             ],
             [
              0.7777777777777778,
              "#fb9f3a"
             ],
             [
              0.8888888888888888,
              "#fdca26"
             ],
             [
              1,
              "#f0f921"
             ]
            ],
            "type": "heatmapgl"
           }
          ],
          "histogram": [
           {
            "marker": {
             "pattern": {
              "fillmode": "overlay",
              "size": 10,
              "solidity": 0.2
             }
            },
            "type": "histogram"
           }
          ],
          "histogram2d": [
           {
            "colorbar": {
             "outlinewidth": 0,
             "ticks": ""
            },
            "colorscale": [
             [
              0,
              "#0d0887"
             ],
             [
              0.1111111111111111,
              "#46039f"
             ],
             [
              0.2222222222222222,
              "#7201a8"
             ],
             [
              0.3333333333333333,
              "#9c179e"
             ],
             [
              0.4444444444444444,
              "#bd3786"
             ],
             [
              0.5555555555555556,
              "#d8576b"
             ],
             [
              0.6666666666666666,
              "#ed7953"
             ],
             [
              0.7777777777777778,
              "#fb9f3a"
             ],
             [
              0.8888888888888888,
              "#fdca26"
             ],
             [
              1,
              "#f0f921"
             ]
            ],
            "type": "histogram2d"
           }
          ],
          "histogram2dcontour": [
           {
            "colorbar": {
             "outlinewidth": 0,
             "ticks": ""
            },
            "colorscale": [
             [
              0,
              "#0d0887"
             ],
             [
              0.1111111111111111,
              "#46039f"
             ],
             [
              0.2222222222222222,
              "#7201a8"
             ],
             [
              0.3333333333333333,
              "#9c179e"
             ],
             [
              0.4444444444444444,
              "#bd3786"
             ],
             [
              0.5555555555555556,
              "#d8576b"
             ],
             [
              0.6666666666666666,
              "#ed7953"
             ],
             [
              0.7777777777777778,
              "#fb9f3a"
             ],
             [
              0.8888888888888888,
              "#fdca26"
             ],
             [
              1,
              "#f0f921"
             ]
            ],
            "type": "histogram2dcontour"
           }
          ],
          "mesh3d": [
           {
            "colorbar": {
             "outlinewidth": 0,
             "ticks": ""
            },
            "type": "mesh3d"
           }
          ],
          "parcoords": [
           {
            "line": {
             "colorbar": {
              "outlinewidth": 0,
              "ticks": ""
             }
            },
            "type": "parcoords"
           }
          ],
          "pie": [
           {
            "automargin": true,
            "type": "pie"
           }
          ],
          "scatter": [
           {
            "fillpattern": {
             "fillmode": "overlay",
             "size": 10,
             "solidity": 0.2
            },
            "type": "scatter"
           }
          ],
          "scatter3d": [
           {
            "line": {
             "colorbar": {
              "outlinewidth": 0,
              "ticks": ""
             }
            },
            "marker": {
             "colorbar": {
              "outlinewidth": 0,
              "ticks": ""
             }
            },
            "type": "scatter3d"
           }
          ],
          "scattercarpet": [
           {
            "marker": {
             "colorbar": {
              "outlinewidth": 0,
              "ticks": ""
             }
            },
            "type": "scattercarpet"
           }
          ],
          "scattergeo": [
           {
            "marker": {
             "colorbar": {
              "outlinewidth": 0,
              "ticks": ""
             }
            },
            "type": "scattergeo"
           }
          ],
          "scattergl": [
           {
            "marker": {
             "colorbar": {
              "outlinewidth": 0,
              "ticks": ""
             }
            },
            "type": "scattergl"
           }
          ],
          "scattermapbox": [
           {
            "marker": {
             "colorbar": {
              "outlinewidth": 0,
              "ticks": ""
             }
            },
            "type": "scattermapbox"
           }
          ],
          "scatterpolar": [
           {
            "marker": {
             "colorbar": {
              "outlinewidth": 0,
              "ticks": ""
             }
            },
            "type": "scatterpolar"
           }
          ],
          "scatterpolargl": [
           {
            "marker": {
             "colorbar": {
              "outlinewidth": 0,
              "ticks": ""
             }
            },
            "type": "scatterpolargl"
           }
          ],
          "scatterternary": [
           {
            "marker": {
             "colorbar": {
              "outlinewidth": 0,
              "ticks": ""
             }
            },
            "type": "scatterternary"
           }
          ],
          "surface": [
           {
            "colorbar": {
             "outlinewidth": 0,
             "ticks": ""
            },
            "colorscale": [
             [
              0,
              "#0d0887"
             ],
             [
              0.1111111111111111,
              "#46039f"
             ],
             [
              0.2222222222222222,
              "#7201a8"
             ],
             [
              0.3333333333333333,
              "#9c179e"
             ],
             [
              0.4444444444444444,
              "#bd3786"
             ],
             [
              0.5555555555555556,
              "#d8576b"
             ],
             [
              0.6666666666666666,
              "#ed7953"
             ],
             [
              0.7777777777777778,
              "#fb9f3a"
             ],
             [
              0.8888888888888888,
              "#fdca26"
             ],
             [
              1,
              "#f0f921"
             ]
            ],
            "type": "surface"
           }
          ],
          "table": [
           {
            "cells": {
             "fill": {
              "color": "#EBF0F8"
             },
             "line": {
              "color": "white"
             }
            },
            "header": {
             "fill": {
              "color": "#C8D4E3"
             },
             "line": {
              "color": "white"
             }
            },
            "type": "table"
           }
          ]
         },
         "layout": {
          "annotationdefaults": {
           "arrowcolor": "#2a3f5f",
           "arrowhead": 0,
           "arrowwidth": 1
          },
          "autotypenumbers": "strict",
          "coloraxis": {
           "colorbar": {
            "outlinewidth": 0,
            "ticks": ""
           }
          },
          "colorscale": {
           "diverging": [
            [
             0,
             "#8e0152"
            ],
            [
             0.1,
             "#c51b7d"
            ],
            [
             0.2,
             "#de77ae"
            ],
            [
             0.3,
             "#f1b6da"
            ],
            [
             0.4,
             "#fde0ef"
            ],
            [
             0.5,
             "#f7f7f7"
            ],
            [
             0.6,
             "#e6f5d0"
            ],
            [
             0.7,
             "#b8e186"
            ],
            [
             0.8,
             "#7fbc41"
            ],
            [
             0.9,
             "#4d9221"
            ],
            [
             1,
             "#276419"
            ]
           ],
           "sequential": [
            [
             0,
             "#0d0887"
            ],
            [
             0.1111111111111111,
             "#46039f"
            ],
            [
             0.2222222222222222,
             "#7201a8"
            ],
            [
             0.3333333333333333,
             "#9c179e"
            ],
            [
             0.4444444444444444,
             "#bd3786"
            ],
            [
             0.5555555555555556,
             "#d8576b"
            ],
            [
             0.6666666666666666,
             "#ed7953"
            ],
            [
             0.7777777777777778,
             "#fb9f3a"
            ],
            [
             0.8888888888888888,
             "#fdca26"
            ],
            [
             1,
             "#f0f921"
            ]
           ],
           "sequentialminus": [
            [
             0,
             "#0d0887"
            ],
            [
             0.1111111111111111,
             "#46039f"
            ],
            [
             0.2222222222222222,
             "#7201a8"
            ],
            [
             0.3333333333333333,
             "#9c179e"
            ],
            [
             0.4444444444444444,
             "#bd3786"
            ],
            [
             0.5555555555555556,
             "#d8576b"
            ],
            [
             0.6666666666666666,
             "#ed7953"
            ],
            [
             0.7777777777777778,
             "#fb9f3a"
            ],
            [
             0.8888888888888888,
             "#fdca26"
            ],
            [
             1,
             "#f0f921"
            ]
           ]
          },
          "colorway": [
           "#636efa",
           "#EF553B",
           "#00cc96",
           "#ab63fa",
           "#FFA15A",
           "#19d3f3",
           "#FF6692",
           "#B6E880",
           "#FF97FF",
           "#FECB52"
          ],
          "font": {
           "color": "#2a3f5f"
          },
          "geo": {
           "bgcolor": "white",
           "lakecolor": "white",
           "landcolor": "#E5ECF6",
           "showlakes": true,
           "showland": true,
           "subunitcolor": "white"
          },
          "hoverlabel": {
           "align": "left"
          },
          "hovermode": "closest",
          "mapbox": {
           "style": "light"
          },
          "paper_bgcolor": "white",
          "plot_bgcolor": "#E5ECF6",
          "polar": {
           "angularaxis": {
            "gridcolor": "white",
            "linecolor": "white",
            "ticks": ""
           },
           "bgcolor": "#E5ECF6",
           "radialaxis": {
            "gridcolor": "white",
            "linecolor": "white",
            "ticks": ""
           }
          },
          "scene": {
           "xaxis": {
            "backgroundcolor": "#E5ECF6",
            "gridcolor": "white",
            "gridwidth": 2,
            "linecolor": "white",
            "showbackground": true,
            "ticks": "",
            "zerolinecolor": "white"
           },
           "yaxis": {
            "backgroundcolor": "#E5ECF6",
            "gridcolor": "white",
            "gridwidth": 2,
            "linecolor": "white",
            "showbackground": true,
            "ticks": "",
            "zerolinecolor": "white"
           },
           "zaxis": {
            "backgroundcolor": "#E5ECF6",
            "gridcolor": "white",
            "gridwidth": 2,
            "linecolor": "white",
            "showbackground": true,
            "ticks": "",
            "zerolinecolor": "white"
           }
          },
          "shapedefaults": {
           "line": {
            "color": "#2a3f5f"
           }
          },
          "ternary": {
           "aaxis": {
            "gridcolor": "white",
            "linecolor": "white",
            "ticks": ""
           },
           "baxis": {
            "gridcolor": "white",
            "linecolor": "white",
            "ticks": ""
           },
           "bgcolor": "#E5ECF6",
           "caxis": {
            "gridcolor": "white",
            "linecolor": "white",
            "ticks": ""
           }
          },
          "title": {
           "x": 0.05
          },
          "xaxis": {
           "automargin": true,
           "gridcolor": "white",
           "linecolor": "white",
           "ticks": "",
           "title": {
            "standoff": 15
           },
           "zerolinecolor": "white",
           "zerolinewidth": 2
          },
          "yaxis": {
           "automargin": true,
           "gridcolor": "white",
           "linecolor": "white",
           "ticks": "",
           "title": {
            "standoff": 15
           },
           "zerolinecolor": "white",
           "zerolinewidth": 2
          }
         }
        },
        "title": {
         "text": "Loss vs Alpha"
        },
        "width": 1000,
        "xaxis": {
         "showgrid": false,
         "title": {
          "text": "Alpha"
         },
         "type": "log"
        },
        "yaxis": {
         "title": {
          "text": "Loss NMF"
         }
        },
        "yaxis2": {
         "overlaying": "y",
         "side": "right",
         "title": {
          "text": "Loss Constraint"
         }
        }
       }
      }
     },
     "metadata": {},
     "output_type": "display_data"
    }
   ],
   "source": [
    "loss_nmf = loss_nmf_df.mean(axis=0).values\n",
    "loss_constraint = loss_constraint_df.mean(axis=0).values\n",
    "\n",
    "# Create the hover text with indices\n",
    "hover_text_nmf = [f\"Index: {i}<br>Alpha: {alpha:.1e}<br>Loss NMF: {loss}\" for i, (alpha, loss) in enumerate(zip(alphas, loss_nmf))]\n",
    "hover_text_constraint = [f\"Index: {i}<br>Alpha: {alpha:.1e}<br>Loss Constraint: {loss}\" for i, (alpha, loss) in enumerate(zip(alphas, loss_constraint))]\n",
    "\n",
    "# Create traces\n",
    "trace1 = go.Scatter(\n",
    "    x=alphas,\n",
    "    y=loss_nmf,\n",
    "    mode='lines+markers',\n",
    "    name='loss_nmf',\n",
    "    marker=dict(symbol='circle'),\n",
    "    line=dict(shape='linear'),\n",
    "    hovertemplate=hover_text_nmf\n",
    ")\n",
    "\n",
    "trace2 = go.Scatter(\n",
    "    x=alphas,\n",
    "    y=loss_constraint,\n",
    "    mode='lines+markers',\n",
    "    name='loss_constraint',\n",
    "    marker=dict(symbol='triangle-up'),\n",
    "    line=dict(shape='linear', dash='dot'),\n",
    "    yaxis='y2',\n",
    "    hovertemplate=hover_text_constraint\n",
    ")\n",
    "\n",
    "# Create layout\n",
    "layout = go.Layout(\n",
    "    title='Loss vs Alpha',\n",
    "    xaxis=dict(\n",
    "        title='Alpha',\n",
    "        type='log',  # Use logarithmic scale for x-axis\n",
    "        # range=[-8, -5],  # Adjust range for log scale\n",
    "        showgrid=False\n",
    "    ),\n",
    "    yaxis=dict(\n",
    "        title='Loss NMF',\n",
    "    ),\n",
    "    yaxis2=dict(\n",
    "        title='Loss Constraint',\n",
    "        overlaying='y',\n",
    "        side='right'\n",
    "    ),\n",
    "    width=1000,\n",
    "    height=400,\n",
    "    legend=dict(x=1, y=0.94)\n",
    ")\n",
    "\n",
    "# Create figure\n",
    "fig = go.Figure(data=[trace1, trace2], layout=layout)\n",
    "\n",
    "# pio.write_html(fig, file='plot.html', auto_open=True)\n",
    "\n",
    "# Show plot\n",
    "fig.show()"
   ]
  },
  {
   "cell_type": "code",
   "execution_count": 54,
   "metadata": {},
   "outputs": [],
   "source": [
    "tol = 1e-5\n",
    "max_iter = 10000\n",
    "verbose = 0\n",
    "alpha = 3e-10\n",
    "\n",
    "model = PenNMF(\n",
    "    n_components=n_components,\n",
    "    alpha=alpha,\n",
    "    tol=tol,\n",
    "    max_iter=max_iter,\n",
    "    verbose=0\n",
    ")\n",
    "\n",
    "S_init = normalize_curves(np.ones((n_components, p)))\n",
    "# C_init = initialize_C_gaussian_prior(C_init_mean)\n",
    "C_init = initialize_W(X_train, n_components)\n",
    "\n",
    "C = model.fit_transform(X_train.values, C_init.values, S_init, Y_train.values, A, B.values)"
   ]
  },
  {
   "cell_type": "code",
   "execution_count": 55,
   "metadata": {},
   "outputs": [
    {
     "name": "stdout",
     "output_type": "stream",
     "text": [
      "Total loss:  0.008412797970677913\n",
      "\n",
      "Loss NMF:  0.007830435203071341\n",
      "Loss constraint:  1941209.2253552368\n"
     ]
    },
    {
     "data": {
      "image/png": "[encoded data removed]",
      "text/plain": [
       "<Figure size 800x500 with 2 Axes>"
      ]
     },
     "metadata": {},
     "output_type": "display_data"
    }
   ],
   "source": [
    "n_iter = model.n_iter_\n",
    "losses_nmf = model.losses_nmf_\n",
    "losses_constraint = model.losses_constraint_\n",
    "plt.figure(figsize=(8, 5))\n",
    "ax1 = plt.gca()\n",
    "ax1.plot(np.arange(0, n_iter + 1, 10), losses_nmf, label='loss_nmf')\n",
    "ax1.grid(None)\n",
    "ax1.legend()\n",
    "\n",
    "ax2 = ax1.twinx()\n",
    "ax2.plot(np.arange(0, n_iter + 1, 10), losses_constraint, linestyle='dotted', label='loss_constraint')\n",
    "ax2.grid(None)\n",
    "ax2.legend(loc='upper right', bbox_to_anchor=(1,0.94))\n",
    "\n",
    "ax1.set_xlabel('Iteration')\n",
    "ax1.set_ylabel('Loss NMF')\n",
    "ax2.set_ylabel('Loss constraint')\n",
    "\n",
    "print(\"Total loss: \", losses_nmf[-1] + alpha * losses_constraint[-1])\n",
    "print(\"\\nLoss NMF: \", losses_nmf[-1])\n",
    "print(\"Loss constraint: \", losses_constraint[-1])"
   ]
  },
  {
   "cell_type": "code",
   "execution_count": 56,
   "metadata": {},
   "outputs": [
    {
     "data": {
      "image/png": "[encoded data removed]",
      "text/plain": [
       "<Figure size 700x500 with 1 Axes>"
      ]
     },
     "metadata": {},
     "output_type": "display_data"
    }
   ],
   "source": [
    "plot_components(model.components_, labels=[f'$S_{i+1}^*$' for i in range(n_components)], marker=None, linewidth=1.5, figsize=(7, 5))\n",
    "ylim = plt.ylim((0, 0.12))"
   ]
  },
  {
   "cell_type": "markdown",
   "metadata": {},
   "source": [
    "## Compare with NMF"
   ]
  },
  {
   "cell_type": "code",
   "execution_count": 30,
   "metadata": {},
   "outputs": [
    {
     "data": {
      "image/png": "[encoded data removed]",
      "text/plain": [
       "<Figure size 700x500 with 1 Axes>"
      ]
     },
     "metadata": {},
     "output_type": "display_data"
    }
   ],
   "source": [
    "nmf = NMF(\n",
    "        n_components=n_components,\n",
    "        solver='mu',\n",
    "        tol=tol,\n",
    "        init='custom',\n",
    "        max_iter=max_iter,\n",
    "        verbose=verbose\n",
    ")\n",
    "\n",
    "C = nmf.fit_transform(\n",
    "            X_train.values,\n",
    "            W=C_init.values.copy(order='C'),\n",
    "            H=S_init\n",
    "        )\n",
    "\n",
    "plot_components(nmf.components_, labels=[f'$S_{i+1}^*$' for i in range(n_components)], marker=None, linewidth=1.5, figsize=(7, 5))\n",
    "ylim = plt.ylim((0, 0.09))"
   ]
  },
  {
   "cell_type": "code",
   "execution_count": 113,
   "metadata": {},
   "outputs": [
    {
     "data": {
      "text/plain": [
       "<Axes: >"
      ]
     },
     "execution_count": 113,
     "metadata": {},
     "output_type": "execute_result"
    },
    {
     "data": {
      "image/png": "[encoded data removed]",
      "text/plain": [
       "<Figure size 640x480 with 1 Axes>"
      ]
     },
     "metadata": {},
     "output_type": "display_data"
    }
   ],
   "source": [
    "concentrations = pd.DataFrame(C, index=X_train.index)\n",
    "concentrations.sum(axis=1).hist()"
   ]
  },
  {
   "cell_type": "markdown",
   "metadata": {},
   "source": [
    "<HR>"
   ]
  },
  {
   "cell_type": "markdown",
   "metadata": {},
   "source": [
    "# Tests"
   ]
  }
 ],
 "metadata": {
  "kernelspec": {
   "display_name": "EPF",
   "language": "python",
   "name": "python3"
  },
  "language_info": {
   "codemirror_mode": {
    "name": "ipython",
    "version": 3
   },
   "file_extension": ".py",
   "mimetype": "text/x-python",
   "name": "python",
   "nbconvert_exporter": "python",
   "pygments_lexer": "ipython3",
   "version": "3.11.3"
  }
 },
 "nbformat": 4,
 "nbformat_minor": 2
}
